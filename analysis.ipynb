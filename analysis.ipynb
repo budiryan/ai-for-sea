{
 "cells": [
  {
   "cell_type": "code",
   "execution_count": 1,
   "metadata": {
    "pycharm": {
     "is_executing": false,
     "name": "#%% \n"
    }
   },
   "outputs": [],
   "source": [
    "import pandas as pd\n",
    "%matplotlib inline\n",
    "import glob\n",
    "import os\n",
    "import numpy as np\n",
    "import gc\n",
    "\n",
    "from sklearn.metrics import roc_auc_score\n",
    "from sklearn.model_selection import StratifiedKFold\n",
    "from sklearn.ensemble import RandomForestRegressor, RandomForestClassifier"
   ]
  },
  {
   "cell_type": "code",
   "execution_count": 2,
   "metadata": {
    "pycharm": {
     "is_executing": false,
     "name": "#%%\n"
    }
   },
   "outputs": [],
   "source": [
    "DATA_PATH = 'data/safety/safety'"
   ]
  },
  {
   "cell_type": "markdown",
   "metadata": {
    "pycharm": {
     "name": "#%% md\n"
    }
   },
   "source": [
    "## Data Fields Description\n",
    "\n",
    "|      Field      |               Description               |\n",
    "|:---------------:|:---------------------------------------:|\n",
    "|    bookingID    |                 trip id                 |\n",
    "|     Accuracy    |    accuracy inferred by GPS in meters   |\n",
    "|     Bearing     |          GPS bearing in degree          |\n",
    "|  acceleration_x |  accelerometer reading at x axis (m/s2) |\n",
    "|  acceleration_y |  accelerometer reading at y axis (m/s2) |\n",
    "|  acceleration_z |  accelerometer reading at z axis (m/s2) |\n",
    "|      gyro_x     |   gyroscope reading in x axis (rad/s)   |\n",
    "|      gyro_y     |   gyroscope reading in y axis (rad/s)   |\n",
    "|      gyro_z     |   gyroscope reading in z axis (rad/s)   |\n",
    "|      second     | time of the record by number of seconds |\n",
    "|      Speed      |       speed measured by GPS in m/s      |\n",
    "\n"
   ]
  },
  {
   "cell_type": "code",
   "execution_count": 3,
   "metadata": {
    "pycharm": {
     "is_executing": false,
     "name": "#%%\n"
    }
   },
   "outputs": [],
   "source": [
    "# load labels\n",
    "labels_path = '{}/labels'.format(DATA_PATH)\n",
    "labels = pd.read_csv(glob.glob('{}/*.csv'.format(labels_path))[0])\n",
    "labels = labels.sort_values(by='bookingID')"
   ]
  },
  {
   "cell_type": "code",
   "execution_count": 4,
   "metadata": {
    "pycharm": {
     "is_executing": false,
     "name": "#%%\n"
    }
   },
   "outputs": [
    {
     "name": "stdout",
     "output_type": "stream",
     "text": [
      "(20018, 2)\n"
     ]
    },
    {
     "data": {
      "text/html": [
       "<div>\n",
       "<style scoped>\n",
       "    .dataframe tbody tr th:only-of-type {\n",
       "        vertical-align: middle;\n",
       "    }\n",
       "\n",
       "    .dataframe tbody tr th {\n",
       "        vertical-align: top;\n",
       "    }\n",
       "\n",
       "    .dataframe thead th {\n",
       "        text-align: right;\n",
       "    }\n",
       "</style>\n",
       "<table border=\"1\" class=\"dataframe\">\n",
       "  <thead>\n",
       "    <tr style=\"text-align: right;\">\n",
       "      <th></th>\n",
       "      <th>bookingID</th>\n",
       "      <th>label</th>\n",
       "    </tr>\n",
       "  </thead>\n",
       "  <tbody>\n",
       "    <tr>\n",
       "      <th>15035</th>\n",
       "      <td>0</td>\n",
       "      <td>0</td>\n",
       "    </tr>\n",
       "    <tr>\n",
       "      <th>13312</th>\n",
       "      <td>1</td>\n",
       "      <td>1</td>\n",
       "    </tr>\n",
       "    <tr>\n",
       "      <th>996</th>\n",
       "      <td>2</td>\n",
       "      <td>1</td>\n",
       "    </tr>\n",
       "    <tr>\n",
       "      <th>2328</th>\n",
       "      <td>4</td>\n",
       "      <td>1</td>\n",
       "    </tr>\n",
       "    <tr>\n",
       "      <th>5192</th>\n",
       "      <td>6</td>\n",
       "      <td>0</td>\n",
       "    </tr>\n",
       "  </tbody>\n",
       "</table>\n",
       "</div>"
      ],
      "text/plain": [
       "       bookingID  label\n",
       "15035          0      0\n",
       "13312          1      1\n",
       "996            2      1\n",
       "2328           4      1\n",
       "5192           6      0"
      ]
     },
     "execution_count": 4,
     "metadata": {},
     "output_type": "execute_result"
    }
   ],
   "source": [
    "print(labels.shape)\n",
    "labels.head()"
   ]
  },
  {
   "cell_type": "code",
   "execution_count": 5,
   "metadata": {
    "pycharm": {
     "is_executing": true,
     "name": "#%%\n"
    }
   },
   "outputs": [
    {
     "name": "stdout",
     "output_type": "stream",
     "text": [
      "loading feature:  data/safety/safety/features\\part-00000-e6120af0-10c2-4248-97c4-81baf4304e5c-c000.csv\n",
      "loading feature:  data/safety/safety/features\\part-00001-e6120af0-10c2-4248-97c4-81baf4304e5c-c000.csv\n",
      "loading feature:  data/safety/safety/features\\part-00002-e6120af0-10c2-4248-97c4-81baf4304e5c-c000.csv\n",
      "loading feature:  data/safety/safety/features\\part-00003-e6120af0-10c2-4248-97c4-81baf4304e5c-c000.csv\n",
      "loading feature:  data/safety/safety/features\\part-00004-e6120af0-10c2-4248-97c4-81baf4304e5c-c000.csv\n",
      "loading feature:  data/safety/safety/features\\part-00005-e6120af0-10c2-4248-97c4-81baf4304e5c-c000.csv\n",
      "loading feature:  data/safety/safety/features\\part-00006-e6120af0-10c2-4248-97c4-81baf4304e5c-c000.csv\n",
      "loading feature:  data/safety/safety/features\\part-00007-e6120af0-10c2-4248-97c4-81baf4304e5c-c000.csv\n",
      "loading feature:  data/safety/safety/features\\part-00008-e6120af0-10c2-4248-97c4-81baf4304e5c-c000.csv\n",
      "loading feature:  data/safety/safety/features\\part-00009-e6120af0-10c2-4248-97c4-81baf4304e5c-c000.csv\n"
     ]
    }
   ],
   "source": [
    "features_path = '{}/features'.format(DATA_PATH)\n",
    "features = pd.DataFrame()\n",
    "for f in glob.glob('{}/*.csv'.format(features_path)):\n",
    "    print('loading feature: ', f)\n",
    "    temp = pd.read_csv(f)\n",
    "    features = pd.concat([features, temp], axis=0)\n",
    "features = features.sort_values(by=['bookingID', 'second'])"
   ]
  },
  {
   "cell_type": "code",
   "execution_count": 6,
   "metadata": {
    "pycharm": {
     "is_executing": true,
     "name": "#%%\n"
    }
   },
   "outputs": [
    {
     "name": "stdout",
     "output_type": "stream",
     "text": [
      "(16135561, 11)\n"
     ]
    },
    {
     "data": {
      "text/html": [
       "<div>\n",
       "<style scoped>\n",
       "    .dataframe tbody tr th:only-of-type {\n",
       "        vertical-align: middle;\n",
       "    }\n",
       "\n",
       "    .dataframe tbody tr th {\n",
       "        vertical-align: top;\n",
       "    }\n",
       "\n",
       "    .dataframe thead th {\n",
       "        text-align: right;\n",
       "    }\n",
       "</style>\n",
       "<table border=\"1\" class=\"dataframe\">\n",
       "  <thead>\n",
       "    <tr style=\"text-align: right;\">\n",
       "      <th></th>\n",
       "      <th>bookingID</th>\n",
       "      <th>Accuracy</th>\n",
       "      <th>Bearing</th>\n",
       "      <th>acceleration_x</th>\n",
       "      <th>acceleration_y</th>\n",
       "      <th>acceleration_z</th>\n",
       "      <th>gyro_x</th>\n",
       "      <th>gyro_y</th>\n",
       "      <th>gyro_z</th>\n",
       "      <th>second</th>\n",
       "      <th>Speed</th>\n",
       "    </tr>\n",
       "  </thead>\n",
       "  <tbody>\n",
       "    <tr>\n",
       "      <th>1153972</th>\n",
       "      <td>0</td>\n",
       "      <td>12.0</td>\n",
       "      <td>143.298294</td>\n",
       "      <td>0.818112</td>\n",
       "      <td>-9.941461</td>\n",
       "      <td>-2.014999</td>\n",
       "      <td>-0.016245</td>\n",
       "      <td>-0.094040</td>\n",
       "      <td>0.070732</td>\n",
       "      <td>0.0</td>\n",
       "      <td>3.442991</td>\n",
       "    </tr>\n",
       "    <tr>\n",
       "      <th>712971</th>\n",
       "      <td>0</td>\n",
       "      <td>8.0</td>\n",
       "      <td>143.298294</td>\n",
       "      <td>0.546405</td>\n",
       "      <td>-9.835590</td>\n",
       "      <td>-2.038925</td>\n",
       "      <td>-0.047092</td>\n",
       "      <td>-0.078874</td>\n",
       "      <td>0.043187</td>\n",
       "      <td>1.0</td>\n",
       "      <td>0.228454</td>\n",
       "    </tr>\n",
       "    <tr>\n",
       "      <th>167611</th>\n",
       "      <td>0</td>\n",
       "      <td>8.0</td>\n",
       "      <td>143.298294</td>\n",
       "      <td>-1.706207</td>\n",
       "      <td>-9.270792</td>\n",
       "      <td>-1.209448</td>\n",
       "      <td>-0.028965</td>\n",
       "      <td>-0.032652</td>\n",
       "      <td>0.015390</td>\n",
       "      <td>2.0</td>\n",
       "      <td>0.228454</td>\n",
       "    </tr>\n",
       "    <tr>\n",
       "      <th>436147</th>\n",
       "      <td>0</td>\n",
       "      <td>8.0</td>\n",
       "      <td>143.298294</td>\n",
       "      <td>-1.416705</td>\n",
       "      <td>-9.548032</td>\n",
       "      <td>-1.860977</td>\n",
       "      <td>-0.022413</td>\n",
       "      <td>0.005049</td>\n",
       "      <td>-0.025753</td>\n",
       "      <td>3.0</td>\n",
       "      <td>0.228454</td>\n",
       "    </tr>\n",
       "    <tr>\n",
       "      <th>1423207</th>\n",
       "      <td>0</td>\n",
       "      <td>8.0</td>\n",
       "      <td>143.298294</td>\n",
       "      <td>-0.598145</td>\n",
       "      <td>-9.853534</td>\n",
       "      <td>-1.378574</td>\n",
       "      <td>-0.014297</td>\n",
       "      <td>-0.046206</td>\n",
       "      <td>0.021902</td>\n",
       "      <td>4.0</td>\n",
       "      <td>0.228454</td>\n",
       "    </tr>\n",
       "  </tbody>\n",
       "</table>\n",
       "</div>"
      ],
      "text/plain": [
       "         bookingID  Accuracy     Bearing  acceleration_x  acceleration_y  \\\n",
       "1153972          0      12.0  143.298294        0.818112       -9.941461   \n",
       "712971           0       8.0  143.298294        0.546405       -9.835590   \n",
       "167611           0       8.0  143.298294       -1.706207       -9.270792   \n",
       "436147           0       8.0  143.298294       -1.416705       -9.548032   \n",
       "1423207          0       8.0  143.298294       -0.598145       -9.853534   \n",
       "\n",
       "         acceleration_z    gyro_x    gyro_y    gyro_z  second     Speed  \n",
       "1153972       -2.014999 -0.016245 -0.094040  0.070732     0.0  3.442991  \n",
       "712971        -2.038925 -0.047092 -0.078874  0.043187     1.0  0.228454  \n",
       "167611        -1.209448 -0.028965 -0.032652  0.015390     2.0  0.228454  \n",
       "436147        -1.860977 -0.022413  0.005049 -0.025753     3.0  0.228454  \n",
       "1423207       -1.378574 -0.014297 -0.046206  0.021902     4.0  0.228454  "
      ]
     },
     "execution_count": 6,
     "metadata": {},
     "output_type": "execute_result"
    }
   ],
   "source": [
    "print(features.shape)\n",
    "features.head()"
   ]
  },
  {
   "cell_type": "code",
   "execution_count": 155,
   "metadata": {},
   "outputs": [],
   "source": [
    "def get_stopping_statistics(df):\n",
    "    # gets every vehicle stop in a trip and returns its start_time, end_time and diff\n",
    "    \n",
    "    # make sure all runs of ones are well-bounded\n",
    "    bounded = np.hstack(([1], df.Speed.values, [1]))\n",
    "\n",
    "    log = (bounded < 0.5) * 1\n",
    "    \n",
    "    # get 1 at run starts and -1 at run ends\n",
    "    diffs = np.diff(log)    \n",
    "  \n",
    "    # get indices if starts and ends\n",
    "    run_starts = np.where(diffs > 0)[0]\n",
    "    run_ends = np.where(diffs < 0)[0]\n",
    "    \n",
    "    interval = 7\n",
    "    end_stops = np.array([run_starts,run_ends,run_ends-run_starts]).T\n",
    "    end_stops = end_stops.astype(int)[:-1,1]\n",
    "    end_stops = end_stops[end_stops + interval < len(df.Speed.values) - 1]  \n",
    "    \n",
    "    n_stops = len(end_stops)\n",
    "    \n",
    "    if n_stops > 1:\n",
    "        hit = np.zeros(shape=(1 ,n_stops))\n",
    "        for i in range(n_stops):\n",
    "            # slope at acceleration    \n",
    "            start = end_stops[i]\n",
    "            hit[0, i] =  np.diff([df.Speed.values[start], df.Speed.values[start + interval]])\n",
    "    else:\n",
    "        hit = np.array([0])\n",
    "  \n",
    "    return [n_stops, hit.mean(), hit.max(), hit.std()]\n",
    "\n",
    "def get_relative_stopping_time(df):\n",
    "    last = round(len(df) * 0.05)\n",
    "    eps = 1\n",
    "\n",
    "    # determine the stopping ratio of last 5% of a trip\n",
    "    speed_red = df.Speed.values[len(df.Speed.values) - last:]\n",
    "    return len(speed_red[speed_red < 0 + eps]) / float(df.second.max()) \n",
    "\n",
    "def get_naive_distance(df):\n",
    "    return (((df['second'].shift(-1) - df['second'])).fillna(0) * df['Speed']).sum()\n",
    "\n",
    "def get_other_features(df):\n",
    "    n_stops, hit_mean, hit_max, hit_std = get_stopping_statistics(df)\n",
    "    naive_dist = get_naive_distance(df)\n",
    "    stopping_time_ratio = get_relative_stopping_time(df)\n",
    "    \n",
    "    d = {\n",
    "        'n_stops': n_stops,\n",
    "        'hit_mean': hit_mean,\n",
    "        'hit_max': hit_max,\n",
    "        'hit_std': hit_std,\n",
    "        'naive_distance': naive_dist,\n",
    "        'stopping_time_ratio': stopping_time_ratio,\n",
    "    }\n",
    "    return pd.Series(d, index=['n_stops', 'hit_mean', 'hit_max', 'hit_std', 'naive_distance', 'stopping_time_ratio']) "
   ]
  },
  {
   "cell_type": "code",
   "execution_count": 156,
   "metadata": {
    "pycharm": {
     "is_executing": true,
     "name": "#%%\n"
    }
   },
   "outputs": [],
   "source": [
    "def percentile25(x):\n",
    "    return x.quantile(0.25)\n",
    "\n",
    "def percentile50(x):\n",
    "    return x.median()\n",
    "\n",
    "def percentile75(x):\n",
    "    return x.quantile(0.75)\n",
    "\n",
    "aggregate_functions = ['mean', 'min', 'max', 'std', percentile25, percentile50, percentile75]\n",
    "agg_columns_excluded = ['bookingID', 'second']\n",
    "agg_dict = {c: aggregate_functions for c in features.columns if c not in agg_columns_excluded}\n",
    "agg_dict['second'] = ['max']\n",
    "\n",
    "other_features = features.groupby('bookingID', as_index=True).apply(get_other_features)\n",
    "other_features = other_features.reset_index()"
   ]
  },
  {
   "cell_type": "code",
   "execution_count": 157,
   "metadata": {
    "pycharm": {
     "is_executing": true,
     "name": "#%%\n"
    }
   },
   "outputs": [],
   "source": [
    "features_agg = features.groupby(['bookingID'], as_index=True).agg(agg_dict)\n",
    "features_agg.columns = features_agg.columns.map('_'.join)\n",
    "features_agg = features_agg.reset_index(drop=False)\n",
    "\n",
    "features_agg = pd.merge(features_agg, other_features, how='left', on='bookingID')\n",
    "labels_no_duplicate = labels.drop_duplicates(subset='bookingID')\n",
    "features_agg = pd.merge(features_agg, labels_no_duplicate, how='left', on='bookingID')"
   ]
  },
  {
   "cell_type": "code",
   "execution_count": 158,
   "metadata": {},
   "outputs": [],
   "source": [
    "feature_columns = [c for c in features_agg.columns.values if c not in ['bookingID', 'label']]\n",
    "label_column = 'label'"
   ]
  },
  {
   "cell_type": "code",
   "execution_count": 214,
   "metadata": {},
   "outputs": [],
   "source": [
    "NUM_SPLITS = 10\n",
    "splits = StratifiedKFold(n_splits=NUM_SPLITS, shuffle=True).split(features_agg[feature_columns], features_agg[label_column])\n",
    "out_of_fold_predictions = np.zeros(len(features_agg))"
   ]
  },
  {
   "cell_type": "code",
   "execution_count": 215,
   "metadata": {},
   "outputs": [
    {
     "name": "stdout",
     "output_type": "stream",
     "text": [
      "Fold:1\ttrain AUC: 0.862233944439211\tvalid AUC: 0.8408240215775857\n",
      "Fold:2\ttrain AUC: 0.8627734906945075\tvalid AUC: 0.8408240215775857\n",
      "Fold:3\ttrain AUC: 0.8628582186111229\tvalid AUC: 0.833714430894309\n",
      "Fold:4\ttrain AUC: 0.8623949146954586\tvalid AUC: 0.8532934444920972\n",
      "Fold:5\ttrain AUC: 0.858795613323358\tvalid AUC: 0.8273202120339952\n",
      "Fold:6\ttrain AUC: 0.8584950729143892\tvalid AUC: 0.8224986623863028\n",
      "Fold:7\ttrain AUC: 0.860943052130333\tvalid AUC: 0.8218987493267907\n",
      "Fold:8\ttrain AUC: 0.8623123248023725\tvalid AUC: 0.8288668920006439\n",
      "Fold:9\ttrain AUC: 0.8593673078295923\tvalid AUC: 0.8121343986303324\n",
      "Fold:10\ttrain AUC: 0.8616790252573789\tvalid AUC: 0.828806462868032\n"
     ]
    }
   ],
   "source": [
    "rf_params = {\n",
    "    'n_jobs': -1,\n",
    "    'n_estimators': 150,\n",
    "    'max_features': 'auto',\n",
    "    'max_depth': 5,\n",
    "    'min_samples_leaf': 2,\n",
    "}\n",
    "\n",
    "for i, (train_idx, valid_idx) in enumerate(splits):\n",
    "    train_X = features_agg[feature_columns].iloc[train_idx]\n",
    "    train_y = features_agg[label_column].iloc[train_idx]\n",
    "    val_X = features_agg[feature_columns].iloc[valid_idx]\n",
    "    val_y = features_agg[label_column].iloc[valid_idx]\n",
    "    \n",
    "    cf = RandomForestClassifier(**rf_params)\n",
    "    cf.fit(train_X, train_y)\n",
    "    \n",
    "    train_preds = cf.predict(train_X)\n",
    "    val_preds = cf.predict(val_X)\n",
    "    \n",
    "    out_of_fold_predictions[valid_idx] = val_preds\n",
    "    \n",
    "    print('Fold:{}\\ttrain AUC: {}\\tvalid AUC: {}'.format(i + 1, roc_auc_score(train_preds, train_y), roc_auc_score(val_preds, val_y)))"
   ]
  },
  {
   "cell_type": "code",
   "execution_count": 216,
   "metadata": {},
   "outputs": [
    {
     "name": "stdout",
     "output_type": "stream",
     "text": [
      "out of fold AUC score:  0.8310011875773259\n"
     ]
    }
   ],
   "source": [
    "print('out of fold AUC score: ', roc_auc_score(out_of_fold_predictions, features_agg[label_column]))"
   ]
  },
  {
   "cell_type": "code",
   "execution_count": 217,
   "metadata": {},
   "outputs": [],
   "source": [
    "importances = []\n",
    "for col, importance in zip(feature_columns, cf.feature_importances_):\n",
    "    importances.append((col, importance))\n",
    "importances = sorted(importances, key=lambda tup: tup[1], reverse=True)"
   ]
  },
  {
   "cell_type": "code",
   "execution_count": 218,
   "metadata": {},
   "outputs": [
    {
     "name": "stdout",
     "output_type": "stream",
     "text": [
      "Feature importances: \n",
      "second_max: 0.20746769931160933\n",
      "n_stops: 0.05886163365903187\n",
      "acceleration_z_std: 0.057785021727119815\n",
      "naive_distance: 0.04823031592429444\n",
      "acceleration_x_std: 0.04657478929458292\n",
      "acceleration_y_std: 0.029505546699194245\n",
      "acceleration_z_max: 0.028119257434318333\n",
      "Bearing_std: 0.02738867202992827\n",
      "gyro_x_std: 0.025054365226720544\n",
      "Speed_mean: 0.02498480043429227\n",
      "gyro_z_std: 0.021990444341173646\n",
      "hit_std: 0.02048098826291448\n",
      "acceleration_x_max: 0.01978653880438421\n",
      "hit_max: 0.019274249853699587\n",
      "gyro_y_max: 0.018590893090639365\n",
      "Speed_percentile50: 0.01785989996668483\n",
      "Speed_max: 0.0176703405270866\n",
      "Speed_percentile75: 0.017602736438108477\n",
      "gyro_x_min: 0.01722393321083056\n",
      "Speed_percentile25: 0.01654278428696231\n",
      "Bearing_max: 0.01617745976874374\n",
      "acceleration_x_min: 0.01464109683284206\n",
      "acceleration_z_min: 0.014474375813698795\n",
      "gyro_y_min: 0.01405581427761648\n",
      "gyro_x_max: 0.013715175393972495\n",
      "Speed_std: 0.01280098657462211\n",
      "gyro_z_max: 0.011697410985080096\n",
      "acceleration_y_percentile25: 0.009599650695791353\n",
      "Accuracy_max: 0.009272928056745143\n",
      "gyro_z_percentile25: 0.008335803837318247\n",
      "gyro_z_percentile75: 0.008204864049294127\n",
      "gyro_z_min: 0.00765428862858792\n",
      "acceleration_y_min: 0.007367700859546469\n",
      "gyro_y_std: 0.006880840852351748\n",
      "stopping_time_ratio: 0.006415552222162868\n",
      "acceleration_y_mean: 0.006399127791381504\n",
      "Bearing_min: 0.00632341931784913\n",
      "acceleration_y_percentile75: 0.0058048504761505654\n",
      "hit_mean: 0.005600638074951605\n",
      "Speed_min: 0.005481159738190473\n",
      "acceleration_y_percentile50: 0.004766922624061486\n",
      "gyro_x_percentile75: 0.004706682734601686\n",
      "Accuracy_percentile50: 0.004130377738045806\n",
      "Accuracy_std: 0.0037334182655848493\n",
      "gyro_y_percentile75: 0.0035726555492568614\n",
      "acceleration_y_max: 0.003259948434564651\n",
      "acceleration_z_percentile75: 0.0032528446127773015\n",
      "gyro_y_percentile25: 0.0031998865913325176\n",
      "gyro_x_percentile25: 0.003182253896121489\n",
      "Bearing_percentile25: 0.002818817498121816\n",
      "Accuracy_percentile25: 0.0020548552985178627\n",
      "acceleration_z_percentile50: 0.0020460329161123294\n",
      "gyro_y_mean: 0.0020319798452374262\n",
      "gyro_y_percentile50: 0.001976952596317352\n",
      "gyro_z_percentile50: 0.001976496308912941\n",
      "gyro_x_percentile50: 0.0019576074857512375\n",
      "acceleration_z_mean: 0.001949697461101182\n",
      "Bearing_mean: 0.0017526926635996257\n",
      "acceleration_z_percentile25: 0.0017167292093315566\n",
      "acceleration_x_mean: 0.00169231456332812\n",
      "acceleration_x_percentile25: 0.001594271034989847\n",
      "Accuracy_mean: 0.0015111562915452934\n",
      "acceleration_x_percentile50: 0.0014761384400894366\n",
      "Bearing_percentile50: 0.0014023582597002668\n",
      "gyro_z_mean: 0.0012543301403862496\n",
      "acceleration_x_percentile75: 0.001195882207738941\n",
      "Accuracy_percentile75: 0.0011405861441300574\n",
      "gyro_x_mean: 0.0011194676298829018\n",
      "Bearing_percentile75: 0.001075794479660643\n",
      "Accuracy_min: 0.0005527943087252312\n"
     ]
    }
   ],
   "source": [
    "print('Feature importances: ')\n",
    "for col, imp in importances:\n",
    "    print('{}: {}'.format(col, imp))"
   ]
  }
 ],
 "metadata": {
  "kernelspec": {
   "display_name": "Python 3",
   "language": "python",
   "name": "python3"
  },
  "language_info": {
   "codemirror_mode": {
    "name": "ipython",
    "version": 3
   },
   "file_extension": ".py",
   "mimetype": "text/x-python",
   "name": "python",
   "nbconvert_exporter": "python",
   "pygments_lexer": "ipython3",
   "version": "3.6.5"
  },
  "pycharm": {
   "stem_cell": {
    "cell_type": "raw",
    "metadata": {
     "collapsed": false
    },
    "source": []
   }
  }
 },
 "nbformat": 4,
 "nbformat_minor": 1
}
