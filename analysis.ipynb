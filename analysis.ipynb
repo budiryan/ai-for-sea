{
 "cells": [
  {
   "cell_type": "code",
   "execution_count": 37,
   "metadata": {
    "pycharm": {
     "is_executing": false,
     "name": "#%% \n"
    }
   },
   "outputs": [],
   "source": [
    "import pandas as pd\n",
    "%matplotlib inline\n",
    "import numpy as np\n",
    "from dataloader import load_ride_safety_train\n",
    "\n",
    "# sklearn\n",
    "from sklearn.metrics import roc_auc_score\n",
    "from sklearn.ensemble import RandomForestRegressor, ExtraTreesRegressor\n",
    "from sklearn.linear_model import Ridge\n",
    "\n",
    "from features.features import RideSafetyFeaturesAggregator\n",
    "from models.lightgbm import LGBWrapper\n",
    "from models.xgboost import XGBWrapper\n",
    "from models.sklearn import SklearnWrapper\n",
    "from utils import timer\n",
    "\n",
    "from models.helpers import train_cv, train_cv_predict_test\n"
   ]
  },
  {
   "cell_type": "code",
   "execution_count": 16,
   "metadata": {
    "pycharm": {
     "is_executing": false,
     "name": "#%%\n"
    }
   },
   "outputs": [],
   "source": [
    "DATA_PATH = 'data/safety/safety'\n"
   ]
  },
  {
   "cell_type": "markdown",
   "metadata": {
    "pycharm": {
     "name": "#%% md\n"
    }
   },
   "source": [
    "## Data Fields Description\n",
    "\n",
    "|      Field      |               Description               |\n",
    "|:---------------:|:---------------------------------------:|\n",
    "|    bookingID    |                 trip id                 |\n",
    "|     Accuracy    |    accuracy inferred by GPS in meters   |\n",
    "|     Bearing     |          GPS bearing in degree          |\n",
    "|  acceleration_x |  accelerometer reading at x axis (m/s2) |\n",
    "|  acceleration_y |  accelerometer reading at y axis (m/s2) |\n",
    "|  acceleration_z |  accelerometer reading at z axis (m/s2) |\n",
    "|      gyro_x     |   gyroscope reading in x axis (rad/s)   |\n",
    "|      gyro_y     |   gyroscope reading in y axis (rad/s)   |\n",
    "|      gyro_z     |   gyroscope reading in z axis (rad/s)   |\n",
    "|      second     | time of the record by number of seconds |\n",
    "|      Speed      |       speed measured by GPS in m/s      |\n",
    "\n"
   ]
  },
  {
   "cell_type": "code",
   "execution_count": 17,
   "outputs": [
    {
     "name": "stdout",
     "text": [
      "loaded feature file:  data/safety/safety/features\\part-00000-e6120af0-10c2-4248-97c4-81baf4304e5c-c000.csv\n",
      "loaded feature file:  data/safety/safety/features\\part-00001-e6120af0-10c2-4248-97c4-81baf4304e5c-c000.csv\n",
      "loaded feature file:  data/safety/safety/features\\part-00002-e6120af0-10c2-4248-97c4-81baf4304e5c-c000.csv\n",
      "loaded feature file:  data/safety/safety/features\\part-00003-e6120af0-10c2-4248-97c4-81baf4304e5c-c000.csv\n",
      "loaded feature file:  data/safety/safety/features\\part-00004-e6120af0-10c2-4248-97c4-81baf4304e5c-c000.csv\n",
      "loaded feature file:  data/safety/safety/features\\part-00005-e6120af0-10c2-4248-97c4-81baf4304e5c-c000.csv\n",
      "loaded feature file:  data/safety/safety/features\\part-00006-e6120af0-10c2-4248-97c4-81baf4304e5c-c000.csv\n",
      "loaded feature file:  data/safety/safety/features\\part-00007-e6120af0-10c2-4248-97c4-81baf4304e5c-c000.csv\n",
      "loaded feature file:  data/safety/safety/features\\part-00008-e6120af0-10c2-4248-97c4-81baf4304e5c-c000.csv\n",
      "loaded feature file:  data/safety/safety/features\\part-00009-e6120af0-10c2-4248-97c4-81baf4304e5c-c000.csv\n"
     ],
     "output_type": "stream"
    }
   ],
   "source": [
    "features, labels = load_ride_safety_train('{}/{}'.format(DATA_PATH, 'features'), '{}/{}'.format(DATA_PATH, 'labels'))\n"
   ],
   "metadata": {
    "collapsed": false,
    "pycharm": {
     "name": "#%%\n",
     "is_executing": false
    }
   }
  },
  {
   "cell_type": "code",
   "execution_count": 20,
   "outputs": [
    {
     "data": {
      "text/plain": "(16135561, 11)"
     },
     "metadata": {},
     "output_type": "execute_result",
     "execution_count": 20
    }
   ],
   "source": [
    "features.shape\n"
   ],
   "metadata": {
    "collapsed": false,
    "pycharm": {
     "name": "#%%\n",
     "is_executing": false
    }
   }
  },
  {
   "cell_type": "code",
   "execution_count": 22,
   "outputs": [
    {
     "name": "stdout",
     "text": [
      "(16135561, 11)\n"
     ],
     "output_type": "stream"
    },
    {
     "data": {
      "text/plain": "         bookingID  Accuracy     Bearing  acceleration_x  acceleration_y  \\\n1153972          0      12.0  143.298294        0.818112       -9.941461   \n712971           0       8.0  143.298294        0.546405       -9.835590   \n167611           0       8.0  143.298294       -1.706207       -9.270792   \n436147           0       8.0  143.298294       -1.416705       -9.548032   \n1423207          0       8.0  143.298294       -0.598145       -9.853534   \n\n         acceleration_z    gyro_x    gyro_y    gyro_z  second     Speed  \n1153972       -2.014999 -0.016245 -0.094040  0.070732     0.0  3.442991  \n712971        -2.038925 -0.047092 -0.078874  0.043187     1.0  0.228454  \n167611        -1.209448 -0.028965 -0.032652  0.015390     2.0  0.228454  \n436147        -1.860977 -0.022413  0.005049 -0.025753     3.0  0.228454  \n1423207       -1.378574 -0.014297 -0.046206  0.021902     4.0  0.228454  ",
      "text/html": "<div>\n<style scoped>\n    .dataframe tbody tr th:only-of-type {\n        vertical-align: middle;\n    }\n\n    .dataframe tbody tr th {\n        vertical-align: top;\n    }\n\n    .dataframe thead th {\n        text-align: right;\n    }\n</style>\n<table border=\"1\" class=\"dataframe\">\n  <thead>\n    <tr style=\"text-align: right;\">\n      <th></th>\n      <th>bookingID</th>\n      <th>Accuracy</th>\n      <th>Bearing</th>\n      <th>acceleration_x</th>\n      <th>acceleration_y</th>\n      <th>acceleration_z</th>\n      <th>gyro_x</th>\n      <th>gyro_y</th>\n      <th>gyro_z</th>\n      <th>second</th>\n      <th>Speed</th>\n    </tr>\n  </thead>\n  <tbody>\n    <tr>\n      <th>1153972</th>\n      <td>0</td>\n      <td>12.0</td>\n      <td>143.298294</td>\n      <td>0.818112</td>\n      <td>-9.941461</td>\n      <td>-2.014999</td>\n      <td>-0.016245</td>\n      <td>-0.094040</td>\n      <td>0.070732</td>\n      <td>0.0</td>\n      <td>3.442991</td>\n    </tr>\n    <tr>\n      <th>712971</th>\n      <td>0</td>\n      <td>8.0</td>\n      <td>143.298294</td>\n      <td>0.546405</td>\n      <td>-9.835590</td>\n      <td>-2.038925</td>\n      <td>-0.047092</td>\n      <td>-0.078874</td>\n      <td>0.043187</td>\n      <td>1.0</td>\n      <td>0.228454</td>\n    </tr>\n    <tr>\n      <th>167611</th>\n      <td>0</td>\n      <td>8.0</td>\n      <td>143.298294</td>\n      <td>-1.706207</td>\n      <td>-9.270792</td>\n      <td>-1.209448</td>\n      <td>-0.028965</td>\n      <td>-0.032652</td>\n      <td>0.015390</td>\n      <td>2.0</td>\n      <td>0.228454</td>\n    </tr>\n    <tr>\n      <th>436147</th>\n      <td>0</td>\n      <td>8.0</td>\n      <td>143.298294</td>\n      <td>-1.416705</td>\n      <td>-9.548032</td>\n      <td>-1.860977</td>\n      <td>-0.022413</td>\n      <td>0.005049</td>\n      <td>-0.025753</td>\n      <td>3.0</td>\n      <td>0.228454</td>\n    </tr>\n    <tr>\n      <th>1423207</th>\n      <td>0</td>\n      <td>8.0</td>\n      <td>143.298294</td>\n      <td>-0.598145</td>\n      <td>-9.853534</td>\n      <td>-1.378574</td>\n      <td>-0.014297</td>\n      <td>-0.046206</td>\n      <td>0.021902</td>\n      <td>4.0</td>\n      <td>0.228454</td>\n    </tr>\n  </tbody>\n</table>\n</div>"
     },
     "metadata": {},
     "output_type": "execute_result",
     "execution_count": 22
    }
   ],
   "source": [
    "print(features.shape)\n",
    "features.head()\n"
   ],
   "metadata": {
    "collapsed": false,
    "pycharm": {
     "name": "#%%\n",
     "is_executing": false
    }
   }
  },
  {
   "cell_type": "code",
   "execution_count": 24,
   "outputs": [
    {
     "name": "stdout",
     "text": [
      "----Aggregating features:  started\n",
      "----Aggregating features:  done in 270 seconds\n"
     ],
     "output_type": "stream"
    }
   ],
   "source": [
    "with timer('Aggregating features: '):\n",
    "    feature_aggregator = RideSafetyFeaturesAggregator(features)\n",
    "    features_agg = feature_aggregator.get_aggregated_features()\n"
   ],
   "metadata": {
    "collapsed": false,
    "pycharm": {
     "name": "#%%\n",
     "is_executing": false
    }
   }
  },
  {
   "cell_type": "code",
   "execution_count": 30,
   "metadata": {
    "pycharm": {
     "is_executing": false,
     "name": "#%%\n"
    }
   },
   "outputs": [],
   "source": [
    "labels_no_duplicate = labels.drop_duplicates(subset='bookingID')\n",
    "features_agg = pd.merge(features_agg, labels_no_duplicate, how='left', on='bookingID')\n"
   ]
  },
  {
   "cell_type": "code",
   "execution_count": 32,
   "outputs": [],
   "source": [
    "features_agg = features_agg.drop(['label_y'], axis=1)\n"
   ],
   "metadata": {
    "collapsed": false,
    "pycharm": {
     "name": "#%%\n",
     "is_executing": false
    }
   }
  },
  {
   "cell_type": "code",
   "execution_count": 27,
   "metadata": {
    "pycharm": {
     "is_executing": false
    }
   },
   "outputs": [],
   "source": [
    "feature_columns = [c for c in features_agg.columns.values if c not in ['bookingID', 'label']]\n",
    "label_column = 'label'\n"
   ]
  },
  {
   "cell_type": "code",
   "execution_count": 31,
   "outputs": [
    {
     "data": {
      "text/plain": "                                       0            1           2  \\\nbookingID                       0.000000     1.000000    2.000000   \nAccuracy_mean                  10.165339     3.718763    3.930626   \nAccuracy_min                    4.000000     3.000000    3.000000   \nAccuracy_max                   48.000000     7.709000    8.000000   \nAccuracy_std                    3.855898     0.597933    1.117354   \nAccuracy_percentile25           8.000000     3.000000    3.000000   \nAccuracy_percentile50           8.000000     3.900000    3.634000   \nAccuracy_percentile75          12.000000     4.000000    4.000000   \nBearing_mean                  176.526099   124.198590  173.794872   \nBearing_min                     0.037464     0.000000    1.000000   \nBearing_max                   359.979767   337.000000  354.000000   \nBearing_std                   129.231351    89.861236  119.316520   \nBearing_percentile25           38.211140    50.000000   22.000000   \nBearing_percentile50          144.299423   110.000000  233.000000   \nBearing_percentile75          312.013893   208.000000  288.000000   \nacceleration_x_mean            -0.711264    -0.525406    0.306786   \nacceleration_x_min             -4.692294    -5.352994   -2.971295   \nacceleration_x_max              4.782614     3.813341    1.956122   \nacceleration_x_std              0.928022     0.744157    0.756589   \nacceleration_x_percentile25    -1.185149    -0.841121   -0.198725   \nacceleration_x_percentile50    -0.725250    -0.563126    0.433364   \nacceleration_x_percentile75    -0.299371    -0.229374    0.824828   \nacceleration_y_mean            -9.613822     9.532086    9.843183   \nacceleration_y_min            -12.764703     6.623425    7.941810   \nacceleration_y_max             -6.119916    12.536156   13.333716   \nacceleration_y_std              0.639934     0.533915    0.505693   \nacceleration_y_percentile25    -9.903928     9.277177    9.693221   \nacceleration_y_percentile50    -9.622127     9.537963    9.814133   \nacceleration_y_percentile75    -9.344438     9.796757    9.961381   \nacceleration_z_mean            -1.619658    -2.198999    0.139347   \n...                                  ...          ...         ...   \ngyro_y_mean                    -0.006118    -0.007540   -0.012861   \ngyro_y_min                     -0.609930    -0.678183   -0.462000   \ngyro_y_max                      0.469724     0.470837    0.431695   \ngyro_y_std                      0.100225     0.091699    0.117321   \ngyro_y_percentile25            -0.046174    -0.033894   -0.044474   \ngyro_y_percentile50            -0.002239    -0.003491    0.001035   \ngyro_y_percentile75             0.032769     0.022907    0.021194   \ngyro_z_mean                    -0.004188     0.000405    0.002597   \ngyro_z_min                     -0.731892    -0.121265   -0.125907   \ngyro_z_max                      0.372807     0.235131    0.255884   \ngyro_z_std                      0.063685     0.033838    0.036215   \ngyro_z_percentile25            -0.029892    -0.014896   -0.008010   \ngyro_z_percentile50            -0.003522    -0.000384    0.001764   \ngyro_z_percentile75             0.020893     0.013334    0.013371   \nSpeed_mean                      8.994822     7.881588    3.157213   \nSpeed_min                      -1.000000    -1.000000    0.000000   \nSpeed_max                      22.946083    21.882141    9.360483   \nSpeed_std                       7.199919     7.059362    2.897762   \nSpeed_percentile25              1.490348     0.000000    0.000000   \nSpeed_percentile50              8.503366     6.904588    2.998761   \nSpeed_percentile75             15.645498    13.747929    5.299983   \nsecond_max                   1589.000000  1034.000000  825.000000   \nn_stops                         7.000000    18.000000    5.000000   \nhit_mean                        2.596531     1.436550    1.415263   \nhit_max                         9.927551    11.899200    5.499559   \nhit_std                         3.631771     4.198943    2.521282   \nnaive_distance               9115.483165  6714.655153  828.333583   \nstopping_time_ratio             0.000000     0.000967    0.000000   \nlabel_x                         0.000000     1.000000    1.000000   \nlabel_y                         0.000000     1.000000    1.000000   \n\n                                       3            4  \nbookingID                       4.000000     6.000000  \nAccuracy_mean                  10.000000     4.586721  \nAccuracy_min                   10.000000     3.000000  \nAccuracy_max                   10.000000    12.000000  \nAccuracy_std                    0.000000     1.329545  \nAccuracy_percentile25          10.000000     3.900000  \nAccuracy_percentile50          10.000000     4.004000  \nAccuracy_percentile75          10.000000     4.938500  \nBearing_mean                  151.807013   197.812785  \nBearing_min                     2.271227     0.000000  \nBearing_max                   353.855377   359.000000  \nBearing_std                    71.273774   111.868249  \nBearing_percentile25          103.085045    82.500000  \nBearing_percentile50          134.210114   256.000000  \nBearing_percentile75          197.172825   293.000000  \nacceleration_x_mean            -0.365117     0.490616  \nacceleration_x_min             -2.866458    -4.352792  \nacceleration_x_max              2.019635     5.593026  \nacceleration_x_std              0.527220     0.826271  \nacceleration_x_percentile25    -0.566518     0.144854  \nacceleration_x_percentile50    -0.381168     0.476461  \nacceleration_x_percentile75    -0.148863     0.762577  \nacceleration_y_mean            -9.406439     9.538043  \nacceleration_y_min            -18.847833     6.469330  \nacceleration_y_max             -7.064984    13.249917  \nacceleration_y_std              0.598023     0.617210  \nacceleration_y_percentile25    -9.603696     9.184438  \nacceleration_y_percentile50    -9.364999     9.562734  \nacceleration_y_percentile75    -9.178528     9.876384  \nacceleration_z_mean            -2.613639     2.355059  \n...                                  ...          ...  \ngyro_y_mean                     0.023232     0.000436  \ngyro_y_min                     -0.506531    -0.621802  \ngyro_y_max                      0.652628     0.532123  \ngyro_y_std                      0.112567     0.106815  \ngyro_y_percentile25            -0.018105    -0.020710  \ngyro_y_percentile50             0.024504     0.003724  \ngyro_y_percentile75             0.073195     0.025716  \ngyro_z_mean                    -0.000376     0.002930  \ngyro_z_min                     -0.348189    -0.348345  \ngyro_z_max                      0.505220     0.364534  \ngyro_z_std                      0.065927     0.057438  \ngyro_z_percentile25            -0.032884    -0.015118  \ngyro_z_percentile50            -0.001147     0.002902  \ngyro_z_percentile75             0.031477     0.022755  \nSpeed_mean                      6.150996     4.628921  \nSpeed_min                       0.000000     0.000000  \nSpeed_max                      19.780001    16.394695  \nSpeed_std                       5.595901     5.314844  \nSpeed_percentile25              2.190000     0.000000  \nSpeed_percentile50              3.310000     1.936962  \nSpeed_percentile75             10.222500     9.217060  \nsecond_max                   1094.000000  1094.000000  \nn_stops                         3.000000    18.000000  \nhit_mean                        2.100000     2.013214  \nhit_max                         6.200000     7.267421  \nhit_std                         2.899425     3.057833  \nnaive_distance               6731.350006  5065.688453  \nstopping_time_ratio             0.009141     0.009141  \nlabel_x                         1.000000     0.000000  \nlabel_y                         1.000000     0.000000  \n\n[73 rows x 5 columns]",
      "text/html": "<div>\n<style scoped>\n    .dataframe tbody tr th:only-of-type {\n        vertical-align: middle;\n    }\n\n    .dataframe tbody tr th {\n        vertical-align: top;\n    }\n\n    .dataframe thead th {\n        text-align: right;\n    }\n</style>\n<table border=\"1\" class=\"dataframe\">\n  <thead>\n    <tr style=\"text-align: right;\">\n      <th></th>\n      <th>0</th>\n      <th>1</th>\n      <th>2</th>\n      <th>3</th>\n      <th>4</th>\n    </tr>\n  </thead>\n  <tbody>\n    <tr>\n      <th>bookingID</th>\n      <td>0.000000</td>\n      <td>1.000000</td>\n      <td>2.000000</td>\n      <td>4.000000</td>\n      <td>6.000000</td>\n    </tr>\n    <tr>\n      <th>Accuracy_mean</th>\n      <td>10.165339</td>\n      <td>3.718763</td>\n      <td>3.930626</td>\n      <td>10.000000</td>\n      <td>4.586721</td>\n    </tr>\n    <tr>\n      <th>Accuracy_min</th>\n      <td>4.000000</td>\n      <td>3.000000</td>\n      <td>3.000000</td>\n      <td>10.000000</td>\n      <td>3.000000</td>\n    </tr>\n    <tr>\n      <th>Accuracy_max</th>\n      <td>48.000000</td>\n      <td>7.709000</td>\n      <td>8.000000</td>\n      <td>10.000000</td>\n      <td>12.000000</td>\n    </tr>\n    <tr>\n      <th>Accuracy_std</th>\n      <td>3.855898</td>\n      <td>0.597933</td>\n      <td>1.117354</td>\n      <td>0.000000</td>\n      <td>1.329545</td>\n    </tr>\n    <tr>\n      <th>Accuracy_percentile25</th>\n      <td>8.000000</td>\n      <td>3.000000</td>\n      <td>3.000000</td>\n      <td>10.000000</td>\n      <td>3.900000</td>\n    </tr>\n    <tr>\n      <th>Accuracy_percentile50</th>\n      <td>8.000000</td>\n      <td>3.900000</td>\n      <td>3.634000</td>\n      <td>10.000000</td>\n      <td>4.004000</td>\n    </tr>\n    <tr>\n      <th>Accuracy_percentile75</th>\n      <td>12.000000</td>\n      <td>4.000000</td>\n      <td>4.000000</td>\n      <td>10.000000</td>\n      <td>4.938500</td>\n    </tr>\n    <tr>\n      <th>Bearing_mean</th>\n      <td>176.526099</td>\n      <td>124.198590</td>\n      <td>173.794872</td>\n      <td>151.807013</td>\n      <td>197.812785</td>\n    </tr>\n    <tr>\n      <th>Bearing_min</th>\n      <td>0.037464</td>\n      <td>0.000000</td>\n      <td>1.000000</td>\n      <td>2.271227</td>\n      <td>0.000000</td>\n    </tr>\n    <tr>\n      <th>Bearing_max</th>\n      <td>359.979767</td>\n      <td>337.000000</td>\n      <td>354.000000</td>\n      <td>353.855377</td>\n      <td>359.000000</td>\n    </tr>\n    <tr>\n      <th>Bearing_std</th>\n      <td>129.231351</td>\n      <td>89.861236</td>\n      <td>119.316520</td>\n      <td>71.273774</td>\n      <td>111.868249</td>\n    </tr>\n    <tr>\n      <th>Bearing_percentile25</th>\n      <td>38.211140</td>\n      <td>50.000000</td>\n      <td>22.000000</td>\n      <td>103.085045</td>\n      <td>82.500000</td>\n    </tr>\n    <tr>\n      <th>Bearing_percentile50</th>\n      <td>144.299423</td>\n      <td>110.000000</td>\n      <td>233.000000</td>\n      <td>134.210114</td>\n      <td>256.000000</td>\n    </tr>\n    <tr>\n      <th>Bearing_percentile75</th>\n      <td>312.013893</td>\n      <td>208.000000</td>\n      <td>288.000000</td>\n      <td>197.172825</td>\n      <td>293.000000</td>\n    </tr>\n    <tr>\n      <th>acceleration_x_mean</th>\n      <td>-0.711264</td>\n      <td>-0.525406</td>\n      <td>0.306786</td>\n      <td>-0.365117</td>\n      <td>0.490616</td>\n    </tr>\n    <tr>\n      <th>acceleration_x_min</th>\n      <td>-4.692294</td>\n      <td>-5.352994</td>\n      <td>-2.971295</td>\n      <td>-2.866458</td>\n      <td>-4.352792</td>\n    </tr>\n    <tr>\n      <th>acceleration_x_max</th>\n      <td>4.782614</td>\n      <td>3.813341</td>\n      <td>1.956122</td>\n      <td>2.019635</td>\n      <td>5.593026</td>\n    </tr>\n    <tr>\n      <th>acceleration_x_std</th>\n      <td>0.928022</td>\n      <td>0.744157</td>\n      <td>0.756589</td>\n      <td>0.527220</td>\n      <td>0.826271</td>\n    </tr>\n    <tr>\n      <th>acceleration_x_percentile25</th>\n      <td>-1.185149</td>\n      <td>-0.841121</td>\n      <td>-0.198725</td>\n      <td>-0.566518</td>\n      <td>0.144854</td>\n    </tr>\n    <tr>\n      <th>acceleration_x_percentile50</th>\n      <td>-0.725250</td>\n      <td>-0.563126</td>\n      <td>0.433364</td>\n      <td>-0.381168</td>\n      <td>0.476461</td>\n    </tr>\n    <tr>\n      <th>acceleration_x_percentile75</th>\n      <td>-0.299371</td>\n      <td>-0.229374</td>\n      <td>0.824828</td>\n      <td>-0.148863</td>\n      <td>0.762577</td>\n    </tr>\n    <tr>\n      <th>acceleration_y_mean</th>\n      <td>-9.613822</td>\n      <td>9.532086</td>\n      <td>9.843183</td>\n      <td>-9.406439</td>\n      <td>9.538043</td>\n    </tr>\n    <tr>\n      <th>acceleration_y_min</th>\n      <td>-12.764703</td>\n      <td>6.623425</td>\n      <td>7.941810</td>\n      <td>-18.847833</td>\n      <td>6.469330</td>\n    </tr>\n    <tr>\n      <th>acceleration_y_max</th>\n      <td>-6.119916</td>\n      <td>12.536156</td>\n      <td>13.333716</td>\n      <td>-7.064984</td>\n      <td>13.249917</td>\n    </tr>\n    <tr>\n      <th>acceleration_y_std</th>\n      <td>0.639934</td>\n      <td>0.533915</td>\n      <td>0.505693</td>\n      <td>0.598023</td>\n      <td>0.617210</td>\n    </tr>\n    <tr>\n      <th>acceleration_y_percentile25</th>\n      <td>-9.903928</td>\n      <td>9.277177</td>\n      <td>9.693221</td>\n      <td>-9.603696</td>\n      <td>9.184438</td>\n    </tr>\n    <tr>\n      <th>acceleration_y_percentile50</th>\n      <td>-9.622127</td>\n      <td>9.537963</td>\n      <td>9.814133</td>\n      <td>-9.364999</td>\n      <td>9.562734</td>\n    </tr>\n    <tr>\n      <th>acceleration_y_percentile75</th>\n      <td>-9.344438</td>\n      <td>9.796757</td>\n      <td>9.961381</td>\n      <td>-9.178528</td>\n      <td>9.876384</td>\n    </tr>\n    <tr>\n      <th>acceleration_z_mean</th>\n      <td>-1.619658</td>\n      <td>-2.198999</td>\n      <td>0.139347</td>\n      <td>-2.613639</td>\n      <td>2.355059</td>\n    </tr>\n    <tr>\n      <th>...</th>\n      <td>...</td>\n      <td>...</td>\n      <td>...</td>\n      <td>...</td>\n      <td>...</td>\n    </tr>\n    <tr>\n      <th>gyro_y_mean</th>\n      <td>-0.006118</td>\n      <td>-0.007540</td>\n      <td>-0.012861</td>\n      <td>0.023232</td>\n      <td>0.000436</td>\n    </tr>\n    <tr>\n      <th>gyro_y_min</th>\n      <td>-0.609930</td>\n      <td>-0.678183</td>\n      <td>-0.462000</td>\n      <td>-0.506531</td>\n      <td>-0.621802</td>\n    </tr>\n    <tr>\n      <th>gyro_y_max</th>\n      <td>0.469724</td>\n      <td>0.470837</td>\n      <td>0.431695</td>\n      <td>0.652628</td>\n      <td>0.532123</td>\n    </tr>\n    <tr>\n      <th>gyro_y_std</th>\n      <td>0.100225</td>\n      <td>0.091699</td>\n      <td>0.117321</td>\n      <td>0.112567</td>\n      <td>0.106815</td>\n    </tr>\n    <tr>\n      <th>gyro_y_percentile25</th>\n      <td>-0.046174</td>\n      <td>-0.033894</td>\n      <td>-0.044474</td>\n      <td>-0.018105</td>\n      <td>-0.020710</td>\n    </tr>\n    <tr>\n      <th>gyro_y_percentile50</th>\n      <td>-0.002239</td>\n      <td>-0.003491</td>\n      <td>0.001035</td>\n      <td>0.024504</td>\n      <td>0.003724</td>\n    </tr>\n    <tr>\n      <th>gyro_y_percentile75</th>\n      <td>0.032769</td>\n      <td>0.022907</td>\n      <td>0.021194</td>\n      <td>0.073195</td>\n      <td>0.025716</td>\n    </tr>\n    <tr>\n      <th>gyro_z_mean</th>\n      <td>-0.004188</td>\n      <td>0.000405</td>\n      <td>0.002597</td>\n      <td>-0.000376</td>\n      <td>0.002930</td>\n    </tr>\n    <tr>\n      <th>gyro_z_min</th>\n      <td>-0.731892</td>\n      <td>-0.121265</td>\n      <td>-0.125907</td>\n      <td>-0.348189</td>\n      <td>-0.348345</td>\n    </tr>\n    <tr>\n      <th>gyro_z_max</th>\n      <td>0.372807</td>\n      <td>0.235131</td>\n      <td>0.255884</td>\n      <td>0.505220</td>\n      <td>0.364534</td>\n    </tr>\n    <tr>\n      <th>gyro_z_std</th>\n      <td>0.063685</td>\n      <td>0.033838</td>\n      <td>0.036215</td>\n      <td>0.065927</td>\n      <td>0.057438</td>\n    </tr>\n    <tr>\n      <th>gyro_z_percentile25</th>\n      <td>-0.029892</td>\n      <td>-0.014896</td>\n      <td>-0.008010</td>\n      <td>-0.032884</td>\n      <td>-0.015118</td>\n    </tr>\n    <tr>\n      <th>gyro_z_percentile50</th>\n      <td>-0.003522</td>\n      <td>-0.000384</td>\n      <td>0.001764</td>\n      <td>-0.001147</td>\n      <td>0.002902</td>\n    </tr>\n    <tr>\n      <th>gyro_z_percentile75</th>\n      <td>0.020893</td>\n      <td>0.013334</td>\n      <td>0.013371</td>\n      <td>0.031477</td>\n      <td>0.022755</td>\n    </tr>\n    <tr>\n      <th>Speed_mean</th>\n      <td>8.994822</td>\n      <td>7.881588</td>\n      <td>3.157213</td>\n      <td>6.150996</td>\n      <td>4.628921</td>\n    </tr>\n    <tr>\n      <th>Speed_min</th>\n      <td>-1.000000</td>\n      <td>-1.000000</td>\n      <td>0.000000</td>\n      <td>0.000000</td>\n      <td>0.000000</td>\n    </tr>\n    <tr>\n      <th>Speed_max</th>\n      <td>22.946083</td>\n      <td>21.882141</td>\n      <td>9.360483</td>\n      <td>19.780001</td>\n      <td>16.394695</td>\n    </tr>\n    <tr>\n      <th>Speed_std</th>\n      <td>7.199919</td>\n      <td>7.059362</td>\n      <td>2.897762</td>\n      <td>5.595901</td>\n      <td>5.314844</td>\n    </tr>\n    <tr>\n      <th>Speed_percentile25</th>\n      <td>1.490348</td>\n      <td>0.000000</td>\n      <td>0.000000</td>\n      <td>2.190000</td>\n      <td>0.000000</td>\n    </tr>\n    <tr>\n      <th>Speed_percentile50</th>\n      <td>8.503366</td>\n      <td>6.904588</td>\n      <td>2.998761</td>\n      <td>3.310000</td>\n      <td>1.936962</td>\n    </tr>\n    <tr>\n      <th>Speed_percentile75</th>\n      <td>15.645498</td>\n      <td>13.747929</td>\n      <td>5.299983</td>\n      <td>10.222500</td>\n      <td>9.217060</td>\n    </tr>\n    <tr>\n      <th>second_max</th>\n      <td>1589.000000</td>\n      <td>1034.000000</td>\n      <td>825.000000</td>\n      <td>1094.000000</td>\n      <td>1094.000000</td>\n    </tr>\n    <tr>\n      <th>n_stops</th>\n      <td>7.000000</td>\n      <td>18.000000</td>\n      <td>5.000000</td>\n      <td>3.000000</td>\n      <td>18.000000</td>\n    </tr>\n    <tr>\n      <th>hit_mean</th>\n      <td>2.596531</td>\n      <td>1.436550</td>\n      <td>1.415263</td>\n      <td>2.100000</td>\n      <td>2.013214</td>\n    </tr>\n    <tr>\n      <th>hit_max</th>\n      <td>9.927551</td>\n      <td>11.899200</td>\n      <td>5.499559</td>\n      <td>6.200000</td>\n      <td>7.267421</td>\n    </tr>\n    <tr>\n      <th>hit_std</th>\n      <td>3.631771</td>\n      <td>4.198943</td>\n      <td>2.521282</td>\n      <td>2.899425</td>\n      <td>3.057833</td>\n    </tr>\n    <tr>\n      <th>naive_distance</th>\n      <td>9115.483165</td>\n      <td>6714.655153</td>\n      <td>828.333583</td>\n      <td>6731.350006</td>\n      <td>5065.688453</td>\n    </tr>\n    <tr>\n      <th>stopping_time_ratio</th>\n      <td>0.000000</td>\n      <td>0.000967</td>\n      <td>0.000000</td>\n      <td>0.009141</td>\n      <td>0.009141</td>\n    </tr>\n    <tr>\n      <th>label_x</th>\n      <td>0.000000</td>\n      <td>1.000000</td>\n      <td>1.000000</td>\n      <td>1.000000</td>\n      <td>0.000000</td>\n    </tr>\n    <tr>\n      <th>label_y</th>\n      <td>0.000000</td>\n      <td>1.000000</td>\n      <td>1.000000</td>\n      <td>1.000000</td>\n      <td>0.000000</td>\n    </tr>\n  </tbody>\n</table>\n<p>73 rows × 5 columns</p>\n</div>"
     },
     "metadata": {},
     "output_type": "execute_result",
     "execution_count": 31
    }
   ],
   "source": [
    "features_agg.head().T\n"
   ],
   "metadata": {
    "collapsed": false,
    "pycharm": {
     "name": "#%%\n",
     "is_executing": false
    }
   }
  },
  {
   "cell_type": "markdown",
   "metadata": {},
   "source": [
    "## Modelling Part\n"
   ]
  },
  {
   "cell_type": "markdown",
   "source": [
    "### Ensemble of ridge regression on top of stacked LightGBM, XGBoost, RandomForest and ExtraTrees\n"
   ],
   "metadata": {
    "collapsed": false,
    "pycharm": {
     "name": "#%% md\n"
    }
   }
  },
  {
   "cell_type": "code",
   "execution_count": 38,
   "metadata": {
    "pycharm": {
     "is_executing": false
    }
   },
   "outputs": [],
   "source": [
    "NUM_SPLITS = 10\n"
   ]
  },
  {
   "cell_type": "code",
   "execution_count": 39,
   "metadata": {
    "pycharm": {
     "is_executing": false
    }
   },
   "outputs": [
    {
     "name": "stdout",
     "text": [
      "----Training LightGBM started\nTraining for fold:  1\n",
      "Training until validation scores don't improve for 2000 rounds.\n",
      "[1000]\ttraining's rmse: 0.356393\tvalid_1's rmse: 0.397818\n",
      "[2000]\ttraining's rmse: 0.324814\tvalid_1's rmse: 0.400048\n",
      "Early stopping, best iteration is:\n[416]\ttraining's rmse: 0.37694\tvalid_1's rmse: 0.396919\nTraining for fold:  2\nTraining until validation scores don't improve for 2000 rounds.",
      "\n",
      "[1000]\ttraining's rmse: 0.355517\tvalid_1's rmse: 0.398797\n",
      "[2000]\ttraining's rmse: 0.325105\tvalid_1's rmse: 0.399669\n",
      "Early stopping, best iteration is:\n[884]\ttraining's rmse: 0.359499\tvalid_1's rmse: 0.398554\nTraining for fold:  3\n",
      "Training until validation scores don't improve for 2000 rounds.\n",
      "[1000]\ttraining's rmse: 0.354959\tvalid_1's rmse: 0.402171\n",
      "[2000]\ttraining's rmse: 0.324645\tvalid_1's rmse: 0.405086\n",
      "Early stopping, best iteration is:\n[280]\ttraining's rmse: 0.382283\tvalid_1's rmse: 0.399594\nTraining for fold:  4\nTraining until validation scores don't improve for 2000 rounds.\n",
      "[1000]\ttraining's rmse: 0.355337\tvalid_1's rmse: 0.395786\n",
      "[2000]\ttraining's rmse: 0.325302\tvalid_1's rmse: 0.396874\n",
      "Early stopping, best iteration is:\n[962]\ttraining's rmse: 0.356668\tvalid_1's rmse: 0.395584\nTraining for fold:  5\n",
      "Training until validation scores don't improve for 2000 rounds.\n",
      "[1000]\ttraining's rmse: 0.355319\tvalid_1's rmse: 0.397085\n",
      "[2000]\ttraining's rmse: 0.324861\tvalid_1's rmse: 0.39891\n",
      "Early stopping, best iteration is:\n[859]\ttraining's rmse: 0.360271\tvalid_1's rmse: 0.396903\nTraining for fold:  6\n",
      "Training until validation scores don't improve for 2000 rounds.\n",
      "[1000]\ttraining's rmse: 0.3564\tvalid_1's rmse: 0.392525\n",
      "[2000]\ttraining's rmse: 0.325628\tvalid_1's rmse: 0.394793\n",
      "Early stopping, best iteration is:\n[499]\ttraining's rmse: 0.373881\tvalid_1's rmse: 0.391321\nTraining for fold:  7\nTraining until validation scores don't improve for 2000 rounds.",
      "\n",
      "[1000]\ttraining's rmse: 0.355959\tvalid_1's rmse: 0.396466\n",
      "[2000]\ttraining's rmse: 0.325074\tvalid_1's rmse: 0.39806\n",
      "Early stopping, best iteration is:\n[775]\ttraining's rmse: 0.363725\tvalid_1's rmse: 0.396094\nTraining for fold:  8\n",
      "Training until validation scores don't improve for 2000 rounds.\n",
      "[1000]\ttraining's rmse: 0.355549\tvalid_1's rmse: 0.400912\n",
      "[2000]\ttraining's rmse: 0.325303\tvalid_1's rmse: 0.403175\n",
      "Early stopping, best iteration is:\n[336]\ttraining's rmse: 0.379762\tvalid_1's rmse: 0.399397\nTraining for fold:  9\n",
      "Training until validation scores don't improve for 2000 rounds.\n",
      "[1000]\ttraining's rmse: 0.356407\tvalid_1's rmse: 0.390757\n",
      "[2000]\ttraining's rmse: 0.325873\tvalid_1's rmse: 0.39216\n",
      "Early stopping, best iteration is:\n[448]\ttraining's rmse: 0.376391\tvalid_1's rmse: 0.390339\nTraining for fold:  10\nTraining until validation scores don't improve for 2000 rounds.",
      "\n",
      "[1000]\ttraining's rmse: 0.355085\tvalid_1's rmse: 0.396343\n",
      "[2000]\ttraining's rmse: 0.324954\tvalid_1's rmse: 0.398773\n",
      "Early stopping, best iteration is:\n[665]\ttraining's rmse: 0.366941\tvalid_1's rmse: 0.395885\n----Training LightGBM done in 38 seconds\n"
     ],
     "output_type": "stream"
    }
   ],
   "source": [
    "lgbm_params = {\n",
    "    'task': 'train',\n",
    "    'boosting_type': 'gbdt',\n",
    "    'objective': 'regression',\n",
    "    'metric': 'rmse',\n",
    "    'nrounds': 50000,\n",
    "    'early_stop_rounds': 2000,\n",
    "    # trainable params\n",
    "    'max_depth': 4,\n",
    "    'num_leaves': 46,\n",
    "    'feature_fraction': 0.6,\n",
    "    'bagging_fraction': 0.9,\n",
    "    'bagging_freq': 8,\n",
    "    'learning_rate': 0.019,\n",
    "    'verbose': 0\n",
    "}\n",
    "lgb_wrapper = LGBWrapper(lgbm_params)\n",
    "\n",
    "with timer('Training LightGBM'):\n",
    "    lgb_oof_train = train_cv(lgb_wrapper, num_splits=NUM_SPLITS, X=features_agg[feature_columns], y=features_agg[label_column])\n"
   ]
  },
  {
   "cell_type": "code",
   "execution_count": 40,
   "metadata": {
    "pycharm": {
     "is_executing": false
    }
   },
   "outputs": [
    {
     "name": "stdout",
     "text": [
      "----Training Xgboost started\nTraining for fold:  1\n",
      "[0]\ttrain-rmse:0.495986\tvalid-rmse:0.496144\n",
      "Multiple eval metrics have been passed: 'valid-rmse' will be used for early stopping.\n\n",
      "Will train until valid-rmse hasn't improved in 2000 rounds.\n",
      "[1000]\ttrain-rmse:0.310271\tvalid-rmse:0.399176\n",
      "[2000]\ttrain-rmse:0.264811\tvalid-rmse:0.401426\n",
      "Stopping. Best iteration:\n[240]\ttrain-rmse:0.366753\tvalid-rmse:0.397454\n\n",
      "Training for fold:  2\n[0]\ttrain-rmse:0.496019\tvalid-rmse:0.496043\n",
      "Multiple eval metrics have been passed: 'valid-rmse' will be used for early stopping.\n\n",
      "Will train until valid-rmse hasn't improved in 2000 rounds.\n",
      "[1000]\ttrain-rmse:0.311868\tvalid-rmse:0.39332\n",
      "[2000]\ttrain-rmse:0.26583\tvalid-rmse:0.395369\n",
      "Stopping. Best iteration:\n[349]\ttrain-rmse:0.357771\tvalid-rmse:0.391815\n\n",
      "Training for fold:  3\n[0]\ttrain-rmse:0.496045\tvalid-rmse:0.496229\n",
      "Multiple eval metrics have been passed: 'valid-rmse' will be used for early stopping.\n\n",
      "Will train until valid-rmse hasn't improved in 2000 rounds.\n",
      "[1000]\ttrain-rmse:0.30963\tvalid-rmse:0.399398\n",
      "[2000]\ttrain-rmse:0.264311\tvalid-rmse:0.402001\n",
      "Stopping. Best iteration:\n[297]\ttrain-rmse:0.361962\tvalid-rmse:0.396444\n\n",
      "Training for fold:  4\n[0]\ttrain-rmse:0.495973\tvalid-rmse:0.496189\n",
      "Multiple eval metrics have been passed: 'valid-rmse' will be used for early stopping.\n\n",
      "Will train until valid-rmse hasn't improved in 2000 rounds.\n",
      "[1000]\ttrain-rmse:0.310235\tvalid-rmse:0.402294\n",
      "[2000]\ttrain-rmse:0.263799\tvalid-rmse:0.405221\n",
      "Stopping. Best iteration:\n[249]\ttrain-rmse:0.366274\tvalid-rmse:0.399547\n\n",
      "Training for fold:  5\n[0]\ttrain-rmse:0.495994\tvalid-rmse:0.496174\n",
      "Multiple eval metrics have been passed: 'valid-rmse' will be used for early stopping.\n\n",
      "Will train until valid-rmse hasn't improved in 2000 rounds.\n",
      "[1000]\ttrain-rmse:0.309902\tvalid-rmse:0.393968\n",
      "[2000]\ttrain-rmse:0.264915\tvalid-rmse:0.395887\n",
      "Stopping. Best iteration:\n[556]\ttrain-rmse:0.340621\tvalid-rmse:0.393517\n\n",
      "Training for fold:  6\n[0]\ttrain-rmse:0.496\tvalid-rmse:0.496101\n",
      "Multiple eval metrics have been passed: 'valid-rmse' will be used for early stopping.\n\n",
      "Will train until valid-rmse hasn't improved in 2000 rounds.\n",
      "[1000]\ttrain-rmse:0.31038\tvalid-rmse:0.39761\n",
      "[2000]\ttrain-rmse:0.265327\tvalid-rmse:0.399499\n",
      "Stopping. Best iteration:\n[212]\ttrain-rmse:0.369462\tvalid-rmse:0.395089\n\n",
      "Training for fold:  7\n[0]\ttrain-rmse:0.496005\tvalid-rmse:0.496207\n",
      "Multiple eval metrics have been passed: 'valid-rmse' will be used for early stopping.\n\n",
      "Will train until valid-rmse hasn't improved in 2000 rounds.\n",
      "[1000]\ttrain-rmse:0.311182\tvalid-rmse:0.402293\n",
      "[2000]\ttrain-rmse:0.264936\tvalid-rmse:0.404392\n",
      "Stopping. Best iteration:\n[164]\ttrain-rmse:0.374719\tvalid-rmse:0.40084\n\n",
      "Training for fold:  8\n[0]\ttrain-rmse:0.496001\tvalid-rmse:0.496039\n",
      "Multiple eval metrics have been passed: 'valid-rmse' will be used for early stopping.\n\n",
      "Will train until valid-rmse hasn't improved in 2000 rounds.\n",
      "[1000]\ttrain-rmse:0.309594\tvalid-rmse:0.396771\n",
      "[2000]\ttrain-rmse:0.264468\tvalid-rmse:0.399597\n",
      "Stopping. Best iteration:\n[381]\ttrain-rmse:0.354761\tvalid-rmse:0.39542\n\n",
      "Training for fold:  9\n[0]\ttrain-rmse:0.495994\tvalid-rmse:0.496071\n",
      "Multiple eval metrics have been passed: 'valid-rmse' will be used for early stopping.\n\n",
      "Will train until valid-rmse hasn't improved in 2000 rounds.\n",
      "[1000]\ttrain-rmse:0.310455\tvalid-rmse:0.398224\n",
      "[2000]\ttrain-rmse:0.2644\tvalid-rmse:0.401294\n",
      "Stopping. Best iteration:\n[263]\ttrain-rmse:0.364945\tvalid-rmse:0.395845\n\n",
      "Training for fold:  10\n[0]\ttrain-rmse:0.495995\tvalid-rmse:0.496138\n",
      "Multiple eval metrics have been passed: 'valid-rmse' will be used for early stopping.\n\n",
      "Will train until valid-rmse hasn't improved in 2000 rounds.\n",
      "[1000]\ttrain-rmse:0.308258\tvalid-rmse:0.400268\n",
      "[2000]\ttrain-rmse:0.263495\tvalid-rmse:0.402313\n",
      "Stopping. Best iteration:\n[152]\ttrain-rmse:0.376039\tvalid-rmse:0.398659\n\n",
      "----Training Xgboost done in 368 seconds\n"
     ],
     "output_type": "stream"
    },
    {
     "name": "stderr",
     "text": [
      "b:\\ai-for-sea\\env\\lib\\site-packages\\xgboost\\core.py:587: FutureWarning: Series.base is deprecated and will be removed in a future version\n  if getattr(data, 'base', None) is not None and \\\n"
     ],
     "output_type": "stream"
    }
   ],
   "source": [
    "# XGB\n",
    "xgb_params = {\n",
    "    'eval_metric': 'rmse',\n",
    "    'device': 'cpu',\n",
    "    'silent': 1,\n",
    "    'seed': 1337,\n",
    "    'nrounds': 60000,\n",
    "    'early_stop_rounds': 2000,\n",
    "    # trainable params\n",
    "    'eta': 0.025,\n",
    "    'subsample': 0.8,\n",
    "    'colsample_bytree': 0.6000000000000001,\n",
    "    'gamma': 0.65,\n",
    "    'max_depth': 5,\n",
    "    'min_child_weight': 5.0,\n",
    "    'n_estimators': 500,\n",
    "}\n",
    "\n",
    "xgbWrapper = XGBWrapper(xgb_params)\n",
    "\n",
    "with timer('Training Xgboost'):\n",
    "    xgb_oof_train = train_cv(xgbWrapper, num_splits=NUM_SPLITS, X=features_agg[feature_columns], y=features_agg[label_column])\n"
   ]
  },
  {
   "cell_type": "code",
   "execution_count": 41,
   "metadata": {
    "pycharm": {
     "is_executing": false
    }
   },
   "outputs": [
    {
     "name": "stdout",
     "text": [
      "----Training random forest started\nTraining for fold:  1\n",
      "Training for fold:  2\n",
      "Training for fold:  3\n",
      "Training for fold:  4\n",
      "Training for fold:  5\n",
      "Training for fold:  6\n",
      "Training for fold:  7\n",
      "Training for fold:  8\n",
      "Training for fold:  9\n",
      "Training for fold:  10\n",
      "----Training random forest done in 168 seconds\n"
     ],
     "output_type": "stream"
    }
   ],
   "source": [
    "# random forest\n",
    "rf_params = {\n",
    "    'n_jobs': -1,\n",
    "    'n_estimators': 150,\n",
    "    'max_features': 'auto',\n",
    "    'min_samples_leaf': 2,\n",
    "}\n",
    "\n",
    "random_forest_clf = SklearnWrapper(clf=RandomForestRegressor, seed=1337, params=rf_params)\n",
    "\n",
    "with timer('Training random forest'):\n",
    "    rf_oof_train = train_cv(random_forest_clf, num_splits=NUM_SPLITS, X=features_agg[feature_columns], y=features_agg[label_column])\n"
   ]
  },
  {
   "cell_type": "code",
   "execution_count": 42,
   "metadata": {
    "pycharm": {
     "is_executing": false
    }
   },
   "outputs": [
    {
     "name": "stdout",
     "text": [
      "----Training Extra trees started\nTraining for fold:  1\n",
      "Training for fold:  2\n",
      "Training for fold:  3\n",
      "Training for fold:  4\n",
      "Training for fold:  5\n",
      "Training for fold:  6\n",
      "Training for fold:  7\n",
      "Training for fold:  8\n",
      "Training for fold:  9\n",
      "Training for fold:  10\n",
      "----Training Extra trees done in 8 seconds\n"
     ],
     "output_type": "stream"
    }
   ],
   "source": [
    "# extra trees classifier\n",
    "et_params = {\n",
    "    'n_jobs': -1,\n",
    "    'n_estimators': 150,\n",
    "    'max_features': 'auto',\n",
    "    'max_depth': 5,\n",
    "    'min_samples_leaf': 2,\n",
    "}\n",
    "et = SklearnWrapper(clf=ExtraTreesRegressor, seed=1220, params=et_params)\n",
    "\n",
    "with timer('Training Extra trees'):\n",
    "    et_oof_train = train_cv(et, num_splits=NUM_SPLITS, X=features_agg[feature_columns], y=features_agg[label_column])\n"
   ]
  },
  {
   "cell_type": "code",
   "execution_count": 43,
   "metadata": {
    "pycharm": {
     "is_executing": false
    }
   },
   "outputs": [],
   "source": [
    "x_train_ensemble = pd.DataFrame(np.concatenate((et_oof_train, rf_oof_train, lgb_oof_train, xgb_oof_train), axis=1))\n"
   ]
  },
  {
   "cell_type": "code",
   "execution_count": 44,
   "metadata": {
    "pycharm": {
     "is_executing": false
    }
   },
   "outputs": [
    {
     "name": "stdout",
     "text": [
      "----Training stacked ridge regression started\n",
      "----Training stacked ridge regression done in 0 seconds\n"
     ],
     "output_type": "stream"
    }
   ],
   "source": [
    "# Stack, combine and train ridge regressor\n",
    "ridge_params = {\n",
    "    'alpha':50.0, \n",
    "    'fit_intercept':True, \n",
    "    'normalize':False, \n",
    "    'copy_X':True,\n",
    "    'max_iter':None, \n",
    "    'tol':0.001, \n",
    "    'solver':'auto', \n",
    "    'random_state':1337\n",
    "}\n",
    "ridge = SklearnWrapper(clf=Ridge, seed=1337, params=ridge_params)\n",
    "\n",
    "with timer('Training stacked ridge regression'):\n",
    "    final_oof_train, final_oof_test = train_cv_predict_test(ridge, num_splits=NUM_SPLITS, X=x_train_ensemble, y=features_agg[label_column], X_test=x_train_ensemble)\n"
   ]
  },
  {
   "cell_type": "code",
   "execution_count": 48,
   "metadata": {
    "pycharm": {
     "is_executing": false
    }
   },
   "outputs": [
    {
     "data": {
      "text/plain": "array([[0.52103183],\n       [0.25830568],\n       [0.35511164],\n       [0.21800488],\n       [0.20140592],\n       [0.18011301],\n       [0.16558963],\n       [0.09473403],\n       [0.10493071],\n       [0.1916465 ]])"
     },
     "metadata": {},
     "output_type": "execute_result",
     "execution_count": 48
    }
   ],
   "source": [
    "final_oof_train[:10]\n"
   ]
  },
  {
   "cell_type": "code",
   "execution_count": 47,
   "metadata": {
    "pycharm": {
     "name": "#%%\n",
     "is_executing": false
    }
   },
   "outputs": [
    {
     "name": "stdout",
     "text": [
      "out of fold AUC score:  0.6641729111994971\nmax thres:  0.2415909090909091\n"
     ],
     "output_type": "stream"
    }
   ],
   "source": [
    "max_auc = 0\n",
    "max_thres = 0.1\n",
    "for thres in np.linspace(0.1, 0.99, 89):\n",
    "    binarized_oof = (final_oof_train >= thres).astype(int)\n",
    "    if roc_auc_score(features_agg[label_column].values, binarized_oof) > max_auc:\n",
    "        max_auc = roc_auc_score(features_agg[label_column].values, binarized_oof)\n",
    "        max_thres = thres\n",
    "    \n",
    "print('out of fold AUC score: ', max_auc)\n",
    "print('max thres: ', max_thres)\n",
    "\n"
   ]
  }
 ],
 "metadata": {
  "kernelspec": {
   "display_name": "Python 3",
   "language": "python",
   "name": "python3"
  },
  "language_info": {
   "codemirror_mode": {
    "name": "ipython",
    "version": 3
   },
   "file_extension": ".py",
   "mimetype": "text/x-python",
   "name": "python",
   "nbconvert_exporter": "python",
   "pygments_lexer": "ipython3",
   "version": "3.6.5"
  },
  "pycharm": {
   "stem_cell": {
    "cell_type": "raw",
    "source": [],
    "metadata": {
     "collapsed": false
    }
   }
  }
 },
 "nbformat": 4,
 "nbformat_minor": 1
}