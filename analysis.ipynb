{
 "cells": [
  {
   "cell_type": "code",
   "execution_count": 185,
   "metadata": {
    "pycharm": {
     "is_executing": false,
     "name": "#%% \n"
    }
   },
   "outputs": [],
   "source": [
    "import pandas as pd\n",
    "%matplotlib inline\n",
    "import glob\n",
    "import os\n",
    "import numpy as np\n",
    "import gc\n",
    "\n",
    "from sklearn.metrics import roc_auc_score\n",
    "from sklearn.model_selection import StratifiedKFold\n",
    "from sklearn.ensemble import RandomForestRegressor, RandomForestClassifier"
   ]
  },
  {
   "cell_type": "code",
   "execution_count": 2,
   "metadata": {
    "pycharm": {
     "is_executing": false,
     "name": "#%%\n"
    }
   },
   "outputs": [],
   "source": [
    "DATA_PATH = 'data/safety/safety'"
   ]
  },
  {
   "cell_type": "markdown",
   "metadata": {
    "pycharm": {
     "name": "#%% md\n"
    }
   },
   "source": [
    "## Data Fields Description\n",
    "\n",
    "|      Field      |               Description               |\n",
    "|:---------------:|:---------------------------------------:|\n",
    "|    bookingID    |                 trip id                 |\n",
    "|     Accuracy    |    accuracy inferred by GPS in meters   |\n",
    "|     Bearing     |          GPS bearing in degree          |\n",
    "|  acceleration_x |  accelerometer reading at x axis (m/s2) |\n",
    "|  acceleration_y |  accelerometer reading at y axis (m/s2) |\n",
    "|  acceleration_z |  accelerometer reading at z axis (m/s2) |\n",
    "|      gyro_x     |   gyroscope reading in x axis (rad/s)   |\n",
    "|      gyro_y     |   gyroscope reading in y axis (rad/s)   |\n",
    "|      gyro_z     |   gyroscope reading in z axis (rad/s)   |\n",
    "|      second     | time of the record by number of seconds |\n",
    "|      Speed      |       speed measured by GPS in m/s      |\n",
    "\n"
   ]
  },
  {
   "cell_type": "code",
   "execution_count": 3,
   "metadata": {
    "pycharm": {
     "is_executing": false,
     "name": "#%%\n"
    }
   },
   "outputs": [],
   "source": [
    "# load labels\n",
    "labels_path = '{}/labels'.format(DATA_PATH)\n",
    "labels = pd.read_csv(glob.glob('{}/*.csv'.format(labels_path))[0])\n",
    "labels = labels.sort_values(by='bookingID')"
   ]
  },
  {
   "cell_type": "code",
   "execution_count": 4,
   "metadata": {
    "pycharm": {
     "is_executing": false,
     "name": "#%%\n"
    }
   },
   "outputs": [
    {
     "name": "stdout",
     "output_type": "stream",
     "text": [
      "(20018, 2)\n"
     ]
    },
    {
     "data": {
      "text/html": [
       "<div>\n",
       "<style scoped>\n",
       "    .dataframe tbody tr th:only-of-type {\n",
       "        vertical-align: middle;\n",
       "    }\n",
       "\n",
       "    .dataframe tbody tr th {\n",
       "        vertical-align: top;\n",
       "    }\n",
       "\n",
       "    .dataframe thead th {\n",
       "        text-align: right;\n",
       "    }\n",
       "</style>\n",
       "<table border=\"1\" class=\"dataframe\">\n",
       "  <thead>\n",
       "    <tr style=\"text-align: right;\">\n",
       "      <th></th>\n",
       "      <th>bookingID</th>\n",
       "      <th>label</th>\n",
       "    </tr>\n",
       "  </thead>\n",
       "  <tbody>\n",
       "    <tr>\n",
       "      <th>15035</th>\n",
       "      <td>0</td>\n",
       "      <td>0</td>\n",
       "    </tr>\n",
       "    <tr>\n",
       "      <th>13312</th>\n",
       "      <td>1</td>\n",
       "      <td>1</td>\n",
       "    </tr>\n",
       "    <tr>\n",
       "      <th>996</th>\n",
       "      <td>2</td>\n",
       "      <td>1</td>\n",
       "    </tr>\n",
       "    <tr>\n",
       "      <th>2328</th>\n",
       "      <td>4</td>\n",
       "      <td>1</td>\n",
       "    </tr>\n",
       "    <tr>\n",
       "      <th>5192</th>\n",
       "      <td>6</td>\n",
       "      <td>0</td>\n",
       "    </tr>\n",
       "  </tbody>\n",
       "</table>\n",
       "</div>"
      ],
      "text/plain": [
       "       bookingID  label\n",
       "15035          0      0\n",
       "13312          1      1\n",
       "996            2      1\n",
       "2328           4      1\n",
       "5192           6      0"
      ]
     },
     "execution_count": 4,
     "metadata": {},
     "output_type": "execute_result"
    }
   ],
   "source": [
    "print(labels.shape)\n",
    "labels.head()"
   ]
  },
  {
   "cell_type": "code",
   "execution_count": 5,
   "metadata": {
    "pycharm": {
     "is_executing": true,
     "name": "#%%\n"
    }
   },
   "outputs": [
    {
     "name": "stdout",
     "output_type": "stream",
     "text": [
      "loading feature:  data/safety/safety/features\\part-00000-e6120af0-10c2-4248-97c4-81baf4304e5c-c000.csv\n",
      "loading feature:  data/safety/safety/features\\part-00001-e6120af0-10c2-4248-97c4-81baf4304e5c-c000.csv\n",
      "loading feature:  data/safety/safety/features\\part-00002-e6120af0-10c2-4248-97c4-81baf4304e5c-c000.csv\n",
      "loading feature:  data/safety/safety/features\\part-00003-e6120af0-10c2-4248-97c4-81baf4304e5c-c000.csv\n",
      "loading feature:  data/safety/safety/features\\part-00004-e6120af0-10c2-4248-97c4-81baf4304e5c-c000.csv\n",
      "loading feature:  data/safety/safety/features\\part-00005-e6120af0-10c2-4248-97c4-81baf4304e5c-c000.csv\n",
      "loading feature:  data/safety/safety/features\\part-00006-e6120af0-10c2-4248-97c4-81baf4304e5c-c000.csv\n",
      "loading feature:  data/safety/safety/features\\part-00007-e6120af0-10c2-4248-97c4-81baf4304e5c-c000.csv\n",
      "loading feature:  data/safety/safety/features\\part-00008-e6120af0-10c2-4248-97c4-81baf4304e5c-c000.csv\n",
      "loading feature:  data/safety/safety/features\\part-00009-e6120af0-10c2-4248-97c4-81baf4304e5c-c000.csv\n"
     ]
    }
   ],
   "source": [
    "features_path = '{}/features'.format(DATA_PATH)\n",
    "features = pd.DataFrame()\n",
    "for f in glob.glob('{}/*.csv'.format(features_path)):\n",
    "    print('loading feature: ', f)\n",
    "    temp = pd.read_csv(f)\n",
    "    features = pd.concat([features, temp], axis=0)\n",
    "features = features.sort_values(by=['bookingID', 'second'])"
   ]
  },
  {
   "cell_type": "code",
   "execution_count": 6,
   "metadata": {
    "pycharm": {
     "is_executing": true,
     "name": "#%%\n"
    }
   },
   "outputs": [
    {
     "name": "stdout",
     "output_type": "stream",
     "text": [
      "(16135561, 11)\n"
     ]
    },
    {
     "data": {
      "text/html": [
       "<div>\n",
       "<style scoped>\n",
       "    .dataframe tbody tr th:only-of-type {\n",
       "        vertical-align: middle;\n",
       "    }\n",
       "\n",
       "    .dataframe tbody tr th {\n",
       "        vertical-align: top;\n",
       "    }\n",
       "\n",
       "    .dataframe thead th {\n",
       "        text-align: right;\n",
       "    }\n",
       "</style>\n",
       "<table border=\"1\" class=\"dataframe\">\n",
       "  <thead>\n",
       "    <tr style=\"text-align: right;\">\n",
       "      <th></th>\n",
       "      <th>bookingID</th>\n",
       "      <th>Accuracy</th>\n",
       "      <th>Bearing</th>\n",
       "      <th>acceleration_x</th>\n",
       "      <th>acceleration_y</th>\n",
       "      <th>acceleration_z</th>\n",
       "      <th>gyro_x</th>\n",
       "      <th>gyro_y</th>\n",
       "      <th>gyro_z</th>\n",
       "      <th>second</th>\n",
       "      <th>Speed</th>\n",
       "    </tr>\n",
       "  </thead>\n",
       "  <tbody>\n",
       "    <tr>\n",
       "      <th>1153972</th>\n",
       "      <td>0</td>\n",
       "      <td>12.0</td>\n",
       "      <td>143.298294</td>\n",
       "      <td>0.818112</td>\n",
       "      <td>-9.941461</td>\n",
       "      <td>-2.014999</td>\n",
       "      <td>-0.016245</td>\n",
       "      <td>-0.094040</td>\n",
       "      <td>0.070732</td>\n",
       "      <td>0.0</td>\n",
       "      <td>3.442991</td>\n",
       "    </tr>\n",
       "    <tr>\n",
       "      <th>712971</th>\n",
       "      <td>0</td>\n",
       "      <td>8.0</td>\n",
       "      <td>143.298294</td>\n",
       "      <td>0.546405</td>\n",
       "      <td>-9.835590</td>\n",
       "      <td>-2.038925</td>\n",
       "      <td>-0.047092</td>\n",
       "      <td>-0.078874</td>\n",
       "      <td>0.043187</td>\n",
       "      <td>1.0</td>\n",
       "      <td>0.228454</td>\n",
       "    </tr>\n",
       "    <tr>\n",
       "      <th>167611</th>\n",
       "      <td>0</td>\n",
       "      <td>8.0</td>\n",
       "      <td>143.298294</td>\n",
       "      <td>-1.706207</td>\n",
       "      <td>-9.270792</td>\n",
       "      <td>-1.209448</td>\n",
       "      <td>-0.028965</td>\n",
       "      <td>-0.032652</td>\n",
       "      <td>0.015390</td>\n",
       "      <td>2.0</td>\n",
       "      <td>0.228454</td>\n",
       "    </tr>\n",
       "    <tr>\n",
       "      <th>436147</th>\n",
       "      <td>0</td>\n",
       "      <td>8.0</td>\n",
       "      <td>143.298294</td>\n",
       "      <td>-1.416705</td>\n",
       "      <td>-9.548032</td>\n",
       "      <td>-1.860977</td>\n",
       "      <td>-0.022413</td>\n",
       "      <td>0.005049</td>\n",
       "      <td>-0.025753</td>\n",
       "      <td>3.0</td>\n",
       "      <td>0.228454</td>\n",
       "    </tr>\n",
       "    <tr>\n",
       "      <th>1423207</th>\n",
       "      <td>0</td>\n",
       "      <td>8.0</td>\n",
       "      <td>143.298294</td>\n",
       "      <td>-0.598145</td>\n",
       "      <td>-9.853534</td>\n",
       "      <td>-1.378574</td>\n",
       "      <td>-0.014297</td>\n",
       "      <td>-0.046206</td>\n",
       "      <td>0.021902</td>\n",
       "      <td>4.0</td>\n",
       "      <td>0.228454</td>\n",
       "    </tr>\n",
       "  </tbody>\n",
       "</table>\n",
       "</div>"
      ],
      "text/plain": [
       "         bookingID  Accuracy     Bearing  acceleration_x  acceleration_y  \\\n",
       "1153972          0      12.0  143.298294        0.818112       -9.941461   \n",
       "712971           0       8.0  143.298294        0.546405       -9.835590   \n",
       "167611           0       8.0  143.298294       -1.706207       -9.270792   \n",
       "436147           0       8.0  143.298294       -1.416705       -9.548032   \n",
       "1423207          0       8.0  143.298294       -0.598145       -9.853534   \n",
       "\n",
       "         acceleration_z    gyro_x    gyro_y    gyro_z  second     Speed  \n",
       "1153972       -2.014999 -0.016245 -0.094040  0.070732     0.0  3.442991  \n",
       "712971        -2.038925 -0.047092 -0.078874  0.043187     1.0  0.228454  \n",
       "167611        -1.209448 -0.028965 -0.032652  0.015390     2.0  0.228454  \n",
       "436147        -1.860977 -0.022413  0.005049 -0.025753     3.0  0.228454  \n",
       "1423207       -1.378574 -0.014297 -0.046206  0.021902     4.0  0.228454  "
      ]
     },
     "execution_count": 6,
     "metadata": {},
     "output_type": "execute_result"
    }
   ],
   "source": [
    "print(features.shape)\n",
    "features.head()"
   ]
  },
  {
   "cell_type": "code",
   "execution_count": 375,
   "metadata": {},
   "outputs": [],
   "source": [
    "def get_stopping_statistics(df):\n",
    "    # gets every vehicle stop in a trip and returns its start_time, end_time and diff\n",
    "    \n",
    "    # make sure all runs of ones are well-bounded\n",
    "    bounded = np.hstack(([1], df.Speed.values, [1]))\n",
    "\n",
    "    log = (bounded < 0.5) * 1\n",
    "    \n",
    "    # get 1 at run starts and -1 at run ends\n",
    "    diffs = np.diff(log)    \n",
    "  \n",
    "    # get indices if starts and ends\n",
    "    run_starts = np.where(diffs > 0)[0]\n",
    "    run_ends = np.where(diffs < 0)[0]\n",
    "    \n",
    "    interval = 7\n",
    "    end_stops = np.array([run_starts,run_ends,run_ends-run_starts]).T\n",
    "    end_stops = end_stops.astype(int)[:-1,1]\n",
    "    end_stops = end_stops[end_stops + interval < len(test.Speed.values) - 1]  \n",
    "    \n",
    "    n_stops = len(end_stops)\n",
    "    \n",
    "    if n_stops > 1:\n",
    "        hit = np.zeros(shape=(1 ,n_stops))\n",
    "        for i in range(n_stops):\n",
    "            # slope at acceleration    \n",
    "            start = end_stops[i]\n",
    "            hit[0, i] =  np.diff([test.Speed.values[start], test.Speed.values[start + interval]])\n",
    "    else:\n",
    "        hit = np.array([0])\n",
    "  \n",
    "    return [n_stops, hit.mean(), hit.max(), hit.std()]\n",
    "\n",
    "def get_naive_distance(df):\n",
    "    return (((df['second'].shift(-1) - df['second'])).fillna(0) * df['Speed']).sum()\n",
    "\n",
    "def get_other_features(df):\n",
    "    n_stops, hit_mean, hit_max, hit_std = get_stopping_statistics(df)\n",
    "    naive_dist = get_naive_distance(df)\n",
    "    \n",
    "    d = {\n",
    "        'n_stops': n_stops,\n",
    "        'hit_mean': hit_mean,\n",
    "        'hit_max': hit_max,\n",
    "        'hit_std': hit_std,\n",
    "        'naive_distance': naive_dist,\n",
    "    }\n",
    "    return pd.Series(d, index=['n_stops', 'hit_mean', 'hit_max', 'hit_std', 'naive_distance']) "
   ]
  },
  {
   "cell_type": "code",
   "execution_count": 378,
   "metadata": {
    "pycharm": {
     "is_executing": true,
     "name": "#%%\n"
    }
   },
   "outputs": [],
   "source": [
    "def percentile25(x):\n",
    "    return x.quantile(0.25)\n",
    "\n",
    "def percentile50(x):\n",
    "    return x.median()\n",
    "\n",
    "def percentile75(x):\n",
    "    return x.quantile(0.75)\n",
    "\n",
    "aggregate_functions = ['mean', 'min', 'max', 'std', percentile25, percentile50, percentile75]\n",
    "agg_columns_excluded = ['bookingID', 'second']\n",
    "agg_dict = {c: aggregate_functions for c in features.columns if c not in agg_columns_excluded}\n",
    "agg_dict['second'] = ['max']\n",
    "\n",
    "other_features = features.groupby('bookingID', as_index=True).apply(get_other_features)\n",
    "other_features = other_features.reset_index()"
   ]
  },
  {
   "cell_type": "code",
   "execution_count": 379,
   "metadata": {
    "pycharm": {
     "is_executing": true,
     "name": "#%%\n"
    }
   },
   "outputs": [],
   "source": [
    "features_agg = features.groupby(['bookingID'], as_index=True).agg(agg_dict)\n",
    "features_agg.columns = features_agg.columns.map('_'.join)\n",
    "features_agg = features_agg.reset_index(drop=False)\n",
    "\n",
    "features_agg = pd.merge(features_agg, other_features, how='left', on='bookingID')\n",
    "labels_no_duplicate = labels.drop_duplicates(subset='bookingID')\n",
    "features_agg = pd.merge(features_agg, labels_no_duplicate, how='left', on='bookingID')"
   ]
  },
  {
   "cell_type": "code",
   "execution_count": 380,
   "metadata": {},
   "outputs": [],
   "source": [
    "feature_columns = [c for c in features_agg.columns.values if c not in ['bookingID', 'label']]\n",
    "label_column = 'label'"
   ]
  },
  {
   "cell_type": "code",
   "execution_count": 396,
   "metadata": {},
   "outputs": [],
   "source": [
    "NUM_SPLITS = 10\n",
    "splits = StratifiedKFold(n_splits=NUM_SPLITS, shuffle=True).split(features_agg[feature_columns], features_agg[label_column])\n",
    "out_of_fold_predictions = np.zeros(len(features_agg))"
   ]
  },
  {
   "cell_type": "code",
   "execution_count": 397,
   "metadata": {},
   "outputs": [
    {
     "name": "stdout",
     "output_type": "stream",
     "text": [
      "Fold:1\ttrain AUC: 1.0\tvalid AUC: 0.7628582732547916\n",
      "Fold:2\ttrain AUC: 1.0\tvalid AUC: 0.7562793650793651\n",
      "Fold:3\ttrain AUC: 1.0\tvalid AUC: 0.7707392331614262\n",
      "Fold:4\ttrain AUC: 1.0\tvalid AUC: 0.7495959144370314\n",
      "Fold:5\ttrain AUC: 1.0\tvalid AUC: 0.7436805754084165\n",
      "Fold:6\ttrain AUC: 1.0\tvalid AUC: 0.7290522732264441\n",
      "Fold:7\ttrain AUC: 1.0\tvalid AUC: 0.7816552250190695\n",
      "Fold:8\ttrain AUC: 1.0\tvalid AUC: 0.792783052169577\n",
      "Fold:9\ttrain AUC: 1.0\tvalid AUC: 0.770313867016623\n",
      "Fold:10\ttrain AUC: 1.0\tvalid AUC: 0.7941111020282116\n"
     ]
    }
   ],
   "source": [
    "for i, (train_idx, valid_idx) in enumerate(splits):\n",
    "    train_X = features_agg[feature_columns].iloc[train_idx]\n",
    "    train_y = features_agg[label_column].iloc[train_idx]\n",
    "    val_X = features_agg[feature_columns].iloc[valid_idx]\n",
    "    val_y = features_agg[label_column].iloc[valid_idx]\n",
    "    \n",
    "    cf = RandomForestClassifier(n_estimators=500, n_jobs=-1)\n",
    "    cf.fit(train_X, train_y)\n",
    "    \n",
    "    train_preds = cf.predict(train_X)\n",
    "    val_preds = cf.predict(val_X)\n",
    "    \n",
    "    out_of_fold_predictions[valid_idx] = val_preds\n",
    "    \n",
    "    print('Fold:{}\\ttrain AUC: {}\\tvalid AUC: {}'.format(i + 1, roc_auc_score(train_preds, train_y), roc_auc_score(val_preds, val_y)))"
   ]
  },
  {
   "cell_type": "code",
   "execution_count": 398,
   "metadata": {},
   "outputs": [
    {
     "name": "stdout",
     "output_type": "stream",
     "text": [
      "out of fold AUC score:  0.7644650842793258\n"
     ]
    }
   ],
   "source": [
    "print('out of fold AUC score: ', roc_auc_score(out_of_fold_predictions, features_agg[label_column]))"
   ]
  },
  {
   "cell_type": "code",
   "execution_count": 399,
   "metadata": {},
   "outputs": [],
   "source": [
    "importances = []\n",
    "for col, importance in zip(feature_columns, cf.feature_importances_):\n",
    "    importances.append((col, importance))\n",
    "importances = sorted(importances, key=lambda tup: tup[1], reverse=True)"
   ]
  },
  {
   "cell_type": "code",
   "execution_count": 400,
   "metadata": {},
   "outputs": [
    {
     "name": "stdout",
     "output_type": "stream",
     "text": [
      "Feature importances: \n",
      "second_max: 0.06627653612093\n",
      "naive_distance: 0.025802470541310088\n",
      "Speed_max: 0.021090629460040703\n",
      "acceleration_z_std: 0.020411697531842674\n",
      "Bearing_std: 0.019350405025617873\n",
      "Speed_percentile50: 0.01829747550873446\n",
      "Speed_mean: 0.018124527157413146\n",
      "acceleration_x_std: 0.01787351473875824\n",
      "Speed_std: 0.017235378148340547\n",
      "Speed_percentile75: 0.01710184609422914\n",
      "acceleration_x_max: 0.016886161959808292\n",
      "gyro_y_max: 0.016759439734397908\n",
      "acceleration_y_std: 0.016615894169450723\n",
      "acceleration_x_min: 0.016113836058687478\n",
      "gyro_y_min: 0.01604753187642035\n",
      "acceleration_z_max: 0.015602162649182707\n",
      "gyro_x_std: 0.015331311228906753\n",
      "gyro_z_max: 0.015272940405678316\n",
      "gyro_x_max: 0.01503813648381193\n",
      "gyro_x_min: 0.015032923175026199\n",
      "gyro_z_std: 0.014978218691825855\n",
      "acceleration_z_min: 0.014558327488749434\n",
      "gyro_z_min: 0.01446102131847175\n",
      "acceleration_y_min: 0.014304428517580289\n",
      "gyro_y_percentile50: 0.014119476988505766\n",
      "acceleration_y_max: 0.014082401793579445\n",
      "gyro_z_percentile75: 0.013927714653515036\n",
      "Accuracy_std: 0.01391004222928421\n",
      "gyro_y_mean: 0.013816501823530171\n",
      "Bearing_percentile75: 0.01368942652687943\n",
      "gyro_z_percentile25: 0.013566870006872163\n",
      "Accuracy_mean: 0.013538411333575822\n",
      "gyro_z_percentile50: 0.01349996805390036\n",
      "gyro_y_std: 0.013497254931085367\n",
      "gyro_x_percentile25: 0.013459964258819563\n",
      "gyro_x_mean: 0.013395354573747612\n",
      "gyro_y_percentile25: 0.013382586366570083\n",
      "gyro_x_percentile75: 0.013351315616903127\n",
      "gyro_x_percentile50: 0.013327111267594581\n",
      "Bearing_percentile50: 0.013287601313987592\n",
      "gyro_y_percentile75: 0.013260072926058209\n",
      "Accuracy_max: 0.013257483132741915\n",
      "hit_mean: 0.013244358749615357\n",
      "gyro_z_mean: 0.013237738351296888\n",
      "Bearing_max: 0.013156014937842273\n",
      "acceleration_x_percentile75: 0.013155702526517928\n",
      "Bearing_mean: 0.013085873444671646\n",
      "Speed_percentile25: 0.012942909865796763\n",
      "acceleration_x_percentile25: 0.012932146612201014\n",
      "acceleration_y_percentile25: 0.012907668973181664\n",
      "acceleration_x_percentile50: 0.012679146220480936\n",
      "acceleration_x_mean: 0.012624242325833977\n",
      "acceleration_y_percentile50: 0.01238782504845809\n",
      "Bearing_percentile25: 0.012329884600072217\n",
      "hit_std: 0.01224741416619806\n",
      "acceleration_y_mean: 0.012239850622336736\n",
      "acceleration_y_percentile75: 0.012186165613866866\n",
      "acceleration_z_percentile75: 0.011915749430537331\n",
      "acceleration_z_percentile25: 0.011504531307292386\n",
      "acceleration_z_mean: 0.011236919344269769\n",
      "acceleration_z_percentile50: 0.01115619351911488\n",
      "hit_max: 0.009967152731458397\n",
      "Accuracy_percentile50: 0.00959872797922408\n",
      "Accuracy_percentile25: 0.008603561631283296\n",
      "n_stops: 0.008402540013984584\n",
      "Accuracy_percentile75: 0.007618079527265347\n",
      "Bearing_min: 0.007558441707167167\n",
      "Speed_min: 0.004593085146122191\n",
      "Accuracy_min: 0.003551703721544865\n"
     ]
    }
   ],
   "source": [
    "print('Feature importances: ')\n",
    "for col, imp in importances:\n",
    "    print('{}: {}'.format(col, imp))"
   ]
  },
  {
   "cell_type": "code",
   "execution_count": null,
   "metadata": {},
   "outputs": [],
   "source": []
  }
 ],
 "metadata": {
  "kernelspec": {
   "display_name": "Python 3",
   "language": "python",
   "name": "python3"
  },
  "language_info": {
   "codemirror_mode": {
    "name": "ipython",
    "version": 3
   },
   "file_extension": ".py",
   "mimetype": "text/x-python",
   "name": "python",
   "nbconvert_exporter": "python",
   "pygments_lexer": "ipython3",
   "version": "3.6.5"
  },
  "pycharm": {
   "stem_cell": {
    "cell_type": "raw",
    "metadata": {
     "collapsed": false
    },
    "source": []
   }
  }
 },
 "nbformat": 4,
 "nbformat_minor": 1
}
