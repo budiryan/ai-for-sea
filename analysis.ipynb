{
 "cells": [
  {
   "cell_type": "code",
   "execution_count": 1,
   "metadata": {
    "pycharm": {
     "is_executing": false,
     "name": "#%% \n"
    }
   },
   "outputs": [],
   "source": [
    "import pandas as pd\n",
    "%matplotlib inline\n",
    "import glob\n",
    "import time\n",
    "import os\n",
    "import numpy as np\n",
    "import gc\n",
    "from contextlib import contextmanager\n",
    "\n",
    "# sklearn\n",
    "from sklearn.metrics import roc_auc_score\n",
    "from sklearn.model_selection import StratifiedKFold\n",
    "from sklearn.ensemble import RandomForestRegressor, RandomForestClassifier, ExtraTreesRegressor\n",
    "from sklearn.metrics import mean_squared_error\n",
    "from sklearn.linear_model import Ridge\n",
    "\n",
    "from features.features import RideSafetyFeaturesAggregator\n",
    "\n",
    "import lightgbm as lgb\n",
    "import xgboost as xgb"
   ]
  },
  {
   "cell_type": "code",
   "execution_count": 2,
   "metadata": {
    "pycharm": {
     "is_executing": false,
     "name": "#%%\n"
    }
   },
   "outputs": [],
   "source": [
    "DATA_PATH = 'data/safety/safety'"
   ]
  },
  {
   "cell_type": "code",
   "execution_count": 3,
   "metadata": {},
   "outputs": [],
   "source": [
    "@contextmanager\n",
    "def timer(task_name=\"timer\"):\n",
    "    print(\"----{} started\".format(task_name))\n",
    "    t0 = time.time()\n",
    "    yield\n",
    "    print(\"----{} done in {:.0f} seconds\".format(task_name, time.time() - t0))"
   ]
  },
  {
   "cell_type": "markdown",
   "metadata": {
    "pycharm": {
     "name": "#%% md\n"
    }
   },
   "source": [
    "## Data Fields Description\n",
    "\n",
    "|      Field      |               Description               |\n",
    "|:---------------:|:---------------------------------------:|\n",
    "|    bookingID    |                 trip id                 |\n",
    "|     Accuracy    |    accuracy inferred by GPS in meters   |\n",
    "|     Bearing     |          GPS bearing in degree          |\n",
    "|  acceleration_x |  accelerometer reading at x axis (m/s2) |\n",
    "|  acceleration_y |  accelerometer reading at y axis (m/s2) |\n",
    "|  acceleration_z |  accelerometer reading at z axis (m/s2) |\n",
    "|      gyro_x     |   gyroscope reading in x axis (rad/s)   |\n",
    "|      gyro_y     |   gyroscope reading in y axis (rad/s)   |\n",
    "|      gyro_z     |   gyroscope reading in z axis (rad/s)   |\n",
    "|      second     | time of the record by number of seconds |\n",
    "|      Speed      |       speed measured by GPS in m/s      |\n",
    "\n"
   ]
  },
  {
   "cell_type": "code",
   "execution_count": 4,
   "metadata": {
    "pycharm": {
     "is_executing": false,
     "name": "#%%\n"
    }
   },
   "outputs": [],
   "source": [
    "# load labels\n",
    "labels_path = '{}/labels'.format(DATA_PATH)\n",
    "labels = pd.read_csv(glob.glob('{}/*.csv'.format(labels_path))[0])\n",
    "labels = labels.sort_values(by='bookingID')"
   ]
  },
  {
   "cell_type": "code",
   "execution_count": 5,
   "metadata": {
    "pycharm": {
     "is_executing": false,
     "name": "#%%\n"
    }
   },
   "outputs": [
    {
     "name": "stdout",
     "output_type": "stream",
     "text": [
      "(20018, 2)\n"
     ]
    },
    {
     "data": {
      "text/html": [
       "<div>\n",
       "<style scoped>\n",
       "    .dataframe tbody tr th:only-of-type {\n",
       "        vertical-align: middle;\n",
       "    }\n",
       "\n",
       "    .dataframe tbody tr th {\n",
       "        vertical-align: top;\n",
       "    }\n",
       "\n",
       "    .dataframe thead th {\n",
       "        text-align: right;\n",
       "    }\n",
       "</style>\n",
       "<table border=\"1\" class=\"dataframe\">\n",
       "  <thead>\n",
       "    <tr style=\"text-align: right;\">\n",
       "      <th></th>\n",
       "      <th>bookingID</th>\n",
       "      <th>label</th>\n",
       "    </tr>\n",
       "  </thead>\n",
       "  <tbody>\n",
       "    <tr>\n",
       "      <th>15035</th>\n",
       "      <td>0</td>\n",
       "      <td>0</td>\n",
       "    </tr>\n",
       "    <tr>\n",
       "      <th>13312</th>\n",
       "      <td>1</td>\n",
       "      <td>1</td>\n",
       "    </tr>\n",
       "    <tr>\n",
       "      <th>996</th>\n",
       "      <td>2</td>\n",
       "      <td>1</td>\n",
       "    </tr>\n",
       "    <tr>\n",
       "      <th>2328</th>\n",
       "      <td>4</td>\n",
       "      <td>1</td>\n",
       "    </tr>\n",
       "    <tr>\n",
       "      <th>5192</th>\n",
       "      <td>6</td>\n",
       "      <td>0</td>\n",
       "    </tr>\n",
       "  </tbody>\n",
       "</table>\n",
       "</div>"
      ],
      "text/plain": [
       "       bookingID  label\n",
       "15035          0      0\n",
       "13312          1      1\n",
       "996            2      1\n",
       "2328           4      1\n",
       "5192           6      0"
      ]
     },
     "execution_count": 5,
     "metadata": {},
     "output_type": "execute_result"
    }
   ],
   "source": [
    "print(labels.shape)\n",
    "labels.head()"
   ]
  },
  {
   "cell_type": "code",
   "execution_count": 12,
   "metadata": {
    "pycharm": {
     "is_executing": true,
     "name": "#%%\n"
    }
   },
   "outputs": [
    {
     "name": "stdout",
     "output_type": "stream",
     "text": [
      "loading feature:  data/safety/safety/features\\part-00000-e6120af0-10c2-4248-97c4-81baf4304e5c-c000.csv\n"
     ]
    }
   ],
   "source": [
    "features_path = '{}/features'.format(DATA_PATH)\n",
    "features = pd.DataFrame()\n",
    "for f in glob.glob('{}/*.csv'.format(features_path)):\n",
    "    print('loading feature: ', f)\n",
    "    temp = pd.read_csv(f)\n",
    "    features = pd.concat([features, temp], axis=0)\n",
    "    break\n",
    "\n",
    "    \n",
    "features = features.sort_values(by=['bookingID', 'second'])"
   ]
  },
  {
   "cell_type": "code",
   "execution_count": 13,
   "metadata": {},
   "outputs": [
    {
     "data": {
      "text/plain": [
       "(1613554, 11)"
      ]
     },
     "execution_count": 13,
     "metadata": {},
     "output_type": "execute_result"
    }
   ],
   "source": [
    "features.shape"
   ]
  },
  {
   "cell_type": "code",
   "execution_count": 14,
   "metadata": {
    "pycharm": {
     "is_executing": true,
     "name": "#%%\n"
    }
   },
   "outputs": [
    {
     "name": "stdout",
     "output_type": "stream",
     "text": [
      "(1613554, 11)\n"
     ]
    },
    {
     "data": {
      "text/html": [
       "<div>\n",
       "<style scoped>\n",
       "    .dataframe tbody tr th:only-of-type {\n",
       "        vertical-align: middle;\n",
       "    }\n",
       "\n",
       "    .dataframe tbody tr th {\n",
       "        vertical-align: top;\n",
       "    }\n",
       "\n",
       "    .dataframe thead th {\n",
       "        text-align: right;\n",
       "    }\n",
       "</style>\n",
       "<table border=\"1\" class=\"dataframe\">\n",
       "  <thead>\n",
       "    <tr style=\"text-align: right;\">\n",
       "      <th></th>\n",
       "      <th>bookingID</th>\n",
       "      <th>Accuracy</th>\n",
       "      <th>Bearing</th>\n",
       "      <th>acceleration_x</th>\n",
       "      <th>acceleration_y</th>\n",
       "      <th>acceleration_z</th>\n",
       "      <th>gyro_x</th>\n",
       "      <th>gyro_y</th>\n",
       "      <th>gyro_z</th>\n",
       "      <th>second</th>\n",
       "      <th>Speed</th>\n",
       "    </tr>\n",
       "  </thead>\n",
       "  <tbody>\n",
       "    <tr>\n",
       "      <th>436147</th>\n",
       "      <td>0</td>\n",
       "      <td>8.0</td>\n",
       "      <td>143.298294</td>\n",
       "      <td>-1.416705</td>\n",
       "      <td>-9.548032</td>\n",
       "      <td>-1.860977</td>\n",
       "      <td>-0.022413</td>\n",
       "      <td>0.005049</td>\n",
       "      <td>-0.025753</td>\n",
       "      <td>3.0</td>\n",
       "      <td>0.228454</td>\n",
       "    </tr>\n",
       "    <tr>\n",
       "      <th>314954</th>\n",
       "      <td>0</td>\n",
       "      <td>8.0</td>\n",
       "      <td>143.298294</td>\n",
       "      <td>-0.602780</td>\n",
       "      <td>-9.484927</td>\n",
       "      <td>-1.867706</td>\n",
       "      <td>-0.002221</td>\n",
       "      <td>-0.022451</td>\n",
       "      <td>0.009535</td>\n",
       "      <td>22.0</td>\n",
       "      <td>0.228454</td>\n",
       "    </tr>\n",
       "    <tr>\n",
       "      <th>1184808</th>\n",
       "      <td>0</td>\n",
       "      <td>12.0</td>\n",
       "      <td>143.298294</td>\n",
       "      <td>0.761737</td>\n",
       "      <td>-9.937573</td>\n",
       "      <td>-2.080496</td>\n",
       "      <td>-0.023960</td>\n",
       "      <td>-0.108738</td>\n",
       "      <td>0.090643</td>\n",
       "      <td>31.0</td>\n",
       "      <td>0.297795</td>\n",
       "    </tr>\n",
       "    <tr>\n",
       "      <th>1327390</th>\n",
       "      <td>0</td>\n",
       "      <td>12.0</td>\n",
       "      <td>144.299423</td>\n",
       "      <td>-1.005032</td>\n",
       "      <td>-9.767700</td>\n",
       "      <td>-1.728189</td>\n",
       "      <td>0.001761</td>\n",
       "      <td>0.013517</td>\n",
       "      <td>-0.017036</td>\n",
       "      <td>36.0</td>\n",
       "      <td>0.297795</td>\n",
       "    </tr>\n",
       "    <tr>\n",
       "      <th>1013616</th>\n",
       "      <td>0</td>\n",
       "      <td>12.0</td>\n",
       "      <td>144.299423</td>\n",
       "      <td>-0.909479</td>\n",
       "      <td>-9.798056</td>\n",
       "      <td>-1.886249</td>\n",
       "      <td>0.001773</td>\n",
       "      <td>0.020846</td>\n",
       "      <td>-0.013098</td>\n",
       "      <td>51.0</td>\n",
       "      <td>0.297795</td>\n",
       "    </tr>\n",
       "  </tbody>\n",
       "</table>\n",
       "</div>"
      ],
      "text/plain": [
       "         bookingID  Accuracy     Bearing  acceleration_x  acceleration_y  \\\n",
       "436147           0       8.0  143.298294       -1.416705       -9.548032   \n",
       "314954           0       8.0  143.298294       -0.602780       -9.484927   \n",
       "1184808          0      12.0  143.298294        0.761737       -9.937573   \n",
       "1327390          0      12.0  144.299423       -1.005032       -9.767700   \n",
       "1013616          0      12.0  144.299423       -0.909479       -9.798056   \n",
       "\n",
       "         acceleration_z    gyro_x    gyro_y    gyro_z  second     Speed  \n",
       "436147        -1.860977 -0.022413  0.005049 -0.025753     3.0  0.228454  \n",
       "314954        -1.867706 -0.002221 -0.022451  0.009535    22.0  0.228454  \n",
       "1184808       -2.080496 -0.023960 -0.108738  0.090643    31.0  0.297795  \n",
       "1327390       -1.728189  0.001761  0.013517 -0.017036    36.0  0.297795  \n",
       "1013616       -1.886249  0.001773  0.020846 -0.013098    51.0  0.297795  "
      ]
     },
     "execution_count": 14,
     "metadata": {},
     "output_type": "execute_result"
    }
   ],
   "source": [
    "print(features.shape)\n",
    "features.head()"
   ]
  },
  {
   "cell_type": "code",
   "execution_count": 231,
   "metadata": {},
   "outputs": [],
   "source": [
    "def get_stopping_statistics(df):\n",
    "    # gets every vehicle stop in a trip and returns its start_time, end_time and diff\n",
    "    \n",
    "    # make sure all runs of ones are well-bounded\n",
    "    bounded = np.hstack(([1], df.Speed.values, [1]))\n",
    "\n",
    "    log = (bounded < 0.5) * 1\n",
    "    \n",
    "    # get 1 at run starts and -1 at run ends\n",
    "    diffs = np.diff(log)    \n",
    "  \n",
    "    # get indices if starts and ends\n",
    "    run_starts = np.where(diffs > 0)[0]\n",
    "    run_ends = np.where(diffs < 0)[0]\n",
    "    \n",
    "    interval = 7\n",
    "    end_stops = np.array([run_starts,run_ends,run_ends-run_starts]).T\n",
    "    end_stops = end_stops.astype(int)[:-1,1]\n",
    "    end_stops = end_stops[end_stops + interval < len(df.Speed.values) - 1]  \n",
    "    \n",
    "    n_stops = len(end_stops)\n",
    "    \n",
    "    if n_stops > 1:\n",
    "        hit = np.zeros(shape=(1 ,n_stops))\n",
    "        for i in range(n_stops):\n",
    "            # slope at acceleration    \n",
    "            start = end_stops[i]\n",
    "            hit[0, i] =  np.diff([df.Speed.values[start], df.Speed.values[start + interval]])\n",
    "    else:\n",
    "        hit = np.array([0])\n",
    "  \n",
    "    return [n_stops, hit.mean(), hit.max(), hit.std()]\n",
    "\n",
    "def get_relative_stopping_time(df):\n",
    "    last = round(len(df) * 0.05)\n",
    "    eps = 1\n",
    "\n",
    "    # determine the stopping ratio of last 5% of a trip\n",
    "    speed_red = df.Speed.values[len(df.Speed.values) - last:]\n",
    "    return len(speed_red[speed_red < 0 + eps]) / float(df.second.max()) \n",
    "\n",
    "def get_naive_distance(df):\n",
    "    return (((df['second'].shift(-1) - df['second'])).fillna(0) * df['Speed']).sum()\n",
    "\n",
    "def get_other_features(df):\n",
    "    n_stops, hit_mean, hit_max, hit_std = get_stopping_statistics(df)\n",
    "    naive_dist = get_naive_distance(df)\n",
    "    stopping_time_ratio = get_relative_stopping_time(df)\n",
    "    \n",
    "    d = {\n",
    "        'n_stops': n_stops,\n",
    "        'hit_mean': hit_mean,\n",
    "        'hit_max': hit_max,\n",
    "        'hit_std': hit_std,\n",
    "        'naive_distance': naive_dist,\n",
    "        'stopping_time_ratio': stopping_time_ratio,\n",
    "    }\n",
    "    return pd.Series(d, index=['n_stops', 'hit_mean', 'hit_max', 'hit_std', 'naive_distance', 'stopping_time_ratio']) "
   ]
  },
  {
   "cell_type": "code",
   "execution_count": 232,
   "metadata": {
    "pycharm": {
     "is_executing": true,
     "name": "#%%\n"
    }
   },
   "outputs": [],
   "source": [
    "def percentile25(x):\n",
    "    return x.quantile(0.25)\n",
    "\n",
    "def percentile50(x):\n",
    "    return x.median()\n",
    "\n",
    "def percentile75(x):\n",
    "    return x.quantile(0.75)\n",
    "\n",
    "aggregate_functions = ['mean', 'min', 'max', 'std', percentile25, percentile50, percentile75]\n",
    "agg_columns_excluded = ['bookingID', 'second']\n",
    "agg_dict = {c: aggregate_functions for c in features.columns if c not in agg_columns_excluded}\n",
    "agg_dict['second'] = ['max']\n",
    "\n",
    "other_features = features.groupby('bookingID', as_index=True).apply(get_other_features)\n",
    "other_features = other_features.reset_index()"
   ]
  },
  {
   "cell_type": "code",
   "execution_count": 233,
   "metadata": {
    "pycharm": {
     "is_executing": true,
     "name": "#%%\n"
    }
   },
   "outputs": [],
   "source": [
    "features_agg = features.groupby(['bookingID'], as_index=True).agg(agg_dict)\n",
    "features_agg.columns = features_agg.columns.map('_'.join)\n",
    "features_agg = features_agg.reset_index(drop=False)\n",
    "\n",
    "features_agg = pd.merge(features_agg, other_features, how='left', on='bookingID')\n",
    "labels_no_duplicate = labels.drop_duplicates(subset='bookingID')\n",
    "features_agg = pd.merge(features_agg, labels_no_duplicate, how='left', on='bookingID')"
   ]
  },
  {
   "cell_type": "code",
   "execution_count": 17,
   "metadata": {},
   "outputs": [],
   "source": [
    "features = features.iloc[:1000]"
   ]
  },
  {
   "cell_type": "code",
   "execution_count": 18,
   "metadata": {},
   "outputs": [
    {
     "data": {
      "text/plain": [
       "(1000, 11)"
      ]
     },
     "execution_count": 18,
     "metadata": {},
     "output_type": "execute_result"
    }
   ],
   "source": [
    "features.shape"
   ]
  },
  {
   "cell_type": "code",
   "execution_count": 22,
   "metadata": {},
   "outputs": [
    {
     "name": "stderr",
     "output_type": "stream",
     "text": [
      "DEBUG:root:test\n"
     ]
    }
   ],
   "source": [
    "import logging\n",
    "logger = logging.getLogger()\n",
    "logger.setLevel(logging.DEBUG)\n",
    "logging.debug(\"test\")"
   ]
  },
  {
   "cell_type": "code",
   "execution_count": 23,
   "metadata": {},
   "outputs": [
    {
     "ename": "TypeError",
     "evalue": "'DataFrame' object is not callable",
     "output_type": "error",
     "traceback": [
      "\u001b[1;31m---------------------------------------------------------------------------\u001b[0m",
      "\u001b[1;31mTypeError\u001b[0m                                 Traceback (most recent call last)",
      "\u001b[1;32m<ipython-input-23-abed73ad51d2>\u001b[0m in \u001b[0;36m<module>\u001b[1;34m()\u001b[0m\n\u001b[0;32m      1\u001b[0m \u001b[0mfeat\u001b[0m \u001b[1;33m=\u001b[0m \u001b[0mRideSafetyFeaturesAggregator\u001b[0m\u001b[1;33m(\u001b[0m\u001b[0mfeatures\u001b[0m\u001b[1;33m)\u001b[0m\u001b[1;33m\u001b[0m\u001b[0m\n\u001b[1;32m----> 2\u001b[1;33m \u001b[0mfeatures_agg\u001b[0m \u001b[1;33m=\u001b[0m \u001b[0mfeat\u001b[0m\u001b[1;33m.\u001b[0m\u001b[0mget_aggregated_features\u001b[0m\u001b[1;33m(\u001b[0m\u001b[1;33m)\u001b[0m\u001b[1;33m\u001b[0m\u001b[0m\n\u001b[0m",
      "\u001b[1;32mB:\\ai-for-sea\\features\\features.py\u001b[0m in \u001b[0;36mget_aggregated_features\u001b[1;34m(self)\u001b[0m\n\u001b[0;32m     10\u001b[0m         \u001b[0mtemp\u001b[0m \u001b[1;33m=\u001b[0m \u001b[0mself\u001b[0m\u001b[1;33m.\u001b[0m\u001b[0m_aggregate_basic_statistical_features\u001b[0m\u001b[1;33m(\u001b[0m\u001b[1;33m)\u001b[0m  \u001b[1;31m# get basic statistical features\u001b[0m\u001b[1;33m\u001b[0m\u001b[0m\n\u001b[0;32m     11\u001b[0m \u001b[1;33m\u001b[0m\u001b[0m\n\u001b[1;32m---> 12\u001b[1;33m         \u001b[0mother_features\u001b[0m \u001b[1;33m=\u001b[0m \u001b[0mself\u001b[0m\u001b[1;33m.\u001b[0m\u001b[0mride_safety_df\u001b[0m\u001b[1;33m.\u001b[0m\u001b[0mgroupby\u001b[0m\u001b[1;33m(\u001b[0m\u001b[1;34m'bookingID'\u001b[0m\u001b[1;33m,\u001b[0m \u001b[0mas_index\u001b[0m\u001b[1;33m=\u001b[0m\u001b[1;32mTrue\u001b[0m\u001b[1;33m)\u001b[0m\u001b[1;33m.\u001b[0m\u001b[0mapply\u001b[0m\u001b[1;33m(\u001b[0m\u001b[0mself\u001b[0m\u001b[1;33m.\u001b[0m\u001b[0m_aggregate_special_features\u001b[0m\u001b[1;33m)\u001b[0m\u001b[1;33m\u001b[0m\u001b[0m\n\u001b[0m\u001b[0;32m     13\u001b[0m         \u001b[0mother_features\u001b[0m \u001b[1;33m=\u001b[0m \u001b[0mother_features\u001b[0m\u001b[1;33m.\u001b[0m\u001b[0mreset_index\u001b[0m\u001b[1;33m(\u001b[0m\u001b[1;33m)\u001b[0m\u001b[1;33m\u001b[0m\u001b[0m\n\u001b[0;32m     14\u001b[0m         \u001b[1;32mreturn\u001b[0m \u001b[0mpd\u001b[0m\u001b[1;33m.\u001b[0m\u001b[0mmerge\u001b[0m\u001b[1;33m(\u001b[0m\u001b[0mtemp\u001b[0m\u001b[1;33m,\u001b[0m \u001b[0mother_features\u001b[0m\u001b[1;33m,\u001b[0m \u001b[0mhow\u001b[0m\u001b[1;33m=\u001b[0m\u001b[1;34m'left'\u001b[0m\u001b[1;33m,\u001b[0m \u001b[0mon\u001b[0m\u001b[1;33m=\u001b[0m\u001b[1;34m'bookingID'\u001b[0m\u001b[1;33m)\u001b[0m\u001b[1;33m\u001b[0m\u001b[0m\n",
      "\u001b[1;31mTypeError\u001b[0m: 'DataFrame' object is not callable"
     ]
    }
   ],
   "source": [
    "feat = RideSafetyFeaturesAggregator(features)\n",
    "features_agg = feat.get_aggregated_features()"
   ]
  },
  {
   "cell_type": "code",
   "execution_count": 234,
   "metadata": {},
   "outputs": [],
   "source": [
    "feature_columns = [c for c in features_agg.columns.values if c not in ['bookingID', 'label']]\n",
    "label_column = 'label'"
   ]
  },
  {
   "cell_type": "markdown",
   "metadata": {},
   "source": [
    "## Modelling Part"
   ]
  },
  {
   "cell_type": "code",
   "execution_count": 397,
   "metadata": {},
   "outputs": [],
   "source": [
    "class SklearnWrapper(object):\n",
    "    def __init__(self, clf, seed=0, params=None):\n",
    "        params['random_state'] = seed\n",
    "        self.clf = clf(**params)\n",
    "\n",
    "    def train(self, x_train, y_train, **kwargs):\n",
    "        self.clf.fit(x_train, y_train)\n",
    "\n",
    "    def predict(self, x):\n",
    "        return self.clf.predict(x)"
   ]
  },
  {
   "cell_type": "code",
   "execution_count": 435,
   "metadata": {},
   "outputs": [],
   "source": [
    "class LGBWrapper(object):\n",
    "    def __init__(self, params=None):\n",
    "        self.param = params\n",
    "        self.num_rounds = params.pop('nrounds', 60000)\n",
    "        self.early_stop_rounds = params.pop('early_stop_rounds', 2000)\n",
    "\n",
    "    def train(self, x_train, y_train, **kwargs):\n",
    "        dtrain = lgb.Dataset(x_train, label=y_train)\n",
    "        dvalid = lgb.Dataset(kwargs['x_val'], label=kwargs['y_val'])\n",
    "\n",
    "        watchlist = [dtrain, dvalid]\n",
    "        self.model = lgb.train(\n",
    "                  self.param,\n",
    "                  train_set=dtrain,\n",
    "                  num_boost_round=self.num_rounds,\n",
    "                  valid_sets=watchlist,\n",
    "                  verbose_eval=1000,\n",
    "                  early_stopping_rounds=self.early_stop_rounds\n",
    "        )\n",
    "\n",
    "    def predict(self, x):\n",
    "        return self.model.predict(x, num_iteration=self.model.best_iteration)"
   ]
  },
  {
   "cell_type": "code",
   "execution_count": 439,
   "metadata": {},
   "outputs": [],
   "source": [
    "class XGBWrapper(object):\n",
    "    def __init__(self, params=None):\n",
    "        self.param = params\n",
    "        self.nrounds = params.pop('nrounds', 60000)\n",
    "        self.early_stop_rounds = params.pop('early_stop_rounds', 2000)\n",
    "\n",
    "    def train(self, x_train, y_train, **kwargs):\n",
    "        dtrain = xgb.DMatrix(x_train, label=y_train)\n",
    "        dvalid = xgb.DMatrix(data=kwargs['x_val'], label=kwargs['y_val'])\n",
    "        \n",
    "        watchlist = [(dtrain, 'train'), (dvalid, 'valid')]\n",
    "        \n",
    "        self.model = xgb.train(dtrain=dtrain, num_boost_round=self.nrounds, evals=watchlist, early_stopping_rounds=self.early_stop_rounds, \n",
    "                               verbose_eval=1000, params=self.param)\n",
    "\n",
    "    def predict(self, x):\n",
    "        return self.model.predict(xgb.DMatrix(x), ntree_limit=self.model.best_ntree_limit)"
   ]
  },
  {
   "cell_type": "code",
   "execution_count": 409,
   "metadata": {},
   "outputs": [],
   "source": [
    "NUM_SPLITS = 10\n",
    "def get_oof(clf, num_splits, X, y, X_test):    \n",
    "    oof_train = np.zeros((len(X),))\n",
    "    oof_test = np.zeros((len(X_test),))\n",
    "    oof_test_skf = np.empty((num_splits, len(X_test)))\n",
    "\n",
    "    for i, (train_index, test_index) in enumerate(StratifiedKFold(n_splits=num_splits, shuffle=True).split(X, y)):\n",
    "        print('Training for fold: ', i + 1)\n",
    "        \n",
    "        x_tr = X.iloc[train_index, :]\n",
    "        y_tr = y[train_index]\n",
    "        x_te = X.iloc[test_index, :]\n",
    "        y_te = y[test_index]\n",
    "\n",
    "        clf.train(x_tr, y_tr, x_val=x_te, y_val=y_te)\n",
    "\n",
    "        oof_train[test_index] = clf.predict(x_te)\n",
    "        oof_test_skf[i, :] = clf.predict(X_test)\n",
    "\n",
    "    oof_test[:] = oof_test_skf.mean(axis=0)\n",
    "    return oof_train.reshape(-1, 1), oof_test.reshape(-1, 1)"
   ]
  },
  {
   "cell_type": "code",
   "execution_count": 436,
   "metadata": {},
   "outputs": [
    {
     "name": "stdout",
     "output_type": "stream",
     "text": [
      "----Training LightGBM started\n",
      "Training for fold:  1\n",
      "Training until validation scores don't improve for 2000 rounds.\n",
      "[1000]\ttraining's rmse: 0.355733\tvalid_1's rmse: 0.391129\n",
      "[2000]\ttraining's rmse: 0.325592\tvalid_1's rmse: 0.392536\n",
      "Early stopping, best iteration is:\n",
      "[691]\ttraining's rmse: 0.366617\tvalid_1's rmse: 0.391037\n",
      "Training for fold:  2\n",
      "Training until validation scores don't improve for 2000 rounds.\n",
      "[1000]\ttraining's rmse: 0.356221\tvalid_1's rmse: 0.391428\n",
      "[2000]\ttraining's rmse: 0.325814\tvalid_1's rmse: 0.392936\n",
      "Early stopping, best iteration is:\n",
      "[729]\ttraining's rmse: 0.365616\tvalid_1's rmse: 0.391186\n",
      "Training for fold:  3\n",
      "Training until validation scores don't improve for 2000 rounds.\n",
      "[1000]\ttraining's rmse: 0.356224\tvalid_1's rmse: 0.39738\n",
      "[2000]\ttraining's rmse: 0.32534\tvalid_1's rmse: 0.39972\n",
      "Early stopping, best iteration is:\n",
      "[481]\ttraining's rmse: 0.373999\tvalid_1's rmse: 0.396139\n",
      "Training for fold:  4\n",
      "Training until validation scores don't improve for 2000 rounds.\n",
      "[1000]\ttraining's rmse: 0.355977\tvalid_1's rmse: 0.400888\n",
      "[2000]\ttraining's rmse: 0.325031\tvalid_1's rmse: 0.403739\n",
      "Early stopping, best iteration is:\n",
      "[379]\ttraining's rmse: 0.377605\tvalid_1's rmse: 0.400124\n",
      "Training for fold:  5\n",
      "Training until validation scores don't improve for 2000 rounds.\n",
      "[1000]\ttraining's rmse: 0.355126\tvalid_1's rmse: 0.402269\n",
      "[2000]\ttraining's rmse: 0.324328\tvalid_1's rmse: 0.403262\n",
      "Early stopping, best iteration is:\n",
      "[805]\ttraining's rmse: 0.361394\tvalid_1's rmse: 0.402141\n",
      "Training for fold:  6\n",
      "Training until validation scores don't improve for 2000 rounds.\n",
      "[1000]\ttraining's rmse: 0.356215\tvalid_1's rmse: 0.397192\n",
      "[2000]\ttraining's rmse: 0.325559\tvalid_1's rmse: 0.399204\n",
      "Early stopping, best iteration is:\n",
      "[447]\ttraining's rmse: 0.375703\tvalid_1's rmse: 0.396343\n",
      "Training for fold:  7\n",
      "Training until validation scores don't improve for 2000 rounds.\n",
      "[1000]\ttraining's rmse: 0.355674\tvalid_1's rmse: 0.399637\n",
      "[2000]\ttraining's rmse: 0.324837\tvalid_1's rmse: 0.401434\n",
      "Early stopping, best iteration is:\n",
      "[482]\ttraining's rmse: 0.374028\tvalid_1's rmse: 0.398026\n",
      "Training for fold:  8\n",
      "Training until validation scores don't improve for 2000 rounds.\n",
      "[1000]\ttraining's rmse: 0.355624\tvalid_1's rmse: 0.398559\n",
      "[2000]\ttraining's rmse: 0.324996\tvalid_1's rmse: 0.400548\n",
      "Early stopping, best iteration is:\n",
      "[466]\ttraining's rmse: 0.374656\tvalid_1's rmse: 0.397493\n",
      "Training for fold:  9\n",
      "Training until validation scores don't improve for 2000 rounds.\n",
      "[1000]\ttraining's rmse: 0.355116\tvalid_1's rmse: 0.399507\n",
      "[2000]\ttraining's rmse: 0.324883\tvalid_1's rmse: 0.401044\n",
      "Early stopping, best iteration is:\n",
      "[472]\ttraining's rmse: 0.37401\tvalid_1's rmse: 0.399392\n",
      "Training for fold:  10\n",
      "Training until validation scores don't improve for 2000 rounds.\n",
      "[1000]\ttraining's rmse: 0.356645\tvalid_1's rmse: 0.392126\n",
      "[2000]\ttraining's rmse: 0.326389\tvalid_1's rmse: 0.393311\n",
      "Early stopping, best iteration is:\n",
      "[495]\ttraining's rmse: 0.374745\tvalid_1's rmse: 0.391551\n",
      "----Training LightGBM done in 55 seconds\n"
     ]
    }
   ],
   "source": [
    "lgbm_params = {\n",
    "    'task': 'train',\n",
    "    'boosting_type': 'gbdt',\n",
    "    'objective': 'regression',\n",
    "    'metric': 'rmse',\n",
    "    'nrounds': 50000,\n",
    "    'early_stop_rounds': 2000,\n",
    "    # trainable params\n",
    "    'max_depth': 4,\n",
    "    'num_leaves': 46,\n",
    "    'feature_fraction': 0.6,\n",
    "    'bagging_fraction': 0.9,\n",
    "    'bagging_freq': 8,\n",
    "    'learning_rate': 0.019,\n",
    "    'verbose': 0\n",
    "}\n",
    "lgb_wrapper = LGBWrapper(lgbm_params)\n",
    "\n",
    "with timer('Training LightGBM'):\n",
    "    lgb_oof_train, lgb_oof_test = get_oof(lgb_wrapper, num_splits=NUM_SPLITS, X=features_agg[feature_columns], y=features_agg[label_column], X_test=features_agg[feature_columns])"
   ]
  },
  {
   "cell_type": "code",
   "execution_count": 458,
   "metadata": {},
   "outputs": [
    {
     "name": "stdout",
     "output_type": "stream",
     "text": [
      "----Training Xgboost started\n",
      "Training for fold:  1\n",
      "[0]\ttrain-rmse:0.495548\tvalid-rmse:0.495484\n",
      "Multiple eval metrics have been passed: 'valid-rmse' will be used for early stopping.\n",
      "\n",
      "Will train until valid-rmse hasn't improved in 2000 rounds.\n"
     ]
    },
    {
     "name": "stderr",
     "output_type": "stream",
     "text": [
      "C:\\ProgramData\\Anaconda3\\lib\\site-packages\\xgboost\\core.py:587: FutureWarning: Series.base is deprecated and will be removed in a future version\n",
      "  if getattr(data, 'base', None) is not None and \\\n"
     ]
    },
    {
     "name": "stdout",
     "output_type": "stream",
     "text": [
      "[1000]\ttrain-rmse:0.310379\tvalid-rmse:0.392188\n",
      "[2000]\ttrain-rmse:0.264858\tvalid-rmse:0.393976\n",
      "Stopping. Best iteration:\n",
      "[249]\ttrain-rmse:0.36715\tvalid-rmse:0.390527\n",
      "\n",
      "Training for fold:  2\n",
      "[0]\ttrain-rmse:0.495512\tvalid-rmse:0.495589\n",
      "Multiple eval metrics have been passed: 'valid-rmse' will be used for early stopping.\n",
      "\n",
      "Will train until valid-rmse hasn't improved in 2000 rounds.\n",
      "[1000]\ttrain-rmse:0.311131\tvalid-rmse:0.396582\n",
      "[2000]\ttrain-rmse:0.265693\tvalid-rmse:0.399135\n",
      "Stopping. Best iteration:\n",
      "[249]\ttrain-rmse:0.366852\tvalid-rmse:0.393856\n",
      "\n",
      "Training for fold:  3\n",
      "[0]\ttrain-rmse:0.495519\tvalid-rmse:0.49559\n",
      "Multiple eval metrics have been passed: 'valid-rmse' will be used for early stopping.\n",
      "\n",
      "Will train until valid-rmse hasn't improved in 2000 rounds.\n",
      "[1000]\ttrain-rmse:0.30983\tvalid-rmse:0.396241\n",
      "[2000]\ttrain-rmse:0.265163\tvalid-rmse:0.398969\n",
      "Stopping. Best iteration:\n",
      "[293]\ttrain-rmse:0.362763\tvalid-rmse:0.393818\n",
      "\n",
      "Training for fold:  4\n",
      "[0]\ttrain-rmse:0.495543\tvalid-rmse:0.495749\n",
      "Multiple eval metrics have been passed: 'valid-rmse' will be used for early stopping.\n",
      "\n",
      "Will train until valid-rmse hasn't improved in 2000 rounds.\n",
      "[1000]\ttrain-rmse:0.310518\tvalid-rmse:0.396896\n",
      "[2000]\ttrain-rmse:0.264514\tvalid-rmse:0.39895\n",
      "Stopping. Best iteration:\n",
      "[226]\ttrain-rmse:0.368866\tvalid-rmse:0.395377\n",
      "\n",
      "Training for fold:  5\n",
      "[0]\ttrain-rmse:0.495512\tvalid-rmse:0.49559\n",
      "Multiple eval metrics have been passed: 'valid-rmse' will be used for early stopping.\n",
      "\n",
      "Will train until valid-rmse hasn't improved in 2000 rounds.\n",
      "[1000]\ttrain-rmse:0.310371\tvalid-rmse:0.397381\n",
      "[2000]\ttrain-rmse:0.264375\tvalid-rmse:0.399155\n",
      "Stopping. Best iteration:\n",
      "[633]\ttrain-rmse:0.335138\tvalid-rmse:0.396767\n",
      "\n",
      "Training for fold:  6\n",
      "[0]\ttrain-rmse:0.495468\tvalid-rmse:0.495713\n",
      "Multiple eval metrics have been passed: 'valid-rmse' will be used for early stopping.\n",
      "\n",
      "Will train until valid-rmse hasn't improved in 2000 rounds.\n",
      "[1000]\ttrain-rmse:0.309684\tvalid-rmse:0.401305\n",
      "[2000]\ttrain-rmse:0.263562\tvalid-rmse:0.403057\n",
      "Stopping. Best iteration:\n",
      "[239]\ttrain-rmse:0.366439\tvalid-rmse:0.399919\n",
      "\n",
      "Training for fold:  7\n",
      "[0]\ttrain-rmse:0.495559\tvalid-rmse:0.495522\n",
      "Multiple eval metrics have been passed: 'valid-rmse' will be used for early stopping.\n",
      "\n",
      "Will train until valid-rmse hasn't improved in 2000 rounds.\n",
      "[1000]\ttrain-rmse:0.310079\tvalid-rmse:0.397436\n",
      "[2000]\ttrain-rmse:0.264988\tvalid-rmse:0.401074\n",
      "Stopping. Best iteration:\n",
      "[181]\ttrain-rmse:0.372879\tvalid-rmse:0.39209\n",
      "\n",
      "Training for fold:  8\n",
      "[0]\ttrain-rmse:0.495456\tvalid-rmse:0.49588\n",
      "Multiple eval metrics have been passed: 'valid-rmse' will be used for early stopping.\n",
      "\n",
      "Will train until valid-rmse hasn't improved in 2000 rounds.\n",
      "[1000]\ttrain-rmse:0.308516\tvalid-rmse:0.409234\n",
      "[2000]\ttrain-rmse:0.263236\tvalid-rmse:0.410941\n",
      "Stopping. Best iteration:\n",
      "[272]\ttrain-rmse:0.362593\tvalid-rmse:0.406901\n",
      "\n",
      "Training for fold:  9\n",
      "[0]\ttrain-rmse:0.495477\tvalid-rmse:0.495746\n",
      "Multiple eval metrics have been passed: 'valid-rmse' will be used for early stopping.\n",
      "\n",
      "Will train until valid-rmse hasn't improved in 2000 rounds.\n",
      "[1000]\ttrain-rmse:0.31007\tvalid-rmse:0.400503\n",
      "[2000]\ttrain-rmse:0.265219\tvalid-rmse:0.403496\n",
      "Stopping. Best iteration:\n",
      "[248]\ttrain-rmse:0.365696\tvalid-rmse:0.398892\n",
      "\n",
      "Training for fold:  10\n",
      "[0]\ttrain-rmse:0.49555\tvalid-rmse:0.49566\n",
      "Multiple eval metrics have been passed: 'valid-rmse' will be used for early stopping.\n",
      "\n",
      "Will train until valid-rmse hasn't improved in 2000 rounds.\n",
      "[1000]\ttrain-rmse:0.310015\tvalid-rmse:0.39835\n",
      "[2000]\ttrain-rmse:0.264314\tvalid-rmse:0.401886\n",
      "Stopping. Best iteration:\n",
      "[294]\ttrain-rmse:0.362023\tvalid-rmse:0.396453\n",
      "\n",
      "----Training Xgboost done in 388 seconds\n"
     ]
    }
   ],
   "source": [
    "# XGB\n",
    "xgb_params = {\n",
    "    'eval_metric': 'rmse',\n",
    "    'device': 'cpu',\n",
    "    'silent': 1,\n",
    "    'seed': 1337,\n",
    "    'nrounds': 60000,\n",
    "    'early_stop_rounds': 2000,\n",
    "    # trainable params\n",
    "    'eta': 0.025,\n",
    "    'subsample': 0.8,\n",
    "    'colsample_bytree': 0.6000000000000001,\n",
    "    'gamma': 0.65,\n",
    "    'max_depth': 5,\n",
    "    'min_child_weight': 5.0,\n",
    "    'n_estimators': 500,\n",
    "}\n",
    "\n",
    "xgbWrapper = XGBWrapper(xgb_params)\n",
    "\n",
    "with timer('Training Xgboost'):\n",
    "    xgb_oof_train, xgb_oof_test = get_oof(xgbWrapper, num_splits=NUM_SPLITS, X=features_agg[feature_columns], y=features_agg[label_column], X_test=features_agg[feature_columns])"
   ]
  },
  {
   "cell_type": "code",
   "execution_count": 608,
   "metadata": {},
   "outputs": [
    {
     "name": "stdout",
     "output_type": "stream",
     "text": [
      "----Training random forest started\n",
      "Training for fold:  1\n",
      "Training for fold:  2\n",
      "Training for fold:  3\n",
      "Training for fold:  4\n",
      "Training for fold:  5\n",
      "Training for fold:  6\n",
      "Training for fold:  7\n",
      "Training for fold:  8\n",
      "Training for fold:  9\n",
      "Training for fold:  10\n",
      "----Training random forest done in 27 seconds\n"
     ]
    }
   ],
   "source": [
    "# random forest\n",
    "rf_params = {\n",
    "    'n_jobs': -1,\n",
    "    'n_estimators': 150,\n",
    "    'max_features': 'auto',\n",
    "    'min_samples_leaf': 2,\n",
    "}\n",
    "\n",
    "random_forest_clf = SklearnWrapper(clf=RandomForestClassifier, seed=1337, params=rf_params)\n",
    "\n",
    "with timer('Training random forest'):\n",
    "    rf_oof_train, rf_oof_test = get_oof(random_forest_clf, num_splits=NUM_SPLITS, X=features_agg[feature_columns], y=features_agg[label_column], X_test=features_agg[feature_columns])"
   ]
  },
  {
   "cell_type": "code",
   "execution_count": 610,
   "metadata": {},
   "outputs": [
    {
     "data": {
      "text/plain": [
       "0.5802202500546717"
      ]
     },
     "execution_count": 610,
     "metadata": {},
     "output_type": "execute_result"
    }
   ],
   "source": [
    "roc_auc_score(features_agg[label_column].values, rf_oof_train)"
   ]
  },
  {
   "cell_type": "code",
   "execution_count": 443,
   "metadata": {},
   "outputs": [
    {
     "name": "stdout",
     "output_type": "stream",
     "text": [
      "----Training Extra trees started\n",
      "Training for fold:  1\n",
      "Training for fold:  2\n",
      "Training for fold:  3\n",
      "Training for fold:  4\n",
      "Training for fold:  5\n",
      "Training for fold:  6\n",
      "Training for fold:  7\n",
      "Training for fold:  8\n",
      "Training for fold:  9\n",
      "Training for fold:  10\n",
      "----Training Extra trees done in 9 seconds\n"
     ]
    }
   ],
   "source": [
    "# extra trees classifier\n",
    "et_params = {\n",
    "    'n_jobs': -1,\n",
    "    'n_estimators': 150,\n",
    "    'max_features': 'auto',\n",
    "    'max_depth': 5,\n",
    "    'min_samples_leaf': 2,\n",
    "}\n",
    "et = SklearnWrapper(clf=ExtraTreesRegressor, seed=1220, params=et_params)\n",
    "\n",
    "with timer('Training Extra trees'):\n",
    "    et_oof_train, et_oof_test = get_oof(et, num_splits=NUM_SPLITS, X=features_agg[feature_columns], y=features_agg[label_column], X_test=features_agg[feature_columns])"
   ]
  },
  {
   "cell_type": "code",
   "execution_count": 503,
   "metadata": {},
   "outputs": [],
   "source": [
    "x_train_ensemble = pd.DataFrame(np.concatenate((et_oof_train, rf_oof_train, lgb_oof_train, xgb_oof_train), axis=1))"
   ]
  },
  {
   "cell_type": "code",
   "execution_count": 504,
   "metadata": {},
   "outputs": [
    {
     "name": "stdout",
     "output_type": "stream",
     "text": [
      "----Training stacked ridge regression started\n",
      "Training for fold:  1\n",
      "Training for fold:  2\n",
      "Training for fold:  3\n",
      "Training for fold:  4\n",
      "Training for fold:  5\n",
      "Training for fold:  6\n",
      "Training for fold:  7\n",
      "Training for fold:  8\n",
      "Training for fold:  9\n",
      "Training for fold:  10\n",
      "----Training stacked ridge regression done in 0 seconds\n"
     ]
    }
   ],
   "source": [
    "# Stack, combine and train ridge regressor\n",
    "ridge_params = {\n",
    "    'alpha':50.0, \n",
    "    'fit_intercept':True, \n",
    "    'normalize':False, \n",
    "    'copy_X':True,\n",
    "    'max_iter':None, \n",
    "    'tol':0.001, \n",
    "    'solver':'auto', \n",
    "    'random_state':1337\n",
    "}\n",
    "ridge = SklearnWrapper(clf=Ridge, seed=1337, params=ridge_params)\n",
    "\n",
    "with timer('Training stacked ridge regression'):\n",
    "    final_oof_train, final_oof_test = get_oof(ridge, num_splits=NUM_SPLITS, X=x_train_ensemble, y=features_agg[label_column], X_test=x_train_ensemble)"
   ]
  },
  {
   "cell_type": "code",
   "execution_count": 505,
   "metadata": {},
   "outputs": [
    {
     "data": {
      "text/plain": [
       "array([[0.47540958],\n",
       "       [0.2340191 ],\n",
       "       [0.35311893],\n",
       "       ...,\n",
       "       [0.18955363],\n",
       "       [0.2266522 ],\n",
       "       [0.21166314]])"
      ]
     },
     "execution_count": 505,
     "metadata": {},
     "output_type": "execute_result"
    }
   ],
   "source": [
    "final_oof_train"
   ]
  },
  {
   "cell_type": "code",
   "execution_count": 601,
   "metadata": {},
   "outputs": [
    {
     "name": "stdout",
     "output_type": "stream",
     "text": [
      "out of fold AUC score:  0.6626954940271171\n",
      "max thres:  0.2415909090909091\n"
     ]
    }
   ],
   "source": [
    "max_auc = 0\n",
    "max_thres = 0.1\n",
    "for thres in np.linspace(0.1, 0.99, 89):\n",
    "    binarized_oof = (final_oof_train >= thres).astype(int)\n",
    "    if roc_auc_score(features_agg[label_column].values, binarized_oof) > max_auc:\n",
    "        max_auc = roc_auc_score(features_agg[label_column].values, binarized_oof)\n",
    "        max_thres = thres\n",
    "    \n",
    "print('out of fold AUC score: ', max_auc)\n",
    "print('max thres: ', max_thres)"
   ]
  },
  {
   "cell_type": "code",
   "execution_count": 260,
   "metadata": {},
   "outputs": [],
   "source": [
    "importances = []\n",
    "for col, importance in zip(feature_columns, cf.feature_importances_):\n",
    "    importances.append((col, importance))\n",
    "importances = sorted(importances, key=lambda tup: tup[1], reverse=True)"
   ]
  },
  {
   "cell_type": "code",
   "execution_count": 261,
   "metadata": {},
   "outputs": [
    {
     "name": "stdout",
     "output_type": "stream",
     "text": [
      "Feature importances: \n",
      "second_max: 0.586876679698496\n",
      "acceleration_z_std: 0.06800277905166972\n",
      "naive_distance: 0.04634874356006946\n",
      "Bearing_std: 0.03098892519411976\n",
      "Speed_mean: 0.027120287051619035\n",
      "Speed_percentile50: 0.026338847320603584\n",
      "Speed_max: 0.01993031517813635\n",
      "acceleration_x_std: 0.017092960057855374\n",
      "Speed_percentile75: 0.014449576034211799\n",
      "acceleration_y_std: 0.014259053758871394\n",
      "Speed_percentile25: 0.012849472096093991\n",
      "hit_max: 0.012547453519226698\n",
      "gyro_z_percentile75: 0.009458499941123773\n",
      "gyro_z_std: 0.006138746285482801\n",
      "gyro_z_percentile25: 0.005762337790266419\n",
      "gyro_x_std: 0.005500720415370757\n",
      "acceleration_y_percentile25: 0.005054981596664897\n",
      "Accuracy_max: 0.00413861376900486\n",
      "acceleration_x_max: 0.004132401312090438\n",
      "gyro_y_max: 0.003509123216699895\n",
      "hit_std: 0.0034302448263387767\n",
      "Speed_std: 0.003406858910701936\n",
      "Accuracy_percentile50: 0.0031097575090448886\n",
      "acceleration_y_percentile50: 0.003014979187306925\n",
      "gyro_z_max: 0.0029292181611606026\n",
      "Bearing_percentile25: 0.0028581906967139943\n",
      "stopping_time_ratio: 0.002662244133077037\n",
      "gyro_x_percentile75: 0.0025975122844534198\n",
      "gyro_x_percentile25: 0.002517562972473767\n",
      "gyro_y_std: 0.002466928445076696\n",
      "acceleration_z_max: 0.002458320538385651\n",
      "acceleration_y_max: 0.002453836501066531\n",
      "acceleration_x_min: 0.0023969917224641313\n",
      "acceleration_y_min: 0.002258265487729408\n",
      "gyro_z_percentile50: 0.002169292342975214\n",
      "gyro_x_percentile50: 0.002136120474739224\n",
      "gyro_z_min: 0.002112938962654798\n",
      "n_stops: 0.0019115442516899166\n",
      "gyro_y_min: 0.001834591570725406\n",
      "gyro_x_min: 0.0018261559486156841\n",
      "acceleration_y_percentile75: 0.0018064830634424759\n",
      "acceleration_z_min: 0.001797442191058744\n",
      "acceleration_x_percentile75: 0.0017530707597247781\n",
      "Accuracy_std: 0.0014589895864661356\n",
      "gyro_y_percentile25: 0.001375342604942814\n",
      "gyro_z_mean: 0.0013559856736334625\n",
      "Accuracy_percentile25: 0.0012398335043978285\n",
      "hit_mean: 0.0012038027324838615\n",
      "Speed_min: 0.0011762618042722396\n",
      "Bearing_percentile50: 0.0011727210523046199\n",
      "Bearing_min: 0.0011387667954618848\n",
      "gyro_y_mean: 0.001103159963246093\n",
      "acceleration_y_mean: 0.001036670260833452\n",
      "acceleration_x_percentile25: 0.0010105323116966459\n",
      "Bearing_percentile75: 0.0009897844271734009\n",
      "gyro_x_max: 0.000914611317393317\n",
      "gyro_y_percentile50: 0.000897612042243665\n",
      "Accuracy_mean: 0.0008659798449458077\n",
      "gyro_y_percentile75: 0.0007822808077002203\n",
      "Bearing_mean: 0.0007659068482010221\n",
      "Bearing_max: 0.0007124741421405034\n",
      "gyro_x_mean: 0.0006540802686623092\n",
      "acceleration_z_percentile75: 0.0006381239301672557\n",
      "acceleration_x_percentile50: 0.0006281630612862439\n",
      "Accuracy_min: 0.0005387571610054127\n",
      "acceleration_x_mean: 0.0005348534827661518\n",
      "acceleration_z_percentile25: 0.000447538524090821\n",
      "Accuracy_percentile75: 0.00040592961323238395\n",
      "acceleration_z_percentile50: 0.0003083136873763433\n",
      "acceleration_z_mean: 0.00023445676257924782\n"
     ]
    }
   ],
   "source": [
    "print('Feature importances: ')\n",
    "for col, imp in importances:\n",
    "    print('{}: {}'.format(col, imp))"
   ]
  }
 ],
 "metadata": {
  "kernelspec": {
   "display_name": "Python 3",
   "language": "python",
   "name": "python3"
  },
  "language_info": {
   "codemirror_mode": {
    "name": "ipython",
    "version": 3
   },
   "file_extension": ".py",
   "mimetype": "text/x-python",
   "name": "python",
   "nbconvert_exporter": "python",
   "pygments_lexer": "ipython3",
   "version": "3.6.5"
  },
  "pycharm": {
   "stem_cell": {
    "cell_type": "raw",
    "metadata": {
     "collapsed": false
    },
    "source": []
   }
  }
 },
 "nbformat": 4,
 "nbformat_minor": 1
}
