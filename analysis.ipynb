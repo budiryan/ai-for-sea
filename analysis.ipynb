{
 "cells": [
  {
   "cell_type": "code",
   "execution_count": 45,
   "metadata": {
    "pycharm": {
     "is_executing": false,
     "name": "#%% \n"
    }
   },
   "outputs": [
    {
     "name": "stdout",
     "text": [
      "The autoreload extension is already loaded. To reload it, use:\n  %reload_ext autoreload\n"
     ],
     "output_type": "stream"
    }
   ],
   "source": [
    "%load_ext autoreload\n",
    "%autoreload 2\n",
    "import json\n",
    "import pandas as pd\n",
    "%matplotlib inline\n",
    "import numpy as np\n",
    "from dataloader import load_features_and_labels\n",
    "\n",
    "# sklearn\n",
    "from sklearn.metrics import roc_auc_score\n",
    "from sklearn.ensemble import RandomForestRegressor, ExtraTreesRegressor\n",
    "from sklearn.linear_model import Ridge\n",
    "from sklearn.model_selection import StratifiedKFold\n",
    "\n",
    "# private modules\n",
    "from features.features import RideSafetyFeaturesAggregator\n",
    "from models.wrappers.lightgbm import LGBWrapper\n",
    "from models.wrappers.xgboost import XGBWrapper\n",
    "from models.wrappers.sklearn import SklearnWrapper\n",
    "from utils.utils import timer, json_to_dict, find_best_threshold_naive\n"
   ]
  },
  {
   "cell_type": "code",
   "execution_count": 22,
   "metadata": {
    "pycharm": {
     "is_executing": false,
     "name": "#%%\n"
    }
   },
   "outputs": [],
   "source": [
    "DATA_PATH = 'data/safety'\n"
   ]
  },
  {
   "cell_type": "markdown",
   "metadata": {
    "pycharm": {
     "name": "#%% md\n"
    }
   },
   "source": [
    "## Data Fields Description\n",
    "\n",
    "|      Field      |               Description               |\n",
    "|:---------------:|:---------------------------------------:|\n",
    "|    bookingID    |                 trip id                 |\n",
    "|     Accuracy    |    accuracy inferred by GPS in meters   |\n",
    "|     Bearing     |          GPS bearing in degree          |\n",
    "|  acceleration_x |  accelerometer reading at x axis (m/s2) |\n",
    "|  acceleration_y |  accelerometer reading at y axis (m/s2) |\n",
    "|  acceleration_z |  accelerometer reading at z axis (m/s2) |\n",
    "|      gyro_x     |   gyroscope reading in x axis (rad/s)   |\n",
    "|      gyro_y     |   gyroscope reading in y axis (rad/s)   |\n",
    "|      gyro_z     |   gyroscope reading in z axis (rad/s)   |\n",
    "|      second     | time of the record by number of seconds |\n",
    "|      Speed      |       speed measured by GPS in m/s      |\n",
    "\n"
   ]
  },
  {
   "cell_type": "code",
   "execution_count": 23,
   "outputs": [
    {
     "name": "stdout",
     "text": [
      "loaded feature file:  data/safety/features/part-00001-e6120af0-10c2-4248-97c4-81baf4304e5c-c000.csv\n",
      "loaded feature file:  data/safety/features/part-00000-e6120af0-10c2-4248-97c4-81baf4304e5c-c000.csv\n",
      "loaded feature file:  data/safety/features/part-00003-e6120af0-10c2-4248-97c4-81baf4304e5c-c000.csv\n",
      "loaded feature file:  data/safety/features/part-00002-e6120af0-10c2-4248-97c4-81baf4304e5c-c000.csv\n",
      "loaded feature file:  data/safety/features/part-00005-e6120af0-10c2-4248-97c4-81baf4304e5c-c000.csv\n",
      "loaded feature file:  data/safety/features/part-00009-e6120af0-10c2-4248-97c4-81baf4304e5c-c000.csv\n",
      "loaded feature file:  data/safety/features/part-00004-e6120af0-10c2-4248-97c4-81baf4304e5c-c000.csv\n",
      "loaded feature file:  data/safety/features/part-00008-e6120af0-10c2-4248-97c4-81baf4304e5c-c000.csv\n",
      "loaded feature file:  data/safety/features/part-00007-e6120af0-10c2-4248-97c4-81baf4304e5c-c000.csv\n",
      "loaded feature file:  data/safety/features/part-00006-e6120af0-10c2-4248-97c4-81baf4304e5c-c000.csv\n"
     ],
     "output_type": "stream"
    }
   ],
   "source": [
    "features, labels = load_features_and_labels('{}/{}'.format(DATA_PATH, 'features'), '{}/{}'.format(DATA_PATH, 'labels'))\n"
   ],
   "metadata": {
    "collapsed": false,
    "pycharm": {
     "name": "#%%\n",
     "is_executing": false
    }
   }
  },
  {
   "cell_type": "code",
   "execution_count": 24,
   "outputs": [
    {
     "data": {
      "text/plain": "(16135561, 11)"
     },
     "metadata": {},
     "output_type": "execute_result",
     "execution_count": 24
    }
   ],
   "source": [
    "features.shape\n"
   ],
   "metadata": {
    "collapsed": false,
    "pycharm": {
     "name": "#%%\n",
     "is_executing": false
    }
   }
  },
  {
   "cell_type": "code",
   "execution_count": 25,
   "outputs": [
    {
     "name": "stdout",
     "text": [
      "(16135561, 11)\n"
     ],
     "output_type": "stream"
    },
    {
     "data": {
      "text/plain": "         bookingID  Accuracy     Bearing  acceleration_x  acceleration_y  \\\n1153972          0      12.0  143.298294        0.818112       -9.941461   \n712971           0       8.0  143.298294        0.546405       -9.835590   \n167611           0       8.0  143.298294       -1.706207       -9.270792   \n436147           0       8.0  143.298294       -1.416705       -9.548032   \n1423207          0       8.0  143.298294       -0.598145       -9.853534   \n\n         acceleration_z    gyro_x    gyro_y    gyro_z  second     Speed  \n1153972       -2.014999 -0.016245 -0.094040  0.070732     0.0  3.442991  \n712971        -2.038925 -0.047092 -0.078874  0.043187     1.0  0.228454  \n167611        -1.209448 -0.028965 -0.032652  0.015390     2.0  0.228454  \n436147        -1.860977 -0.022413  0.005049 -0.025753     3.0  0.228454  \n1423207       -1.378574 -0.014297 -0.046206  0.021902     4.0  0.228454  ",
      "text/html": "<div>\n<style scoped>\n    .dataframe tbody tr th:only-of-type {\n        vertical-align: middle;\n    }\n\n    .dataframe tbody tr th {\n        vertical-align: top;\n    }\n\n    .dataframe thead th {\n        text-align: right;\n    }\n</style>\n<table border=\"1\" class=\"dataframe\">\n  <thead>\n    <tr style=\"text-align: right;\">\n      <th></th>\n      <th>bookingID</th>\n      <th>Accuracy</th>\n      <th>Bearing</th>\n      <th>acceleration_x</th>\n      <th>acceleration_y</th>\n      <th>acceleration_z</th>\n      <th>gyro_x</th>\n      <th>gyro_y</th>\n      <th>gyro_z</th>\n      <th>second</th>\n      <th>Speed</th>\n    </tr>\n  </thead>\n  <tbody>\n    <tr>\n      <th>1153972</th>\n      <td>0</td>\n      <td>12.0</td>\n      <td>143.298294</td>\n      <td>0.818112</td>\n      <td>-9.941461</td>\n      <td>-2.014999</td>\n      <td>-0.016245</td>\n      <td>-0.094040</td>\n      <td>0.070732</td>\n      <td>0.0</td>\n      <td>3.442991</td>\n    </tr>\n    <tr>\n      <th>712971</th>\n      <td>0</td>\n      <td>8.0</td>\n      <td>143.298294</td>\n      <td>0.546405</td>\n      <td>-9.835590</td>\n      <td>-2.038925</td>\n      <td>-0.047092</td>\n      <td>-0.078874</td>\n      <td>0.043187</td>\n      <td>1.0</td>\n      <td>0.228454</td>\n    </tr>\n    <tr>\n      <th>167611</th>\n      <td>0</td>\n      <td>8.0</td>\n      <td>143.298294</td>\n      <td>-1.706207</td>\n      <td>-9.270792</td>\n      <td>-1.209448</td>\n      <td>-0.028965</td>\n      <td>-0.032652</td>\n      <td>0.015390</td>\n      <td>2.0</td>\n      <td>0.228454</td>\n    </tr>\n    <tr>\n      <th>436147</th>\n      <td>0</td>\n      <td>8.0</td>\n      <td>143.298294</td>\n      <td>-1.416705</td>\n      <td>-9.548032</td>\n      <td>-1.860977</td>\n      <td>-0.022413</td>\n      <td>0.005049</td>\n      <td>-0.025753</td>\n      <td>3.0</td>\n      <td>0.228454</td>\n    </tr>\n    <tr>\n      <th>1423207</th>\n      <td>0</td>\n      <td>8.0</td>\n      <td>143.298294</td>\n      <td>-0.598145</td>\n      <td>-9.853534</td>\n      <td>-1.378574</td>\n      <td>-0.014297</td>\n      <td>-0.046206</td>\n      <td>0.021902</td>\n      <td>4.0</td>\n      <td>0.228454</td>\n    </tr>\n  </tbody>\n</table>\n</div>"
     },
     "metadata": {},
     "output_type": "execute_result",
     "execution_count": 25
    }
   ],
   "source": [
    "print(features.shape)\n",
    "features.head()\n"
   ],
   "metadata": {
    "collapsed": false,
    "pycharm": {
     "name": "#%%\n",
     "is_executing": false
    }
   }
  },
  {
   "cell_type": "code",
   "execution_count": 26,
   "outputs": [
    {
     "name": "stdout",
     "text": [
      "----Aggregating features:  started\n",
      "----Aggregating features:  done in 352 seconds\n"
     ],
     "output_type": "stream"
    }
   ],
   "source": [
    "with timer('Aggregating features: '):\n",
    "    feature_aggregator = RideSafetyFeaturesAggregator(features)\n",
    "    features_agg = feature_aggregator.get_aggregated_features()\n"
   ],
   "metadata": {
    "collapsed": false,
    "pycharm": {
     "name": "#%%\n",
     "is_executing": false
    }
   }
  },
  {
   "cell_type": "code",
   "execution_count": 27,
   "metadata": {
    "pycharm": {
     "is_executing": false,
     "name": "#%%\n"
    }
   },
   "outputs": [],
   "source": [
    "labels_no_duplicate = labels.drop_duplicates(subset='bookingID')\n",
    "features_agg = pd.merge(features_agg, labels_no_duplicate, how='left', on='bookingID')\n"
   ]
  },
  {
   "cell_type": "code",
   "execution_count": 28,
   "outputs": [
    {
     "data": {
      "text/plain": "                                       0            1           2  \\\nbookingID                       0.000000     1.000000    2.000000   \nAccuracy_mean                  10.165339     3.718763    3.930626   \nAccuracy_min                    4.000000     3.000000    3.000000   \nAccuracy_max                   48.000000     7.709000    8.000000   \nAccuracy_std                    3.855898     0.597933    1.117354   \nAccuracy_percentile25           8.000000     3.000000    3.000000   \nAccuracy_percentile50           8.000000     3.900000    3.634000   \nAccuracy_percentile75          12.000000     4.000000    4.000000   \nBearing_mean                  176.526099   124.198590  173.794872   \nBearing_min                     0.037464     0.000000    1.000000   \nBearing_max                   359.979767   337.000000  354.000000   \nBearing_std                   129.231351    89.861236  119.316520   \nBearing_percentile25           38.211140    50.000000   22.000000   \nBearing_percentile50          144.299423   110.000000  233.000000   \nBearing_percentile75          312.013893   208.000000  288.000000   \nacceleration_x_mean            -0.711264    -0.525406    0.306786   \nacceleration_x_min             -4.692294    -5.352994   -2.971295   \nacceleration_x_max              4.782614     3.813341    1.956122   \nacceleration_x_std              0.928022     0.744157    0.756589   \nacceleration_x_percentile25    -1.185149    -0.841121   -0.198725   \nacceleration_x_percentile50    -0.725250    -0.563126    0.433364   \nacceleration_x_percentile75    -0.299371    -0.229374    0.824828   \nacceleration_y_mean            -9.613822     9.532086    9.843183   \nacceleration_y_min            -12.764703     6.623425    7.941810   \nacceleration_y_max             -6.119916    12.536156   13.333716   \nacceleration_y_std              0.639934     0.533915    0.505693   \nacceleration_y_percentile25    -9.903928     9.277177    9.693221   \nacceleration_y_percentile50    -9.622127     9.537963    9.814133   \nacceleration_y_percentile75    -9.344438     9.796757    9.961381   \nacceleration_z_mean            -1.619658    -2.198999    0.139347   \n...                                  ...          ...         ...   \ngyro_y_max                      0.469724     0.470837    0.431695   \ngyro_y_std                      0.100225     0.091699    0.117321   \ngyro_y_percentile25            -0.046174    -0.033894   -0.044474   \ngyro_y_percentile50            -0.002239    -0.003491    0.001035   \ngyro_y_percentile75             0.032769     0.022907    0.021194   \ngyro_z_mean                    -0.004188     0.000405    0.002597   \ngyro_z_min                     -0.731892    -0.121265   -0.125907   \ngyro_z_max                      0.372807     0.235131    0.255884   \ngyro_z_std                      0.063685     0.033838    0.036215   \ngyro_z_percentile25            -0.029892    -0.014896   -0.008010   \ngyro_z_percentile50            -0.003522    -0.000384    0.001764   \ngyro_z_percentile75             0.020893     0.013334    0.013371   \nSpeed_mean                      8.994822     7.881588    3.157213   \nSpeed_min                      -1.000000    -1.000000    0.000000   \nSpeed_max                      22.946083    21.882141    9.360483   \nSpeed_std                       7.199919     7.059362    2.897762   \nSpeed_percentile25              1.490348     0.000000    0.000000   \nSpeed_percentile50              8.503366     6.904588    2.998761   \nSpeed_percentile75             15.645498    13.747929    5.299983   \nsecond_max                   1589.000000  1034.000000  825.000000   \nn_stops                         7.000000    18.000000    5.000000   \nhit_mean                        2.596531     1.436550    1.415263   \nhit_max                         9.927551    11.899200    5.499559   \nhit_std                         3.631771     4.198943    2.521282   \nnaive_distance               9115.483165  6714.655153  828.333583   \nstopping_time_ratio             0.000000     0.000967    0.000000   \nnum_acceleration_change_x       0.158590     0.101547    0.046061   \nnum_acceleration_change_y       0.000629     0.000967    0.001212   \nnum_acceleration_change_z       0.081183     0.020309    0.075152   \nlabel                           0.000000     1.000000    1.000000   \n\n                                       3            4  \nbookingID                       4.000000     6.000000  \nAccuracy_mean                  10.000000     4.586721  \nAccuracy_min                   10.000000     3.000000  \nAccuracy_max                   10.000000    12.000000  \nAccuracy_std                    0.000000     1.329545  \nAccuracy_percentile25          10.000000     3.900000  \nAccuracy_percentile50          10.000000     4.004000  \nAccuracy_percentile75          10.000000     4.938500  \nBearing_mean                  151.807013   197.812785  \nBearing_min                     2.271227     0.000000  \nBearing_max                   353.855377   359.000000  \nBearing_std                    71.273774   111.868249  \nBearing_percentile25          103.085045    82.500000  \nBearing_percentile50          134.210114   256.000000  \nBearing_percentile75          197.172825   293.000000  \nacceleration_x_mean            -0.365117     0.490616  \nacceleration_x_min             -2.866458    -4.352792  \nacceleration_x_max              2.019635     5.593026  \nacceleration_x_std              0.527220     0.826271  \nacceleration_x_percentile25    -0.566518     0.144854  \nacceleration_x_percentile50    -0.381168     0.476461  \nacceleration_x_percentile75    -0.148863     0.762577  \nacceleration_y_mean            -9.406439     9.538043  \nacceleration_y_min            -18.847833     6.469330  \nacceleration_y_max             -7.064984    13.249917  \nacceleration_y_std              0.598023     0.617210  \nacceleration_y_percentile25    -9.603696     9.184438  \nacceleration_y_percentile50    -9.364999     9.562734  \nacceleration_y_percentile75    -9.178528     9.876384  \nacceleration_z_mean            -2.613639     2.355059  \n...                                  ...          ...  \ngyro_y_max                      0.652628     0.532123  \ngyro_y_std                      0.112567     0.106815  \ngyro_y_percentile25            -0.018105    -0.020710  \ngyro_y_percentile50             0.024504     0.003724  \ngyro_y_percentile75             0.073195     0.025716  \ngyro_z_mean                    -0.000376     0.002930  \ngyro_z_min                     -0.348189    -0.348345  \ngyro_z_max                      0.505220     0.364534  \ngyro_z_std                      0.065927     0.057438  \ngyro_z_percentile25            -0.032884    -0.015118  \ngyro_z_percentile50            -0.001147     0.002902  \ngyro_z_percentile75             0.031477     0.022755  \nSpeed_mean                      6.150996     4.628921  \nSpeed_min                       0.000000     0.000000  \nSpeed_max                      19.780001    16.394695  \nSpeed_std                       5.595901     5.314844  \nSpeed_percentile25              2.190000     0.000000  \nSpeed_percentile50              3.310000     1.936962  \nSpeed_percentile75             10.222500     9.217060  \nsecond_max                   1094.000000  1094.000000  \nn_stops                         3.000000    18.000000  \nhit_mean                        2.100000     2.013214  \nhit_max                         6.200000     7.267421  \nhit_std                         2.899425     3.057833  \nnaive_distance               6731.350006  5065.688453  \nstopping_time_ratio             0.009141     0.009141  \nnum_acceleration_change_x       0.154479     0.214808  \nnum_acceleration_change_y       0.000914     0.000914  \nnum_acceleration_change_z       0.004570     0.022852  \nlabel                           1.000000     0.000000  \n\n[75 rows x 5 columns]",
      "text/html": "<div>\n<style scoped>\n    .dataframe tbody tr th:only-of-type {\n        vertical-align: middle;\n    }\n\n    .dataframe tbody tr th {\n        vertical-align: top;\n    }\n\n    .dataframe thead th {\n        text-align: right;\n    }\n</style>\n<table border=\"1\" class=\"dataframe\">\n  <thead>\n    <tr style=\"text-align: right;\">\n      <th></th>\n      <th>0</th>\n      <th>1</th>\n      <th>2</th>\n      <th>3</th>\n      <th>4</th>\n    </tr>\n  </thead>\n  <tbody>\n    <tr>\n      <th>bookingID</th>\n      <td>0.000000</td>\n      <td>1.000000</td>\n      <td>2.000000</td>\n      <td>4.000000</td>\n      <td>6.000000</td>\n    </tr>\n    <tr>\n      <th>Accuracy_mean</th>\n      <td>10.165339</td>\n      <td>3.718763</td>\n      <td>3.930626</td>\n      <td>10.000000</td>\n      <td>4.586721</td>\n    </tr>\n    <tr>\n      <th>Accuracy_min</th>\n      <td>4.000000</td>\n      <td>3.000000</td>\n      <td>3.000000</td>\n      <td>10.000000</td>\n      <td>3.000000</td>\n    </tr>\n    <tr>\n      <th>Accuracy_max</th>\n      <td>48.000000</td>\n      <td>7.709000</td>\n      <td>8.000000</td>\n      <td>10.000000</td>\n      <td>12.000000</td>\n    </tr>\n    <tr>\n      <th>Accuracy_std</th>\n      <td>3.855898</td>\n      <td>0.597933</td>\n      <td>1.117354</td>\n      <td>0.000000</td>\n      <td>1.329545</td>\n    </tr>\n    <tr>\n      <th>Accuracy_percentile25</th>\n      <td>8.000000</td>\n      <td>3.000000</td>\n      <td>3.000000</td>\n      <td>10.000000</td>\n      <td>3.900000</td>\n    </tr>\n    <tr>\n      <th>Accuracy_percentile50</th>\n      <td>8.000000</td>\n      <td>3.900000</td>\n      <td>3.634000</td>\n      <td>10.000000</td>\n      <td>4.004000</td>\n    </tr>\n    <tr>\n      <th>Accuracy_percentile75</th>\n      <td>12.000000</td>\n      <td>4.000000</td>\n      <td>4.000000</td>\n      <td>10.000000</td>\n      <td>4.938500</td>\n    </tr>\n    <tr>\n      <th>Bearing_mean</th>\n      <td>176.526099</td>\n      <td>124.198590</td>\n      <td>173.794872</td>\n      <td>151.807013</td>\n      <td>197.812785</td>\n    </tr>\n    <tr>\n      <th>Bearing_min</th>\n      <td>0.037464</td>\n      <td>0.000000</td>\n      <td>1.000000</td>\n      <td>2.271227</td>\n      <td>0.000000</td>\n    </tr>\n    <tr>\n      <th>Bearing_max</th>\n      <td>359.979767</td>\n      <td>337.000000</td>\n      <td>354.000000</td>\n      <td>353.855377</td>\n      <td>359.000000</td>\n    </tr>\n    <tr>\n      <th>Bearing_std</th>\n      <td>129.231351</td>\n      <td>89.861236</td>\n      <td>119.316520</td>\n      <td>71.273774</td>\n      <td>111.868249</td>\n    </tr>\n    <tr>\n      <th>Bearing_percentile25</th>\n      <td>38.211140</td>\n      <td>50.000000</td>\n      <td>22.000000</td>\n      <td>103.085045</td>\n      <td>82.500000</td>\n    </tr>\n    <tr>\n      <th>Bearing_percentile50</th>\n      <td>144.299423</td>\n      <td>110.000000</td>\n      <td>233.000000</td>\n      <td>134.210114</td>\n      <td>256.000000</td>\n    </tr>\n    <tr>\n      <th>Bearing_percentile75</th>\n      <td>312.013893</td>\n      <td>208.000000</td>\n      <td>288.000000</td>\n      <td>197.172825</td>\n      <td>293.000000</td>\n    </tr>\n    <tr>\n      <th>acceleration_x_mean</th>\n      <td>-0.711264</td>\n      <td>-0.525406</td>\n      <td>0.306786</td>\n      <td>-0.365117</td>\n      <td>0.490616</td>\n    </tr>\n    <tr>\n      <th>acceleration_x_min</th>\n      <td>-4.692294</td>\n      <td>-5.352994</td>\n      <td>-2.971295</td>\n      <td>-2.866458</td>\n      <td>-4.352792</td>\n    </tr>\n    <tr>\n      <th>acceleration_x_max</th>\n      <td>4.782614</td>\n      <td>3.813341</td>\n      <td>1.956122</td>\n      <td>2.019635</td>\n      <td>5.593026</td>\n    </tr>\n    <tr>\n      <th>acceleration_x_std</th>\n      <td>0.928022</td>\n      <td>0.744157</td>\n      <td>0.756589</td>\n      <td>0.527220</td>\n      <td>0.826271</td>\n    </tr>\n    <tr>\n      <th>acceleration_x_percentile25</th>\n      <td>-1.185149</td>\n      <td>-0.841121</td>\n      <td>-0.198725</td>\n      <td>-0.566518</td>\n      <td>0.144854</td>\n    </tr>\n    <tr>\n      <th>acceleration_x_percentile50</th>\n      <td>-0.725250</td>\n      <td>-0.563126</td>\n      <td>0.433364</td>\n      <td>-0.381168</td>\n      <td>0.476461</td>\n    </tr>\n    <tr>\n      <th>acceleration_x_percentile75</th>\n      <td>-0.299371</td>\n      <td>-0.229374</td>\n      <td>0.824828</td>\n      <td>-0.148863</td>\n      <td>0.762577</td>\n    </tr>\n    <tr>\n      <th>acceleration_y_mean</th>\n      <td>-9.613822</td>\n      <td>9.532086</td>\n      <td>9.843183</td>\n      <td>-9.406439</td>\n      <td>9.538043</td>\n    </tr>\n    <tr>\n      <th>acceleration_y_min</th>\n      <td>-12.764703</td>\n      <td>6.623425</td>\n      <td>7.941810</td>\n      <td>-18.847833</td>\n      <td>6.469330</td>\n    </tr>\n    <tr>\n      <th>acceleration_y_max</th>\n      <td>-6.119916</td>\n      <td>12.536156</td>\n      <td>13.333716</td>\n      <td>-7.064984</td>\n      <td>13.249917</td>\n    </tr>\n    <tr>\n      <th>acceleration_y_std</th>\n      <td>0.639934</td>\n      <td>0.533915</td>\n      <td>0.505693</td>\n      <td>0.598023</td>\n      <td>0.617210</td>\n    </tr>\n    <tr>\n      <th>acceleration_y_percentile25</th>\n      <td>-9.903928</td>\n      <td>9.277177</td>\n      <td>9.693221</td>\n      <td>-9.603696</td>\n      <td>9.184438</td>\n    </tr>\n    <tr>\n      <th>acceleration_y_percentile50</th>\n      <td>-9.622127</td>\n      <td>9.537963</td>\n      <td>9.814133</td>\n      <td>-9.364999</td>\n      <td>9.562734</td>\n    </tr>\n    <tr>\n      <th>acceleration_y_percentile75</th>\n      <td>-9.344438</td>\n      <td>9.796757</td>\n      <td>9.961381</td>\n      <td>-9.178528</td>\n      <td>9.876384</td>\n    </tr>\n    <tr>\n      <th>acceleration_z_mean</th>\n      <td>-1.619658</td>\n      <td>-2.198999</td>\n      <td>0.139347</td>\n      <td>-2.613639</td>\n      <td>2.355059</td>\n    </tr>\n    <tr>\n      <th>...</th>\n      <td>...</td>\n      <td>...</td>\n      <td>...</td>\n      <td>...</td>\n      <td>...</td>\n    </tr>\n    <tr>\n      <th>gyro_y_max</th>\n      <td>0.469724</td>\n      <td>0.470837</td>\n      <td>0.431695</td>\n      <td>0.652628</td>\n      <td>0.532123</td>\n    </tr>\n    <tr>\n      <th>gyro_y_std</th>\n      <td>0.100225</td>\n      <td>0.091699</td>\n      <td>0.117321</td>\n      <td>0.112567</td>\n      <td>0.106815</td>\n    </tr>\n    <tr>\n      <th>gyro_y_percentile25</th>\n      <td>-0.046174</td>\n      <td>-0.033894</td>\n      <td>-0.044474</td>\n      <td>-0.018105</td>\n      <td>-0.020710</td>\n    </tr>\n    <tr>\n      <th>gyro_y_percentile50</th>\n      <td>-0.002239</td>\n      <td>-0.003491</td>\n      <td>0.001035</td>\n      <td>0.024504</td>\n      <td>0.003724</td>\n    </tr>\n    <tr>\n      <th>gyro_y_percentile75</th>\n      <td>0.032769</td>\n      <td>0.022907</td>\n      <td>0.021194</td>\n      <td>0.073195</td>\n      <td>0.025716</td>\n    </tr>\n    <tr>\n      <th>gyro_z_mean</th>\n      <td>-0.004188</td>\n      <td>0.000405</td>\n      <td>0.002597</td>\n      <td>-0.000376</td>\n      <td>0.002930</td>\n    </tr>\n    <tr>\n      <th>gyro_z_min</th>\n      <td>-0.731892</td>\n      <td>-0.121265</td>\n      <td>-0.125907</td>\n      <td>-0.348189</td>\n      <td>-0.348345</td>\n    </tr>\n    <tr>\n      <th>gyro_z_max</th>\n      <td>0.372807</td>\n      <td>0.235131</td>\n      <td>0.255884</td>\n      <td>0.505220</td>\n      <td>0.364534</td>\n    </tr>\n    <tr>\n      <th>gyro_z_std</th>\n      <td>0.063685</td>\n      <td>0.033838</td>\n      <td>0.036215</td>\n      <td>0.065927</td>\n      <td>0.057438</td>\n    </tr>\n    <tr>\n      <th>gyro_z_percentile25</th>\n      <td>-0.029892</td>\n      <td>-0.014896</td>\n      <td>-0.008010</td>\n      <td>-0.032884</td>\n      <td>-0.015118</td>\n    </tr>\n    <tr>\n      <th>gyro_z_percentile50</th>\n      <td>-0.003522</td>\n      <td>-0.000384</td>\n      <td>0.001764</td>\n      <td>-0.001147</td>\n      <td>0.002902</td>\n    </tr>\n    <tr>\n      <th>gyro_z_percentile75</th>\n      <td>0.020893</td>\n      <td>0.013334</td>\n      <td>0.013371</td>\n      <td>0.031477</td>\n      <td>0.022755</td>\n    </tr>\n    <tr>\n      <th>Speed_mean</th>\n      <td>8.994822</td>\n      <td>7.881588</td>\n      <td>3.157213</td>\n      <td>6.150996</td>\n      <td>4.628921</td>\n    </tr>\n    <tr>\n      <th>Speed_min</th>\n      <td>-1.000000</td>\n      <td>-1.000000</td>\n      <td>0.000000</td>\n      <td>0.000000</td>\n      <td>0.000000</td>\n    </tr>\n    <tr>\n      <th>Speed_max</th>\n      <td>22.946083</td>\n      <td>21.882141</td>\n      <td>9.360483</td>\n      <td>19.780001</td>\n      <td>16.394695</td>\n    </tr>\n    <tr>\n      <th>Speed_std</th>\n      <td>7.199919</td>\n      <td>7.059362</td>\n      <td>2.897762</td>\n      <td>5.595901</td>\n      <td>5.314844</td>\n    </tr>\n    <tr>\n      <th>Speed_percentile25</th>\n      <td>1.490348</td>\n      <td>0.000000</td>\n      <td>0.000000</td>\n      <td>2.190000</td>\n      <td>0.000000</td>\n    </tr>\n    <tr>\n      <th>Speed_percentile50</th>\n      <td>8.503366</td>\n      <td>6.904588</td>\n      <td>2.998761</td>\n      <td>3.310000</td>\n      <td>1.936962</td>\n    </tr>\n    <tr>\n      <th>Speed_percentile75</th>\n      <td>15.645498</td>\n      <td>13.747929</td>\n      <td>5.299983</td>\n      <td>10.222500</td>\n      <td>9.217060</td>\n    </tr>\n    <tr>\n      <th>second_max</th>\n      <td>1589.000000</td>\n      <td>1034.000000</td>\n      <td>825.000000</td>\n      <td>1094.000000</td>\n      <td>1094.000000</td>\n    </tr>\n    <tr>\n      <th>n_stops</th>\n      <td>7.000000</td>\n      <td>18.000000</td>\n      <td>5.000000</td>\n      <td>3.000000</td>\n      <td>18.000000</td>\n    </tr>\n    <tr>\n      <th>hit_mean</th>\n      <td>2.596531</td>\n      <td>1.436550</td>\n      <td>1.415263</td>\n      <td>2.100000</td>\n      <td>2.013214</td>\n    </tr>\n    <tr>\n      <th>hit_max</th>\n      <td>9.927551</td>\n      <td>11.899200</td>\n      <td>5.499559</td>\n      <td>6.200000</td>\n      <td>7.267421</td>\n    </tr>\n    <tr>\n      <th>hit_std</th>\n      <td>3.631771</td>\n      <td>4.198943</td>\n      <td>2.521282</td>\n      <td>2.899425</td>\n      <td>3.057833</td>\n    </tr>\n    <tr>\n      <th>naive_distance</th>\n      <td>9115.483165</td>\n      <td>6714.655153</td>\n      <td>828.333583</td>\n      <td>6731.350006</td>\n      <td>5065.688453</td>\n    </tr>\n    <tr>\n      <th>stopping_time_ratio</th>\n      <td>0.000000</td>\n      <td>0.000967</td>\n      <td>0.000000</td>\n      <td>0.009141</td>\n      <td>0.009141</td>\n    </tr>\n    <tr>\n      <th>num_acceleration_change_x</th>\n      <td>0.158590</td>\n      <td>0.101547</td>\n      <td>0.046061</td>\n      <td>0.154479</td>\n      <td>0.214808</td>\n    </tr>\n    <tr>\n      <th>num_acceleration_change_y</th>\n      <td>0.000629</td>\n      <td>0.000967</td>\n      <td>0.001212</td>\n      <td>0.000914</td>\n      <td>0.000914</td>\n    </tr>\n    <tr>\n      <th>num_acceleration_change_z</th>\n      <td>0.081183</td>\n      <td>0.020309</td>\n      <td>0.075152</td>\n      <td>0.004570</td>\n      <td>0.022852</td>\n    </tr>\n    <tr>\n      <th>label</th>\n      <td>0.000000</td>\n      <td>1.000000</td>\n      <td>1.000000</td>\n      <td>1.000000</td>\n      <td>0.000000</td>\n    </tr>\n  </tbody>\n</table>\n<p>75 rows × 5 columns</p>\n</div>"
     },
     "metadata": {},
     "output_type": "execute_result",
     "execution_count": 28
    }
   ],
   "source": [
    "features_agg.head().T\n"
   ],
   "metadata": {
    "collapsed": false,
    "pycharm": {
     "name": "#%%\n",
     "is_executing": false
    }
   }
  },
  {
   "cell_type": "code",
   "execution_count": 29,
   "metadata": {
    "pycharm": {
     "is_executing": false
    }
   },
   "outputs": [],
   "source": [
    "feature_columns = [c for c in features_agg.columns.values if c not in ['bookingID', 'label']]\n",
    "label_column = 'label'\n"
   ]
  },
  {
   "cell_type": "code",
   "execution_count": 72,
   "outputs": [
    {
     "data": {
      "text/plain": "                                       0            1           2  \\\nbookingID                       0.000000     1.000000    2.000000   \nAccuracy_mean                  10.165339     3.718763    3.930626   \nAccuracy_min                    4.000000     3.000000    3.000000   \nAccuracy_max                   48.000000     7.709000    8.000000   \nAccuracy_std                    3.855898     0.597933    1.117354   \nAccuracy_percentile25           8.000000     3.000000    3.000000   \nAccuracy_percentile50           8.000000     3.900000    3.634000   \nAccuracy_percentile75          12.000000     4.000000    4.000000   \nBearing_mean                  176.526099   124.198590  173.794872   \nBearing_min                     0.037464     0.000000    1.000000   \nBearing_max                   359.979767   337.000000  354.000000   \nBearing_std                   129.231351    89.861236  119.316520   \nBearing_percentile25           38.211140    50.000000   22.000000   \nBearing_percentile50          144.299423   110.000000  233.000000   \nBearing_percentile75          312.013893   208.000000  288.000000   \nacceleration_x_mean            -0.711264    -0.525406    0.306786   \nacceleration_x_min             -4.692294    -5.352994   -2.971295   \nacceleration_x_max              4.782614     3.813341    1.956122   \nacceleration_x_std              0.928022     0.744157    0.756589   \nacceleration_x_percentile25    -1.185149    -0.841121   -0.198725   \nacceleration_x_percentile50    -0.725250    -0.563126    0.433364   \nacceleration_x_percentile75    -0.299371    -0.229374    0.824828   \nacceleration_y_mean            -9.613822     9.532086    9.843183   \nacceleration_y_min            -12.764703     6.623425    7.941810   \nacceleration_y_max             -6.119916    12.536156   13.333716   \nacceleration_y_std              0.639934     0.533915    0.505693   \nacceleration_y_percentile25    -9.903928     9.277177    9.693221   \nacceleration_y_percentile50    -9.622127     9.537963    9.814133   \nacceleration_y_percentile75    -9.344438     9.796757    9.961381   \nacceleration_z_mean            -1.619658    -2.198999    0.139347   \n...                                  ...          ...         ...   \ngyro_y_max                      0.469724     0.470837    0.431695   \ngyro_y_std                      0.100225     0.091699    0.117321   \ngyro_y_percentile25            -0.046174    -0.033894   -0.044474   \ngyro_y_percentile50            -0.002239    -0.003491    0.001035   \ngyro_y_percentile75             0.032769     0.022907    0.021194   \ngyro_z_mean                    -0.004188     0.000405    0.002597   \ngyro_z_min                     -0.731892    -0.121265   -0.125907   \ngyro_z_max                      0.372807     0.235131    0.255884   \ngyro_z_std                      0.063685     0.033838    0.036215   \ngyro_z_percentile25            -0.029892    -0.014896   -0.008010   \ngyro_z_percentile50            -0.003522    -0.000384    0.001764   \ngyro_z_percentile75             0.020893     0.013334    0.013371   \nSpeed_mean                      8.994822     7.881588    3.157213   \nSpeed_min                      -1.000000    -1.000000    0.000000   \nSpeed_max                      22.946083    21.882141    9.360483   \nSpeed_std                       7.199919     7.059362    2.897762   \nSpeed_percentile25              1.490348     0.000000    0.000000   \nSpeed_percentile50              8.503366     6.904588    2.998761   \nSpeed_percentile75             15.645498    13.747929    5.299983   \nsecond_max                   1589.000000  1034.000000  825.000000   \nn_stops                         7.000000    18.000000    5.000000   \nhit_mean                        2.596531     1.436550    1.415263   \nhit_max                         9.927551    11.899200    5.499559   \nhit_std                         3.631771     4.198943    2.521282   \nnaive_distance               9115.483165  6714.655153  828.333583   \nstopping_time_ratio             0.000000     0.000967    0.000000   \nnum_acceleration_change_x       0.158590     0.101547    0.046061   \nnum_acceleration_change_y       0.000629     0.000967    0.001212   \nnum_acceleration_change_z       0.081183     0.020309    0.075152   \nlabel                           0.000000     1.000000    1.000000   \n\n                                       3            4  \nbookingID                       4.000000     6.000000  \nAccuracy_mean                  10.000000     4.586721  \nAccuracy_min                   10.000000     3.000000  \nAccuracy_max                   10.000000    12.000000  \nAccuracy_std                    0.000000     1.329545  \nAccuracy_percentile25          10.000000     3.900000  \nAccuracy_percentile50          10.000000     4.004000  \nAccuracy_percentile75          10.000000     4.938500  \nBearing_mean                  151.807013   197.812785  \nBearing_min                     2.271227     0.000000  \nBearing_max                   353.855377   359.000000  \nBearing_std                    71.273774   111.868249  \nBearing_percentile25          103.085045    82.500000  \nBearing_percentile50          134.210114   256.000000  \nBearing_percentile75          197.172825   293.000000  \nacceleration_x_mean            -0.365117     0.490616  \nacceleration_x_min             -2.866458    -4.352792  \nacceleration_x_max              2.019635     5.593026  \nacceleration_x_std              0.527220     0.826271  \nacceleration_x_percentile25    -0.566518     0.144854  \nacceleration_x_percentile50    -0.381168     0.476461  \nacceleration_x_percentile75    -0.148863     0.762577  \nacceleration_y_mean            -9.406439     9.538043  \nacceleration_y_min            -18.847833     6.469330  \nacceleration_y_max             -7.064984    13.249917  \nacceleration_y_std              0.598023     0.617210  \nacceleration_y_percentile25    -9.603696     9.184438  \nacceleration_y_percentile50    -9.364999     9.562734  \nacceleration_y_percentile75    -9.178528     9.876384  \nacceleration_z_mean            -2.613639     2.355059  \n...                                  ...          ...  \ngyro_y_max                      0.652628     0.532123  \ngyro_y_std                      0.112567     0.106815  \ngyro_y_percentile25            -0.018105    -0.020710  \ngyro_y_percentile50             0.024504     0.003724  \ngyro_y_percentile75             0.073195     0.025716  \ngyro_z_mean                    -0.000376     0.002930  \ngyro_z_min                     -0.348189    -0.348345  \ngyro_z_max                      0.505220     0.364534  \ngyro_z_std                      0.065927     0.057438  \ngyro_z_percentile25            -0.032884    -0.015118  \ngyro_z_percentile50            -0.001147     0.002902  \ngyro_z_percentile75             0.031477     0.022755  \nSpeed_mean                      6.150996     4.628921  \nSpeed_min                       0.000000     0.000000  \nSpeed_max                      19.780001    16.394695  \nSpeed_std                       5.595901     5.314844  \nSpeed_percentile25              2.190000     0.000000  \nSpeed_percentile50              3.310000     1.936962  \nSpeed_percentile75             10.222500     9.217060  \nsecond_max                   1094.000000  1094.000000  \nn_stops                         3.000000    18.000000  \nhit_mean                        2.100000     2.013214  \nhit_max                         6.200000     7.267421  \nhit_std                         2.899425     3.057833  \nnaive_distance               6731.350006  5065.688453  \nstopping_time_ratio             0.009141     0.009141  \nnum_acceleration_change_x       0.154479     0.214808  \nnum_acceleration_change_y       0.000914     0.000914  \nnum_acceleration_change_z       0.004570     0.022852  \nlabel                           1.000000     0.000000  \n\n[75 rows x 5 columns]",
      "text/html": "<div>\n<style scoped>\n    .dataframe tbody tr th:only-of-type {\n        vertical-align: middle;\n    }\n\n    .dataframe tbody tr th {\n        vertical-align: top;\n    }\n\n    .dataframe thead th {\n        text-align: right;\n    }\n</style>\n<table border=\"1\" class=\"dataframe\">\n  <thead>\n    <tr style=\"text-align: right;\">\n      <th></th>\n      <th>0</th>\n      <th>1</th>\n      <th>2</th>\n      <th>3</th>\n      <th>4</th>\n    </tr>\n  </thead>\n  <tbody>\n    <tr>\n      <th>bookingID</th>\n      <td>0.000000</td>\n      <td>1.000000</td>\n      <td>2.000000</td>\n      <td>4.000000</td>\n      <td>6.000000</td>\n    </tr>\n    <tr>\n      <th>Accuracy_mean</th>\n      <td>10.165339</td>\n      <td>3.718763</td>\n      <td>3.930626</td>\n      <td>10.000000</td>\n      <td>4.586721</td>\n    </tr>\n    <tr>\n      <th>Accuracy_min</th>\n      <td>4.000000</td>\n      <td>3.000000</td>\n      <td>3.000000</td>\n      <td>10.000000</td>\n      <td>3.000000</td>\n    </tr>\n    <tr>\n      <th>Accuracy_max</th>\n      <td>48.000000</td>\n      <td>7.709000</td>\n      <td>8.000000</td>\n      <td>10.000000</td>\n      <td>12.000000</td>\n    </tr>\n    <tr>\n      <th>Accuracy_std</th>\n      <td>3.855898</td>\n      <td>0.597933</td>\n      <td>1.117354</td>\n      <td>0.000000</td>\n      <td>1.329545</td>\n    </tr>\n    <tr>\n      <th>Accuracy_percentile25</th>\n      <td>8.000000</td>\n      <td>3.000000</td>\n      <td>3.000000</td>\n      <td>10.000000</td>\n      <td>3.900000</td>\n    </tr>\n    <tr>\n      <th>Accuracy_percentile50</th>\n      <td>8.000000</td>\n      <td>3.900000</td>\n      <td>3.634000</td>\n      <td>10.000000</td>\n      <td>4.004000</td>\n    </tr>\n    <tr>\n      <th>Accuracy_percentile75</th>\n      <td>12.000000</td>\n      <td>4.000000</td>\n      <td>4.000000</td>\n      <td>10.000000</td>\n      <td>4.938500</td>\n    </tr>\n    <tr>\n      <th>Bearing_mean</th>\n      <td>176.526099</td>\n      <td>124.198590</td>\n      <td>173.794872</td>\n      <td>151.807013</td>\n      <td>197.812785</td>\n    </tr>\n    <tr>\n      <th>Bearing_min</th>\n      <td>0.037464</td>\n      <td>0.000000</td>\n      <td>1.000000</td>\n      <td>2.271227</td>\n      <td>0.000000</td>\n    </tr>\n    <tr>\n      <th>Bearing_max</th>\n      <td>359.979767</td>\n      <td>337.000000</td>\n      <td>354.000000</td>\n      <td>353.855377</td>\n      <td>359.000000</td>\n    </tr>\n    <tr>\n      <th>Bearing_std</th>\n      <td>129.231351</td>\n      <td>89.861236</td>\n      <td>119.316520</td>\n      <td>71.273774</td>\n      <td>111.868249</td>\n    </tr>\n    <tr>\n      <th>Bearing_percentile25</th>\n      <td>38.211140</td>\n      <td>50.000000</td>\n      <td>22.000000</td>\n      <td>103.085045</td>\n      <td>82.500000</td>\n    </tr>\n    <tr>\n      <th>Bearing_percentile50</th>\n      <td>144.299423</td>\n      <td>110.000000</td>\n      <td>233.000000</td>\n      <td>134.210114</td>\n      <td>256.000000</td>\n    </tr>\n    <tr>\n      <th>Bearing_percentile75</th>\n      <td>312.013893</td>\n      <td>208.000000</td>\n      <td>288.000000</td>\n      <td>197.172825</td>\n      <td>293.000000</td>\n    </tr>\n    <tr>\n      <th>acceleration_x_mean</th>\n      <td>-0.711264</td>\n      <td>-0.525406</td>\n      <td>0.306786</td>\n      <td>-0.365117</td>\n      <td>0.490616</td>\n    </tr>\n    <tr>\n      <th>acceleration_x_min</th>\n      <td>-4.692294</td>\n      <td>-5.352994</td>\n      <td>-2.971295</td>\n      <td>-2.866458</td>\n      <td>-4.352792</td>\n    </tr>\n    <tr>\n      <th>acceleration_x_max</th>\n      <td>4.782614</td>\n      <td>3.813341</td>\n      <td>1.956122</td>\n      <td>2.019635</td>\n      <td>5.593026</td>\n    </tr>\n    <tr>\n      <th>acceleration_x_std</th>\n      <td>0.928022</td>\n      <td>0.744157</td>\n      <td>0.756589</td>\n      <td>0.527220</td>\n      <td>0.826271</td>\n    </tr>\n    <tr>\n      <th>acceleration_x_percentile25</th>\n      <td>-1.185149</td>\n      <td>-0.841121</td>\n      <td>-0.198725</td>\n      <td>-0.566518</td>\n      <td>0.144854</td>\n    </tr>\n    <tr>\n      <th>acceleration_x_percentile50</th>\n      <td>-0.725250</td>\n      <td>-0.563126</td>\n      <td>0.433364</td>\n      <td>-0.381168</td>\n      <td>0.476461</td>\n    </tr>\n    <tr>\n      <th>acceleration_x_percentile75</th>\n      <td>-0.299371</td>\n      <td>-0.229374</td>\n      <td>0.824828</td>\n      <td>-0.148863</td>\n      <td>0.762577</td>\n    </tr>\n    <tr>\n      <th>acceleration_y_mean</th>\n      <td>-9.613822</td>\n      <td>9.532086</td>\n      <td>9.843183</td>\n      <td>-9.406439</td>\n      <td>9.538043</td>\n    </tr>\n    <tr>\n      <th>acceleration_y_min</th>\n      <td>-12.764703</td>\n      <td>6.623425</td>\n      <td>7.941810</td>\n      <td>-18.847833</td>\n      <td>6.469330</td>\n    </tr>\n    <tr>\n      <th>acceleration_y_max</th>\n      <td>-6.119916</td>\n      <td>12.536156</td>\n      <td>13.333716</td>\n      <td>-7.064984</td>\n      <td>13.249917</td>\n    </tr>\n    <tr>\n      <th>acceleration_y_std</th>\n      <td>0.639934</td>\n      <td>0.533915</td>\n      <td>0.505693</td>\n      <td>0.598023</td>\n      <td>0.617210</td>\n    </tr>\n    <tr>\n      <th>acceleration_y_percentile25</th>\n      <td>-9.903928</td>\n      <td>9.277177</td>\n      <td>9.693221</td>\n      <td>-9.603696</td>\n      <td>9.184438</td>\n    </tr>\n    <tr>\n      <th>acceleration_y_percentile50</th>\n      <td>-9.622127</td>\n      <td>9.537963</td>\n      <td>9.814133</td>\n      <td>-9.364999</td>\n      <td>9.562734</td>\n    </tr>\n    <tr>\n      <th>acceleration_y_percentile75</th>\n      <td>-9.344438</td>\n      <td>9.796757</td>\n      <td>9.961381</td>\n      <td>-9.178528</td>\n      <td>9.876384</td>\n    </tr>\n    <tr>\n      <th>acceleration_z_mean</th>\n      <td>-1.619658</td>\n      <td>-2.198999</td>\n      <td>0.139347</td>\n      <td>-2.613639</td>\n      <td>2.355059</td>\n    </tr>\n    <tr>\n      <th>...</th>\n      <td>...</td>\n      <td>...</td>\n      <td>...</td>\n      <td>...</td>\n      <td>...</td>\n    </tr>\n    <tr>\n      <th>gyro_y_max</th>\n      <td>0.469724</td>\n      <td>0.470837</td>\n      <td>0.431695</td>\n      <td>0.652628</td>\n      <td>0.532123</td>\n    </tr>\n    <tr>\n      <th>gyro_y_std</th>\n      <td>0.100225</td>\n      <td>0.091699</td>\n      <td>0.117321</td>\n      <td>0.112567</td>\n      <td>0.106815</td>\n    </tr>\n    <tr>\n      <th>gyro_y_percentile25</th>\n      <td>-0.046174</td>\n      <td>-0.033894</td>\n      <td>-0.044474</td>\n      <td>-0.018105</td>\n      <td>-0.020710</td>\n    </tr>\n    <tr>\n      <th>gyro_y_percentile50</th>\n      <td>-0.002239</td>\n      <td>-0.003491</td>\n      <td>0.001035</td>\n      <td>0.024504</td>\n      <td>0.003724</td>\n    </tr>\n    <tr>\n      <th>gyro_y_percentile75</th>\n      <td>0.032769</td>\n      <td>0.022907</td>\n      <td>0.021194</td>\n      <td>0.073195</td>\n      <td>0.025716</td>\n    </tr>\n    <tr>\n      <th>gyro_z_mean</th>\n      <td>-0.004188</td>\n      <td>0.000405</td>\n      <td>0.002597</td>\n      <td>-0.000376</td>\n      <td>0.002930</td>\n    </tr>\n    <tr>\n      <th>gyro_z_min</th>\n      <td>-0.731892</td>\n      <td>-0.121265</td>\n      <td>-0.125907</td>\n      <td>-0.348189</td>\n      <td>-0.348345</td>\n    </tr>\n    <tr>\n      <th>gyro_z_max</th>\n      <td>0.372807</td>\n      <td>0.235131</td>\n      <td>0.255884</td>\n      <td>0.505220</td>\n      <td>0.364534</td>\n    </tr>\n    <tr>\n      <th>gyro_z_std</th>\n      <td>0.063685</td>\n      <td>0.033838</td>\n      <td>0.036215</td>\n      <td>0.065927</td>\n      <td>0.057438</td>\n    </tr>\n    <tr>\n      <th>gyro_z_percentile25</th>\n      <td>-0.029892</td>\n      <td>-0.014896</td>\n      <td>-0.008010</td>\n      <td>-0.032884</td>\n      <td>-0.015118</td>\n    </tr>\n    <tr>\n      <th>gyro_z_percentile50</th>\n      <td>-0.003522</td>\n      <td>-0.000384</td>\n      <td>0.001764</td>\n      <td>-0.001147</td>\n      <td>0.002902</td>\n    </tr>\n    <tr>\n      <th>gyro_z_percentile75</th>\n      <td>0.020893</td>\n      <td>0.013334</td>\n      <td>0.013371</td>\n      <td>0.031477</td>\n      <td>0.022755</td>\n    </tr>\n    <tr>\n      <th>Speed_mean</th>\n      <td>8.994822</td>\n      <td>7.881588</td>\n      <td>3.157213</td>\n      <td>6.150996</td>\n      <td>4.628921</td>\n    </tr>\n    <tr>\n      <th>Speed_min</th>\n      <td>-1.000000</td>\n      <td>-1.000000</td>\n      <td>0.000000</td>\n      <td>0.000000</td>\n      <td>0.000000</td>\n    </tr>\n    <tr>\n      <th>Speed_max</th>\n      <td>22.946083</td>\n      <td>21.882141</td>\n      <td>9.360483</td>\n      <td>19.780001</td>\n      <td>16.394695</td>\n    </tr>\n    <tr>\n      <th>Speed_std</th>\n      <td>7.199919</td>\n      <td>7.059362</td>\n      <td>2.897762</td>\n      <td>5.595901</td>\n      <td>5.314844</td>\n    </tr>\n    <tr>\n      <th>Speed_percentile25</th>\n      <td>1.490348</td>\n      <td>0.000000</td>\n      <td>0.000000</td>\n      <td>2.190000</td>\n      <td>0.000000</td>\n    </tr>\n    <tr>\n      <th>Speed_percentile50</th>\n      <td>8.503366</td>\n      <td>6.904588</td>\n      <td>2.998761</td>\n      <td>3.310000</td>\n      <td>1.936962</td>\n    </tr>\n    <tr>\n      <th>Speed_percentile75</th>\n      <td>15.645498</td>\n      <td>13.747929</td>\n      <td>5.299983</td>\n      <td>10.222500</td>\n      <td>9.217060</td>\n    </tr>\n    <tr>\n      <th>second_max</th>\n      <td>1589.000000</td>\n      <td>1034.000000</td>\n      <td>825.000000</td>\n      <td>1094.000000</td>\n      <td>1094.000000</td>\n    </tr>\n    <tr>\n      <th>n_stops</th>\n      <td>7.000000</td>\n      <td>18.000000</td>\n      <td>5.000000</td>\n      <td>3.000000</td>\n      <td>18.000000</td>\n    </tr>\n    <tr>\n      <th>hit_mean</th>\n      <td>2.596531</td>\n      <td>1.436550</td>\n      <td>1.415263</td>\n      <td>2.100000</td>\n      <td>2.013214</td>\n    </tr>\n    <tr>\n      <th>hit_max</th>\n      <td>9.927551</td>\n      <td>11.899200</td>\n      <td>5.499559</td>\n      <td>6.200000</td>\n      <td>7.267421</td>\n    </tr>\n    <tr>\n      <th>hit_std</th>\n      <td>3.631771</td>\n      <td>4.198943</td>\n      <td>2.521282</td>\n      <td>2.899425</td>\n      <td>3.057833</td>\n    </tr>\n    <tr>\n      <th>naive_distance</th>\n      <td>9115.483165</td>\n      <td>6714.655153</td>\n      <td>828.333583</td>\n      <td>6731.350006</td>\n      <td>5065.688453</td>\n    </tr>\n    <tr>\n      <th>stopping_time_ratio</th>\n      <td>0.000000</td>\n      <td>0.000967</td>\n      <td>0.000000</td>\n      <td>0.009141</td>\n      <td>0.009141</td>\n    </tr>\n    <tr>\n      <th>num_acceleration_change_x</th>\n      <td>0.158590</td>\n      <td>0.101547</td>\n      <td>0.046061</td>\n      <td>0.154479</td>\n      <td>0.214808</td>\n    </tr>\n    <tr>\n      <th>num_acceleration_change_y</th>\n      <td>0.000629</td>\n      <td>0.000967</td>\n      <td>0.001212</td>\n      <td>0.000914</td>\n      <td>0.000914</td>\n    </tr>\n    <tr>\n      <th>num_acceleration_change_z</th>\n      <td>0.081183</td>\n      <td>0.020309</td>\n      <td>0.075152</td>\n      <td>0.004570</td>\n      <td>0.022852</td>\n    </tr>\n    <tr>\n      <th>label</th>\n      <td>0.000000</td>\n      <td>1.000000</td>\n      <td>1.000000</td>\n      <td>1.000000</td>\n      <td>0.000000</td>\n    </tr>\n  </tbody>\n</table>\n<p>75 rows × 5 columns</p>\n</div>"
     },
     "metadata": {},
     "output_type": "execute_result",
     "execution_count": 72
    }
   ],
   "source": [
    "features_agg.head().T\n"
   ],
   "metadata": {
    "collapsed": false,
    "pycharm": {
     "name": "#%%\n",
     "is_executing": false
    }
   }
  },
  {
   "cell_type": "markdown",
   "metadata": {},
   "source": [
    "## Modelling Part\n"
   ]
  },
  {
   "cell_type": "markdown",
   "source": [
    "### Ensemble of Ridge Regression on top of stacked LightGBM, XGBoost, RandomForest and ExtraTrees\n"
   ],
   "metadata": {
    "collapsed": false,
    "pycharm": {
     "name": "#%% md\n"
    }
   }
  },
  {
   "cell_type": "code",
   "execution_count": 33,
   "metadata": {
    "pycharm": {
     "is_executing": false
    }
   },
   "outputs": [],
   "source": [
    "NUM_SPLITS = 5\n",
    "MODEL_SAVE_PATH = ''\n",
    "X = features_agg[feature_columns].values\n",
    "y = features_agg[label_column].values\n"
   ]
  },
  {
   "cell_type": "code",
   "execution_count": 105,
   "outputs": [
    {
     "name": "stdout",
     "text": [
      "----Training LightGBM started\nTraining for fold:  1\ntraining with validation dataset...\nself param:  {'task': 'train', 'boosting_type': 'gbdt', 'objective': 'regression', 'metric': 'rmse', 'max_depth': 4, 'num_leaves': 46, 'feature_fraction': 0.6, 'bagging_fraction': 0.9, 'bagging_freq': 8, 'learning_rate': 0.019, 'verbose': 0}\n",
      "Training until validation scores don't improve for 2000 rounds.\n",
      "[1000]\ttraining's rmse: 0.348437\tvalid_1's rmse: 0.399502\n",
      "[2000]\ttraining's rmse: 0.315277\tvalid_1's rmse: 0.401967\n",
      "Early stopping, best iteration is:\n[336]\ttraining's rmse: 0.377018\tvalid_1's rmse: 0.39823\nTraining for fold:  2\ntraining with validation dataset...\nself param:  {'task': 'train', 'boosting_type': 'gbdt', 'objective': 'regression', 'metric': 'rmse', 'max_depth': 4, 'num_leaves': 46, 'feature_fraction': 0.6, 'bagging_fraction': 0.9, 'bagging_freq': 8, 'learning_rate': 0.019, 'verbose': 0}\nTraining until validation scores don't improve for 2000 rounds.\n",
      "[1000]\ttraining's rmse: 0.349366\tvalid_1's rmse: 0.40387\n",
      "[2000]\ttraining's rmse: 0.316342\tvalid_1's rmse: 0.405912\n",
      "Early stopping, best iteration is:\n[504]\ttraining's rmse: 0.368149\tvalid_1's rmse: 0.402832\nTraining for fold:  3\ntraining with validation dataset...\nself param:  {'task': 'train', 'boosting_type': 'gbdt', 'objective': 'regression', 'metric': 'rmse', 'max_depth': 4, 'num_leaves': 46, 'feature_fraction': 0.6, 'bagging_fraction': 0.9, 'bagging_freq': 8, 'learning_rate': 0.019, 'verbose': 0}\nTraining until validation scores don't improve for 2000 rounds.\n",
      "[1000]\ttraining's rmse: 0.352797\tvalid_1's rmse: 0.391221\n",
      "[2000]\ttraining's rmse: 0.319382\tvalid_1's rmse: 0.394001\n",
      "Early stopping, best iteration is:\n[496]\ttraining's rmse: 0.37218\tvalid_1's rmse: 0.390412\nTraining for fold:  4\ntraining with validation dataset...\nself param:  {'task': 'train', 'boosting_type': 'gbdt', 'objective': 'regression', 'metric': 'rmse', 'max_depth': 4, 'num_leaves': 46, 'feature_fraction': 0.6, 'bagging_fraction': 0.9, 'bagging_freq': 8, 'learning_rate': 0.019, 'verbose': 0}\nTraining until validation scores don't improve for 2000 rounds.\n",
      "[1000]\ttraining's rmse: 0.350897\tvalid_1's rmse: 0.397131\n",
      "[2000]\ttraining's rmse: 0.317674\tvalid_1's rmse: 0.399191\n",
      "Early stopping, best iteration is:\n[560]\ttraining's rmse: 0.367781\tvalid_1's rmse: 0.396233\nTraining for fold:  5\ntraining with validation dataset...\nself param:  {'task': 'train', 'boosting_type': 'gbdt', 'objective': 'regression', 'metric': 'rmse', 'max_depth': 4, 'num_leaves': 46, 'feature_fraction': 0.6, 'bagging_fraction': 0.9, 'bagging_freq': 8, 'learning_rate': 0.019, 'verbose': 0}\nTraining until validation scores don't improve for 2000 rounds.\n",
      "[1000]\ttraining's rmse: 0.350806\tvalid_1's rmse: 0.394226\n",
      "[2000]\ttraining's rmse: 0.317201\tvalid_1's rmse: 0.396799\n",
      "Early stopping, best iteration is:\n[583]\ttraining's rmse: 0.366949\tvalid_1's rmse: 0.393566\n----Training LightGBM done in 17 seconds\n"
     ],
     "output_type": "stream"
    }
   ],
   "source": [
    "lgbm_params = json_to_dict('models/params/lightgbm.json')\n",
    "\n",
    "with timer('Training LightGBM'):\n",
    "    lgb_oof_train = np.zeros((len(X),))\n",
    "\n",
    "    for i, (train_index, val_index) in enumerate(StratifiedKFold(n_splits=NUM_SPLITS, shuffle=True).split(X, y)):\n",
    "        print('Training for fold: ', i + 1)\n",
    "\n",
    "        clf = LGBWrapper(lgbm_params)\n",
    "        x_tr = X[train_index, :]\n",
    "        y_tr = y[train_index]\n",
    "        x_val = X[val_index, :]\n",
    "        y_val = y[val_index]\n",
    "\n",
    "        clf.train(x_tr, y_tr, x_val=x_val, y_val=y_val)\n",
    "\n",
    "        lgb_oof_train[val_index] = clf.predict(x_val)\n",
    "        clf.save('models/saved_models/lightgbm/{}.pkl'.format(i))"
   ],
   "metadata": {
    "collapsed": false,
    "pycharm": {
     "name": "#%%\n",
     "is_executing": false
    }
   }
  },
  {
   "cell_type": "code",
   "execution_count": 48,
   "metadata": {
    "pycharm": {
     "is_executing": false
    }
   },
   "outputs": [
    {
     "name": "stdout",
     "text": [
      "----Training XGBoost started\nTraining for fold:  1\ntraining with validation dataset\n[0]\ttrain-rmse:0.496128\tvalid-rmse:0.496153\n",
      "Multiple eval metrics have been passed: 'valid-rmse' will be used for early stopping.\n\n",
      "Will train until valid-rmse hasn't improved in 2000 rounds.\n",
      "[1000]\ttrain-rmse:0.381559\tvalid-rmse:0.400187\n",
      "[2000]\ttrain-rmse:0.370942\tvalid-rmse:0.400818\n",
      "[3000]\ttrain-rmse:0.361527\tvalid-rmse:0.401645\n",
      "Stopping. Best iteration:\n[1173]\ttrain-rmse:0.37955\tvalid-rmse:0.400028\n\n",
      "Training for fold:  2\ntraining with validation dataset\n",
      "[0]\ttrain-rmse:0.496149\tvalid-rmse:0.496118\n",
      "Multiple eval metrics have been passed: 'valid-rmse' will be used for early stopping.\n\n",
      "Will train until valid-rmse hasn't improved in 2000 rounds.\n",
      "[1000]\ttrain-rmse:0.382306\tvalid-rmse:0.395517\n",
      "[2000]\ttrain-rmse:0.371613\tvalid-rmse:0.396149\n",
      "[3000]\ttrain-rmse:0.362433\tvalid-rmse:0.397333\n",
      "Stopping. Best iteration:\n[1300]\ttrain-rmse:0.378893\tvalid-rmse:0.39545\n\n",
      "Training for fold:  3\ntraining with validation dataset\n",
      "[0]\ttrain-rmse:0.496069\tvalid-rmse:0.496133\n",
      "Multiple eval metrics have been passed: 'valid-rmse' will be used for early stopping.\n\n",
      "Will train until valid-rmse hasn't improved in 2000 rounds.\n",
      "[1000]\ttrain-rmse:0.382743\tvalid-rmse:0.395077\n",
      "[2000]\ttrain-rmse:0.372055\tvalid-rmse:0.395977\n",
      "[3000]\ttrain-rmse:0.362845\tvalid-rmse:0.397011\n",
      "Stopping. Best iteration:\n[1017]\ttrain-rmse:0.382542\tvalid-rmse:0.395018\n\n",
      "Training for fold:  4\ntraining with validation dataset\n",
      "[0]\ttrain-rmse:0.496031\tvalid-rmse:0.496063\n",
      "Multiple eval metrics have been passed: 'valid-rmse' will be used for early stopping.\n\n",
      "Will train until valid-rmse hasn't improved in 2000 rounds.\n",
      "[1000]\ttrain-rmse:0.382677\tvalid-rmse:0.39626\n",
      "[2000]\ttrain-rmse:0.372368\tvalid-rmse:0.395702\n",
      "[3000]\ttrain-rmse:0.363367\tvalid-rmse:0.395831\n",
      "Stopping. Best iteration:\n[1900]\ttrain-rmse:0.373307\tvalid-rmse:0.395664\n\n",
      "Training for fold:  5\ntraining with validation dataset\n",
      "[0]\ttrain-rmse:0.496042\tvalid-rmse:0.496074\n",
      "Multiple eval metrics have been passed: 'valid-rmse' will be used for early stopping.\n\n",
      "Will train until valid-rmse hasn't improved in 2000 rounds.\n",
      "[1000]\ttrain-rmse:0.382467\tvalid-rmse:0.395679\n",
      "[2000]\ttrain-rmse:0.371502\tvalid-rmse:0.396607\n",
      "Stopping. Best iteration:\n[771]\ttrain-rmse:0.385303\tvalid-rmse:0.39554\n\n",
      "----Training XGBoost done in 690 seconds\n"
     ],
     "output_type": "stream"
    }
   ],
   "source": [
    "# XGB\n",
    "xgb_params = json_to_dict('models/params/xgboost.json')\n",
    "with timer('Training XGBoost'):\n",
    "    xgb_oof_train = np.zeros((len(X),))\n",
    "\n",
    "    for i, (train_index, val_index) in enumerate(StratifiedKFold(n_splits=NUM_SPLITS, shuffle=True).split(X, y)):\n",
    "        print('Training for fold: ', i + 1)\n",
    "\n",
    "        clf = XGBWrapper(xgb_params)\n",
    "        x_tr = X[train_index, :]\n",
    "        y_tr = y[train_index]\n",
    "        x_val = X[val_index, :]\n",
    "        y_val = y[val_index]\n",
    "\n",
    "        clf.train(x_tr, y_tr, x_val=x_val, y_val=y_val)\n",
    "\n",
    "        xgb_oof_train[val_index] = clf.predict(x_val)\n",
    "        clf.save('models/saved_models/xgboost/{}.pkl'.format(i))\n"
   ]
  },
  {
   "cell_type": "code",
   "execution_count": 34,
   "metadata": {
    "pycharm": {
     "is_executing": false
    }
   },
   "outputs": [
    {
     "name": "stdout",
     "text": [
      "----Training random forest started\nTraining for fold:  1\n",
      "Training for fold:  2\n",
      "Training for fold:  3\n",
      "Training for fold:  4\n",
      "Training for fold:  5\n",
      "----Training random forest done in 20 seconds\n"
     ],
     "output_type": "stream"
    }
   ],
   "source": [
    "# random forest\n",
    "rf_params = json_to_dict('models/params/rf.json')\n",
    "\n",
    "with timer('Training random forest'):\n",
    "    rf_oof_train = np.zeros((len(X),))\n",
    "\n",
    "    for i, (train_index, val_index) in enumerate(StratifiedKFold(n_splits=NUM_SPLITS, shuffle=True).split(X, y)):\n",
    "        print('Training for fold: ', i + 1)\n",
    "\n",
    "        clf = SklearnWrapper(RandomForestRegressor, seed=1337, params=rf_params)\n",
    "        x_tr = X[train_index, :]\n",
    "        y_tr = y[train_index]\n",
    "        x_val = X[val_index, :]\n",
    "        y_val = y[val_index]\n",
    "\n",
    "        clf.train(x_tr, y_tr, x_val=x_val, y_val=y_val)\n",
    "\n",
    "        rf_oof_train[val_index] = clf.predict(x_val)\n",
    "        clf.save('models/saved_models/rf/{}.pkl'.format(i))\n"
   ]
  },
  {
   "cell_type": "code",
   "execution_count": 59,
   "outputs": [
    {
     "name": "stdout",
     "text": [
      "----Training Extra Trees regressor started\nTraining for fold:  1\n",
      "Training for fold:  2\n",
      "Training for fold:  3\n",
      "Training for fold:  4\n",
      "Training for fold:  5\n",
      "----Training Extra Trees regressor done in 5 seconds\n"
     ],
     "output_type": "stream"
    }
   ],
   "source": [
    "# extra trees classifier\n",
    "et_params = json_to_dict('models/params/et.json')\n",
    "\n",
    "with timer('Training Extra Trees regressor'):\n",
    "    et_oof_train = np.zeros((len(X),))\n",
    "\n",
    "    for i, (train_index, val_index) in enumerate(StratifiedKFold(n_splits=NUM_SPLITS, shuffle=True).split(X, y)):\n",
    "        print('Training for fold: ', i + 1)\n",
    "\n",
    "        clf = SklearnWrapper(ExtraTreesRegressor, seed=1337, params=et_params)\n",
    "        x_tr = X[train_index, :]\n",
    "        y_tr = y[train_index]\n",
    "        x_val = X[val_index, :]\n",
    "        y_val = y[val_index]\n",
    "\n",
    "        clf.train(x_tr, y_tr, x_val=x_val, y_val=y_val)\n",
    "\n",
    "        et_oof_train[val_index] = clf.predict(x_val)\n",
    "        clf.save('models/saved_models/et/{}.pkl'.format(i))\n"
   ],
   "metadata": {
    "collapsed": false,
    "pycharm": {
     "name": "#%%\n",
     "is_executing": false
    }
   }
  },
  {
   "cell_type": "code",
   "execution_count": 109,
   "metadata": {
    "pycharm": {
     "is_executing": false,
     "name": "#%% \n"
    }
   },
   "outputs": [],
   "source": [
    "x_train_ensemble = np.concatenate((et_oof_train.reshape(-1, 1), rf_oof_train.reshape(-1, 1), lgb_oof_train.reshape(-1, 1), xgb_oof_train.reshape(-1, 1)), axis=1)\n"
   ]
  },
  {
   "cell_type": "code",
   "execution_count": 110,
   "metadata": {
    "pycharm": {
     "is_executing": false
    }
   },
   "outputs": [],
   "source": [
    "# Stack, combine and train ridge regressor\n",
    "ridge_params = json_to_dict('models/params/ridge.json')\n",
    "ridge = SklearnWrapper(clf=Ridge, seed=1337, params=ridge_params)\n"
   ]
  },
  {
   "cell_type": "code",
   "execution_count": 111,
   "outputs": [
    {
     "name": "stdout",
     "text": [
      "----Training final stacked ridge regression started\nTraining for fold:  1\nTraining for fold:  2\nTraining for fold:  3\nTraining for fold:  4\nTraining for fold:  5\n----Training final stacked ridge regression done in 0 seconds\n"
     ],
     "output_type": "stream"
    }
   ],
   "source": [
    "with timer('Training final stacked ridge regression'):\n",
    "    final_oof_train = np.zeros((len(X),))\n",
    "\n",
    "    for i, (train_index, val_index) in enumerate(StratifiedKFold(n_splits=NUM_SPLITS, shuffle=True).split(x_train_ensemble, y)):\n",
    "        print('Training for fold: ', i + 1)\n",
    "\n",
    "        clf = SklearnWrapper(Ridge, seed=1336, params=ridge_params)\n",
    "        x_tr = x_train_ensemble[train_index, :]\n",
    "        y_tr = y[train_index]\n",
    "        x_val = x_train_ensemble[val_index, :]\n",
    "        y_val = y[val_index]\n",
    "\n",
    "        clf.train(x_tr, y_tr, x_val=x_val, y_val=y_val)\n",
    "        \n",
    "        clf.save('models/saved_models/ridge/{}.pkl'.format(i))\n",
    "        final_oof_train[val_index] = clf.predict(x_val)\n",
    "\n"
   ],
   "metadata": {
    "collapsed": false,
    "pycharm": {
     "name": "#%%\n",
     "is_executing": false
    }
   }
  },
  {
   "cell_type": "code",
   "execution_count": 112,
   "metadata": {
    "pycharm": {
     "is_executing": false
    }
   },
   "outputs": [
    {
     "data": {
      "text/plain": "array([0.54695354, 0.24900153, 0.38163415, 0.2478622 , 0.20814392,\n       0.2166131 , 0.1509079 , 0.12809733, 0.10691032, 0.18679144])"
     },
     "metadata": {},
     "output_type": "execute_result",
     "execution_count": 112
    }
   ],
   "source": [
    "final_oof_train[:10]\n"
   ]
  },
  {
   "cell_type": "code",
   "execution_count": 114,
   "metadata": {
    "pycharm": {
     "name": "#%%\n",
     "is_executing": false
    }
   },
   "outputs": [
    {
     "name": "stdout",
     "text": [
      "out of fold AUC score:  0.6646532105953749\nmax thres:  0.24\n"
     ],
     "output_type": "stream"
    }
   ],
   "source": [
    "best_threshold = find_best_threshold_naive(y, final_oof_train)\n",
    "final_train_predictions = (final_oof_train >= best_threshold).astype(int)\n",
    "    \n",
    "print('out of fold AUC score: ', roc_auc_score(y, final_train_predictions))\n",
    "print('max thres: ', best_threshold)\n",
    "general_params = {\n",
    "    'best_threshold': best_threshold\n",
    "}\n",
    "\n",
    "with open('models/params/general.json', 'w') as f:  \n",
    "    json.dump(general_params, f)\n"
   ]
  },
  {
   "cell_type": "code",
   "execution_count": 97,
   "outputs": [],
   "source": [
    "data = []\n",
    "for (col, imp) in zip(feature_columns, clf.clf.feature_importances_):\n",
    "    data.append((col, imp))"
   ],
   "metadata": {
    "collapsed": false,
    "pycharm": {
     "name": "#%%\n",
     "is_executing": false
    }
   }
  },
  {
   "cell_type": "code",
   "execution_count": 98,
   "outputs": [],
   "source": [
    "data = sorted(data, key=lambda tup: tup[1], reverse=True)"
   ],
   "metadata": {
    "collapsed": false,
    "pycharm": {
     "name": "#%%\n",
     "is_executing": false
    }
   }
  },
  {
   "cell_type": "code",
   "execution_count": 99,
   "outputs": [
    {
     "name": "stdout",
     "text": [
      "col: second_max, imp: 0.11895266431425493",
      "\ncol: acceleration_z_std, imp: 0.03137082271253952\ncol: Bearing_std, imp: 0.023405542957257355\ncol: Speed_max, imp: 0.02257505710457612\ncol: naive_distance, imp: 0.021162277622648246\ncol: hit_max, imp: 0.01840612974141265\ncol: Speed_percentile50, imp: 0.01826718871254471\ncol: num_acceleration_change_x, imp: 0.01700389262846828\ncol: acceleration_x_std, imp: 0.016261551120790328\ncol: Speed_mean, imp: 0.015839090377040975\ncol: hit_mean, imp: 0.015767693833629172\ncol: acceleration_x_max, imp: 0.01548363023633799\ncol: num_acceleration_change_z, imp: 0.015446542133837076\ncol: acceleration_x_min, imp: 0.015444094377946749\ncol: Speed_percentile75, imp: 0.015240997829861953\ncol: acceleration_y_max, imp: 0.015220658192523086\ncol: acceleration_y_std, imp: 0.014930786717865734\ncol: Speed_std, imp: 0.014785214108492824\ncol: hit_std, imp: 0.014628021537710405\ncol: acceleration_y_min, imp: 0.014478393023497177\ncol: gyro_y_max, imp: 0.014453595334850603\ncol: gyro_z_percentile75, imp: 0.013460350796844878\ncol: gyro_y_mean, imp: 0.013392409401696325\ncol: Bearing_percentile75, imp: 0.01332919586390685\ncol: gyro_y_min, imp: 0.013125744461094357\ncol: acceleration_z_min, imp: 0.012925666135344663\ncol: Accuracy_std, imp: 0.012880564989973095\ncol: Bearing_percentile50, imp: 0.012854030371257767\ncol: gyro_y_percentile25, imp: 0.012757436645794085\ncol: gyro_y_percentile50, imp: 0.012747805400233764\ncol: acceleration_z_max, imp: 0.012660367503576351\ncol: gyro_z_mean, imp: 0.012635593904722568\ncol: gyro_z_percentile25, imp: 0.012617552465099824\ncol: gyro_z_percentile50, imp: 0.012598644095367125\ncol: num_acceleration_change_y, imp: 0.012380213211248013\ncol: gyro_x_min, imp: 0.012332857232912891\ncol: Bearing_percentile25, imp: 0.012323575709927596\ncol: gyro_z_min, imp: 0.01231098133803899\ncol: gyro_x_percentile50, imp: 0.012109308050015154\ncol: gyro_x_mean, imp: 0.012108704094238925\ncol: gyro_x_percentile25, imp: 0.012099022352049472\ncol: gyro_x_max, imp: 0.012060271995600008\ncol: gyro_x_percentile75, imp: 0.011980835465358452\ncol: Accuracy_mean, imp: 0.011628599249237023\ncol: gyro_y_percentile75, imp: 0.011616993504880055\ncol: gyro_y_std, imp: 0.011473676271716558\ncol: gyro_z_max, imp: 0.011426418787338412\ncol: Bearing_mean, imp: 0.01129608850102175\ncol: Accuracy_max, imp: 0.01122517389767573\ncol: Bearing_max, imp: 0.011146787290980101\ncol: Speed_percentile25, imp: 0.010813386095119499\ncol: stopping_time_ratio, imp: 0.010585187618409727\ncol: gyro_x_std, imp: 0.010424720418336498\ncol: acceleration_x_percentile25, imp: 0.010239956962443082\ncol: gyro_z_std, imp: 0.009881585831133598\ncol: acceleration_y_percentile75, imp: 0.009732838097254832\ncol: acceleration_y_percentile25, imp: 0.009725793448734326\ncol: n_stops, imp: 0.00968116102701134\ncol: acceleration_x_percentile75, imp: 0.009486049648270966\ncol: acceleration_x_percentile50, imp: 0.0075163849739121455\ncol: acceleration_x_mean, imp: 0.007266256121926674\ncol: acceleration_y_percentile50, imp: 0.0071545577694272465\ncol: acceleration_y_mean, imp: 0.00711325744846438\ncol: Bearing_min, imp: 0.00685102693567416\ncol: acceleration_z_percentile75, imp: 0.006847280648634258\ncol: Accuracy_percentile50, imp: 0.006658820602577298\ncol: acceleration_z_percentile25, imp: 0.006355201140244949\ncol: Accuracy_percentile25, imp: 0.0062225197808105\ncol: Accuracy_percentile75, imp: 0.005180214972007918\ncol: acceleration_z_percentile50, imp: 0.0048432683817950985\ncol: acceleration_z_mean, imp: 0.004693064534116967\ncol: Speed_min, imp: 0.0034062582440052462\ncol: Accuracy_min, imp: 0.002692495694452679\n"
     ],
     "output_type": "stream"
    }
   ],
   "source": [
    "for (col, imp) in data:\n",
    "    print('col: {}, imp: {}'.format(col, imp))\n",
    "    "
   ],
   "metadata": {
    "collapsed": false,
    "pycharm": {
     "name": "#%%\n",
     "is_executing": false
    }
   }
  },
  {
   "cell_type": "code",
   "execution_count": 120,
   "outputs": [
    {
     "data": {
      "text/plain": "0.66525"
     },
     "metadata": {},
     "output_type": "execute_result",
     "execution_count": 120
    }
   ],
   "source": [
    "from sklearn.metrics import accuracy_score\n",
    "accuracy_score(labels.drop_duplicates(subset='bookingID')['label'], final_train_predictions)\n"
   ],
   "metadata": {
    "collapsed": false,
    "pycharm": {
     "name": "#%%\n",
     "is_executing": false
    }
   }
  }
 ],
 "metadata": {
  "kernelspec": {
   "display_name": "Python 3",
   "language": "python",
   "name": "python3"
  },
  "language_info": {
   "codemirror_mode": {
    "name": "ipython",
    "version": 3
   },
   "file_extension": ".py",
   "mimetype": "text/x-python",
   "name": "python",
   "nbconvert_exporter": "python",
   "pygments_lexer": "ipython3",
   "version": "3.6.5"
  },
  "pycharm": {
   "stem_cell": {
    "cell_type": "raw",
    "source": [],
    "metadata": {
     "collapsed": false
    }
   }
  }
 },
 "nbformat": 4,
 "nbformat_minor": 1
}