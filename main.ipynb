{
 "cells": [
  {
   "cell_type": "markdown",
   "metadata": {},
   "source": [
    "# Exploratory Data Analysis"
   ]
  },
  {
   "cell_type": "code",
   "execution_count": 5,
   "metadata": {
    "pycharm": {
     "is_executing": false,
     "name": "#%% \n"
    }
   },
   "outputs": [],
   "source": [
    "import pandas as pd\n",
    "%matplotlib inline\n",
    "import matplotlib.pyplot as plt"
   ]
  },
  {
   "cell_type": "code",
   "execution_count": 7,
   "metadata": {
    "pycharm": {
     "is_executing": false,
     "name": "#%%\n"
    }
   },
   "outputs": [],
   "source": [
    "DATA_PATH = 'data'\n",
    "train = pd.read_csv('data/traffic-management/training.csv'.format(DATA_PATH))"
   ]
  },
  {
   "cell_type": "markdown",
   "metadata": {
    "pycharm": {
     "name": "#%% md\n"
    }
   },
   "source": [
    "## Data Fields Description\n",
    "\n",
    "|      Field      |               Description               |\n",
    "|:---------------:|:---------------------------------------:|\n",
    "|    bookingID    |                 trip id                 |\n",
    "|     Accuracy    |    accuracy inferred by GPS in meters   |\n",
    "|     Bearing     |          GPS bearing in degree          |\n",
    "| accelearation_x |  accelerometer reading at x axis (m/s2) |\n",
    "|  acceleration_y |  accelerometer reading at y axis (m/s2) |\n",
    "|  acceleartion_z |  accelerometer reading at z axis (m/s2) |\n",
    "|      gyro_x     |   gyroscope reading in x axis (rad/s)   |\n",
    "|      gyro_y     |   gyroscope reading in y axis (rad/s)   |\n",
    "|      gyro_z     |   gyroscope reading in z axis (rad/s)   |\n",
    "|      second     | time of the record by number of seconds |\n",
    "|      Speed      |       speed measured by GPS in m/s      |\n"
   ]
  },
  {
   "cell_type": "code",
   "execution_count": null,
   "outputs": [],
   "source": [
    "\n"
   ],
   "metadata": {
    "collapsed": false,
    "pycharm": {
     "name": "#%%\n"
    }
   }
  }
 ],
 "metadata": {
  "kernelspec": {
   "display_name": "PyCharm (ai-for-sea)",
   "language": "python",
   "name": "pycharm-3833daca"
  },
  "language_info": {
   "codemirror_mode": {
    "name": "ipython",
    "version": 3
   },
   "file_extension": ".py",
   "mimetype": "text/x-python",
   "name": "python",
   "nbconvert_exporter": "python",
   "pygments_lexer": "ipython3",
   "version": "3.6.5"
  },
  "pycharm": {
   "stem_cell": {
    "cell_type": "raw",
    "source": [],
    "metadata": {
     "collapsed": false
    }
   }
  }
 },
 "nbformat": 4,
 "nbformat_minor": 1
}