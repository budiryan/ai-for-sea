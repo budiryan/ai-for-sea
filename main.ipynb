{
 "cells": [
  {
   "cell_type": "markdown",
   "metadata": {},
   "source": [
    "# Exploratory Data Analysis"
   ]
  },
  {
   "cell_type": "code",
   "execution_count": 9,
   "metadata": {
    "pycharm": {
     "is_executing": false,
     "name": "#%% \n"
    }
   },
   "outputs": [],
   "source": [
    "import pandas as pd\n",
    "%matplotlib inline\n",
    "import glob\n",
    "import os"
   ]
  },
  {
   "cell_type": "code",
   "execution_count": 3,
   "metadata": {
    "pycharm": {
     "is_executing": false,
     "name": "#%%\n"
    }
   },
   "outputs": [],
   "source": [
    "DATA_PATH = 'data/safety'"
   ]
  },
  {
   "cell_type": "markdown",
   "metadata": {
    "pycharm": {
     "name": "#%% md\n"
    }
   },
   "source": [
    "## Data Fields Description\n",
    "\n",
    "|      Field      |               Description               |\n",
    "|:---------------:|:---------------------------------------:|\n",
    "|    bookingID    |                 trip id                 |\n",
    "|     Accuracy    |    accuracy inferred by GPS in meters   |\n",
    "|     Bearing     |          GPS bearing in degree          |\n",
    "|  acceleration_x |  accelerometer reading at x axis (m/s2) |\n",
    "|  acceleration_y |  accelerometer reading at y axis (m/s2) |\n",
    "|  acceleration_z |  accelerometer reading at z axis (m/s2) |\n",
    "|      gyro_x     |   gyroscope reading in x axis (rad/s)   |\n",
    "|      gyro_y     |   gyroscope reading in y axis (rad/s)   |\n",
    "|      gyro_z     |   gyroscope reading in z axis (rad/s)   |\n",
    "|      second     | time of the record by number of seconds |\n",
    "|      Speed      |       speed measured by GPS in m/s      |\n",
    "\n"
   ]
  },
  {
   "cell_type": "code",
   "execution_count": 4,
   "outputs": [],
   "source": [
    "# load labels\n",
    "labels_path = '{}/labels'.format(DATA_PATH)\n",
    "labels = pd.read_csv(glob.glob('{}/*.csv'.format(labels_path))[0])\n"
   ],
   "metadata": {
    "collapsed": false,
    "pycharm": {
     "name": "#%%\n",
     "is_executing": false
    }
   }
  },
  {
   "cell_type": "code",
   "execution_count": 14,
   "outputs": [
    {
     "name": "stdout",
     "text": [
      "loading feature:  data/safety/features/part-00001-e6120af0-10c2-4248-97c4-81baf4304e5c-c000.csv\n",
      "loading feature:  data/safety/features/part-00000-e6120af0-10c2-4248-97c4-81baf4304e5c-c000.csv\n",
      "loading feature:  data/safety/features/part-00003-e6120af0-10c2-4248-97c4-81baf4304e5c-c000.csv\n",
      "loading feature:  data/safety/features/part-00002-e6120af0-10c2-4248-97c4-81baf4304e5c-c000.csv\n",
      "loading feature:  data/safety/features/part-00005-e6120af0-10c2-4248-97c4-81baf4304e5c-c000.csv\n",
      "loading feature:  data/safety/features/part-00009-e6120af0-10c2-4248-97c4-81baf4304e5c-c000.csv\n",
      "loading feature:  data/safety/features/part-00004-e6120af0-10c2-4248-97c4-81baf4304e5c-c000.csv\n",
      "loading feature:  data/safety/features/part-00008-e6120af0-10c2-4248-97c4-81baf4304e5c-c000.csv\n",
      "loading feature:  data/safety/features/part-00007-e6120af0-10c2-4248-97c4-81baf4304e5c-c000.csv\n",
      "loading feature:  data/safety/features/part-00006-e6120af0-10c2-4248-97c4-81baf4304e5c-c000.csv\n"
     ],
     "output_type": "stream"
    }
   ],
   "source": [
    "features_path = '{}/features'.format(DATA_PATH)\n",
    "features = pd.DataFrame()\n",
    "for f in glob.glob('{}/*.csv'.format(features_path)):\n",
    "    print('loading feature: ', f)\n",
    "    temp = pd.read_csv(f)\n",
    "    features = pd.concat([features, temp], axis=0)\n"
   ],
   "metadata": {
    "collapsed": false,
    "pycharm": {
     "name": "#%%\n",
     "is_executing": false
    }
   }
  },
  {
   "cell_type": "code",
   "execution_count": 16,
   "outputs": [
    {
     "data": {
      "text/plain": "       bookingID  Accuracy     Bearing  acceleration_x  acceleration_y  \\\n0  1194000908341     4.000  203.000000        1.001973        9.745000   \n1  1099511627891     3.000  311.000000        0.452518        9.273026   \n2   962072674446    10.000  142.807999        0.018542       -8.041156   \n3  1142461300867     8.000  171.205292       -0.290698       -8.295367   \n4   412316860548    19.379    0.000000        0.675613        8.846130   \n\n   acceleration_z    gyro_x    gyro_y    gyro_z  second      Speed  \n0       -0.790087 -0.066046  0.019175  0.044741   246.0   6.480000  \n1        3.098191  0.005382  0.002155 -0.001436    66.0   0.340365  \n2       -4.960114  0.004223 -0.014875  0.007397  1552.0   2.050000  \n3       -3.049042  0.033618  0.046224  0.030559   277.0  17.608448  \n4        1.852508 -0.008652  0.003693  0.001160   148.0   0.000000  ",
      "text/html": "<div>\n<style scoped>\n    .dataframe tbody tr th:only-of-type {\n        vertical-align: middle;\n    }\n\n    .dataframe tbody tr th {\n        vertical-align: top;\n    }\n\n    .dataframe thead th {\n        text-align: right;\n    }\n</style>\n<table border=\"1\" class=\"dataframe\">\n  <thead>\n    <tr style=\"text-align: right;\">\n      <th></th>\n      <th>bookingID</th>\n      <th>Accuracy</th>\n      <th>Bearing</th>\n      <th>acceleration_x</th>\n      <th>acceleration_y</th>\n      <th>acceleration_z</th>\n      <th>gyro_x</th>\n      <th>gyro_y</th>\n      <th>gyro_z</th>\n      <th>second</th>\n      <th>Speed</th>\n    </tr>\n  </thead>\n  <tbody>\n    <tr>\n      <th>0</th>\n      <td>1194000908341</td>\n      <td>4.000</td>\n      <td>203.000000</td>\n      <td>1.001973</td>\n      <td>9.745000</td>\n      <td>-0.790087</td>\n      <td>-0.066046</td>\n      <td>0.019175</td>\n      <td>0.044741</td>\n      <td>246.0</td>\n      <td>6.480000</td>\n    </tr>\n    <tr>\n      <th>1</th>\n      <td>1099511627891</td>\n      <td>3.000</td>\n      <td>311.000000</td>\n      <td>0.452518</td>\n      <td>9.273026</td>\n      <td>3.098191</td>\n      <td>0.005382</td>\n      <td>0.002155</td>\n      <td>-0.001436</td>\n      <td>66.0</td>\n      <td>0.340365</td>\n    </tr>\n    <tr>\n      <th>2</th>\n      <td>962072674446</td>\n      <td>10.000</td>\n      <td>142.807999</td>\n      <td>0.018542</td>\n      <td>-8.041156</td>\n      <td>-4.960114</td>\n      <td>0.004223</td>\n      <td>-0.014875</td>\n      <td>0.007397</td>\n      <td>1552.0</td>\n      <td>2.050000</td>\n    </tr>\n    <tr>\n      <th>3</th>\n      <td>1142461300867</td>\n      <td>8.000</td>\n      <td>171.205292</td>\n      <td>-0.290698</td>\n      <td>-8.295367</td>\n      <td>-3.049042</td>\n      <td>0.033618</td>\n      <td>0.046224</td>\n      <td>0.030559</td>\n      <td>277.0</td>\n      <td>17.608448</td>\n    </tr>\n    <tr>\n      <th>4</th>\n      <td>412316860548</td>\n      <td>19.379</td>\n      <td>0.000000</td>\n      <td>0.675613</td>\n      <td>8.846130</td>\n      <td>1.852508</td>\n      <td>-0.008652</td>\n      <td>0.003693</td>\n      <td>0.001160</td>\n      <td>148.0</td>\n      <td>0.000000</td>\n    </tr>\n  </tbody>\n</table>\n</div>"
     },
     "metadata": {},
     "output_type": "execute_result",
     "execution_count": 16
    }
   ],
   "source": [
    "features.head()\n"
   ],
   "metadata": {
    "collapsed": false,
    "pycharm": {
     "name": "#%%\n",
     "is_executing": false
    }
   }
  },
  {
   "cell_type": "code",
   "execution_count": null,
   "outputs": [],
   "source": [
    "\n"
   ],
   "metadata": {
    "collapsed": false,
    "pycharm": {
     "name": "#%%\n"
    }
   }
  }
 ],
 "metadata": {
  "kernelspec": {
   "name": "python3",
   "language": "python",
   "display_name": "Python 3"
  },
  "language_info": {
   "codemirror_mode": {
    "name": "ipython",
    "version": 3
   },
   "file_extension": ".py",
   "mimetype": "text/x-python",
   "name": "python",
   "nbconvert_exporter": "python",
   "pygments_lexer": "ipython3",
   "version": "3.6.5"
  },
  "pycharm": {
   "stem_cell": {
    "cell_type": "raw",
    "source": [],
    "metadata": {
     "collapsed": false
    }
   }
  }
 },
 "nbformat": 4,
 "nbformat_minor": 1
}