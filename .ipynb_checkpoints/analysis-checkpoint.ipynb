{
 "cells": [
  {
   "cell_type": "code",
   "execution_count": 185,
   "metadata": {
    "pycharm": {
     "is_executing": false,
     "name": "#%% \n"
    }
   },
   "outputs": [],
   "source": [
    "import pandas as pd\n",
    "%matplotlib inline\n",
    "import glob\n",
    "import os\n",
    "import numpy as np\n",
    "import gc\n",
    "\n",
    "from sklearn.metrics import roc_auc_score\n",
    "from sklearn.model_selection import StratifiedKFold\n",
    "from sklearn.ensemble import RandomForestRegressor, RandomForestClassifier"
   ]
  },
  {
   "cell_type": "code",
   "execution_count": 2,
   "metadata": {
    "pycharm": {
     "is_executing": false,
     "name": "#%%\n"
    }
   },
   "outputs": [],
   "source": [
    "DATA_PATH = 'data/safety/safety'"
   ]
  },
  {
   "cell_type": "markdown",
   "metadata": {
    "pycharm": {
     "name": "#%% md\n"
    }
   },
   "source": [
    "## Data Fields Description\n",
    "\n",
    "|      Field      |               Description               |\n",
    "|:---------------:|:---------------------------------------:|\n",
    "|    bookingID    |                 trip id                 |\n",
    "|     Accuracy    |    accuracy inferred by GPS in meters   |\n",
    "|     Bearing     |          GPS bearing in degree          |\n",
    "|  acceleration_x |  accelerometer reading at x axis (m/s2) |\n",
    "|  acceleration_y |  accelerometer reading at y axis (m/s2) |\n",
    "|  acceleration_z |  accelerometer reading at z axis (m/s2) |\n",
    "|      gyro_x     |   gyroscope reading in x axis (rad/s)   |\n",
    "|      gyro_y     |   gyroscope reading in y axis (rad/s)   |\n",
    "|      gyro_z     |   gyroscope reading in z axis (rad/s)   |\n",
    "|      second     | time of the record by number of seconds |\n",
    "|      Speed      |       speed measured by GPS in m/s      |\n",
    "\n"
   ]
  },
  {
   "cell_type": "code",
   "execution_count": 3,
   "metadata": {
    "pycharm": {
     "is_executing": false,
     "name": "#%%\n"
    }
   },
   "outputs": [],
   "source": [
    "# load labels\n",
    "labels_path = '{}/labels'.format(DATA_PATH)\n",
    "labels = pd.read_csv(glob.glob('{}/*.csv'.format(labels_path))[0])\n",
    "labels = labels.sort_values(by='bookingID')"
   ]
  },
  {
   "cell_type": "code",
   "execution_count": 4,
   "metadata": {
    "pycharm": {
     "is_executing": false,
     "name": "#%%\n"
    }
   },
   "outputs": [
    {
     "name": "stdout",
     "output_type": "stream",
     "text": [
      "(20018, 2)\n"
     ]
    },
    {
     "data": {
      "text/html": [
       "<div>\n",
       "<style scoped>\n",
       "    .dataframe tbody tr th:only-of-type {\n",
       "        vertical-align: middle;\n",
       "    }\n",
       "\n",
       "    .dataframe tbody tr th {\n",
       "        vertical-align: top;\n",
       "    }\n",
       "\n",
       "    .dataframe thead th {\n",
       "        text-align: right;\n",
       "    }\n",
       "</style>\n",
       "<table border=\"1\" class=\"dataframe\">\n",
       "  <thead>\n",
       "    <tr style=\"text-align: right;\">\n",
       "      <th></th>\n",
       "      <th>bookingID</th>\n",
       "      <th>label</th>\n",
       "    </tr>\n",
       "  </thead>\n",
       "  <tbody>\n",
       "    <tr>\n",
       "      <th>15035</th>\n",
       "      <td>0</td>\n",
       "      <td>0</td>\n",
       "    </tr>\n",
       "    <tr>\n",
       "      <th>13312</th>\n",
       "      <td>1</td>\n",
       "      <td>1</td>\n",
       "    </tr>\n",
       "    <tr>\n",
       "      <th>996</th>\n",
       "      <td>2</td>\n",
       "      <td>1</td>\n",
       "    </tr>\n",
       "    <tr>\n",
       "      <th>2328</th>\n",
       "      <td>4</td>\n",
       "      <td>1</td>\n",
       "    </tr>\n",
       "    <tr>\n",
       "      <th>5192</th>\n",
       "      <td>6</td>\n",
       "      <td>0</td>\n",
       "    </tr>\n",
       "  </tbody>\n",
       "</table>\n",
       "</div>"
      ],
      "text/plain": [
       "       bookingID  label\n",
       "15035          0      0\n",
       "13312          1      1\n",
       "996            2      1\n",
       "2328           4      1\n",
       "5192           6      0"
      ]
     },
     "execution_count": 4,
     "metadata": {},
     "output_type": "execute_result"
    }
   ],
   "source": [
    "print(labels.shape)\n",
    "labels.head()"
   ]
  },
  {
   "cell_type": "code",
   "execution_count": 5,
   "metadata": {
    "pycharm": {
     "is_executing": true,
     "name": "#%%\n"
    }
   },
   "outputs": [
    {
     "name": "stdout",
     "output_type": "stream",
     "text": [
      "loading feature:  data/safety/safety/features\\part-00000-e6120af0-10c2-4248-97c4-81baf4304e5c-c000.csv\n",
      "loading feature:  data/safety/safety/features\\part-00001-e6120af0-10c2-4248-97c4-81baf4304e5c-c000.csv\n",
      "loading feature:  data/safety/safety/features\\part-00002-e6120af0-10c2-4248-97c4-81baf4304e5c-c000.csv\n",
      "loading feature:  data/safety/safety/features\\part-00003-e6120af0-10c2-4248-97c4-81baf4304e5c-c000.csv\n",
      "loading feature:  data/safety/safety/features\\part-00004-e6120af0-10c2-4248-97c4-81baf4304e5c-c000.csv\n",
      "loading feature:  data/safety/safety/features\\part-00005-e6120af0-10c2-4248-97c4-81baf4304e5c-c000.csv\n",
      "loading feature:  data/safety/safety/features\\part-00006-e6120af0-10c2-4248-97c4-81baf4304e5c-c000.csv\n",
      "loading feature:  data/safety/safety/features\\part-00007-e6120af0-10c2-4248-97c4-81baf4304e5c-c000.csv\n",
      "loading feature:  data/safety/safety/features\\part-00008-e6120af0-10c2-4248-97c4-81baf4304e5c-c000.csv\n",
      "loading feature:  data/safety/safety/features\\part-00009-e6120af0-10c2-4248-97c4-81baf4304e5c-c000.csv\n"
     ]
    }
   ],
   "source": [
    "features_path = '{}/features'.format(DATA_PATH)\n",
    "features = pd.DataFrame()\n",
    "for f in glob.glob('{}/*.csv'.format(features_path)):\n",
    "    print('loading feature: ', f)\n",
    "    temp = pd.read_csv(f)\n",
    "    features = pd.concat([features, temp], axis=0)\n",
    "features = features.sort_values(by=['bookingID', 'second'])"
   ]
  },
  {
   "cell_type": "code",
   "execution_count": 6,
   "metadata": {
    "pycharm": {
     "is_executing": true,
     "name": "#%%\n"
    }
   },
   "outputs": [
    {
     "name": "stdout",
     "output_type": "stream",
     "text": [
      "(16135561, 11)\n"
     ]
    },
    {
     "data": {
      "text/html": [
       "<div>\n",
       "<style scoped>\n",
       "    .dataframe tbody tr th:only-of-type {\n",
       "        vertical-align: middle;\n",
       "    }\n",
       "\n",
       "    .dataframe tbody tr th {\n",
       "        vertical-align: top;\n",
       "    }\n",
       "\n",
       "    .dataframe thead th {\n",
       "        text-align: right;\n",
       "    }\n",
       "</style>\n",
       "<table border=\"1\" class=\"dataframe\">\n",
       "  <thead>\n",
       "    <tr style=\"text-align: right;\">\n",
       "      <th></th>\n",
       "      <th>bookingID</th>\n",
       "      <th>Accuracy</th>\n",
       "      <th>Bearing</th>\n",
       "      <th>acceleration_x</th>\n",
       "      <th>acceleration_y</th>\n",
       "      <th>acceleration_z</th>\n",
       "      <th>gyro_x</th>\n",
       "      <th>gyro_y</th>\n",
       "      <th>gyro_z</th>\n",
       "      <th>second</th>\n",
       "      <th>Speed</th>\n",
       "    </tr>\n",
       "  </thead>\n",
       "  <tbody>\n",
       "    <tr>\n",
       "      <th>1153972</th>\n",
       "      <td>0</td>\n",
       "      <td>12.0</td>\n",
       "      <td>143.298294</td>\n",
       "      <td>0.818112</td>\n",
       "      <td>-9.941461</td>\n",
       "      <td>-2.014999</td>\n",
       "      <td>-0.016245</td>\n",
       "      <td>-0.094040</td>\n",
       "      <td>0.070732</td>\n",
       "      <td>0.0</td>\n",
       "      <td>3.442991</td>\n",
       "    </tr>\n",
       "    <tr>\n",
       "      <th>712971</th>\n",
       "      <td>0</td>\n",
       "      <td>8.0</td>\n",
       "      <td>143.298294</td>\n",
       "      <td>0.546405</td>\n",
       "      <td>-9.835590</td>\n",
       "      <td>-2.038925</td>\n",
       "      <td>-0.047092</td>\n",
       "      <td>-0.078874</td>\n",
       "      <td>0.043187</td>\n",
       "      <td>1.0</td>\n",
       "      <td>0.228454</td>\n",
       "    </tr>\n",
       "    <tr>\n",
       "      <th>167611</th>\n",
       "      <td>0</td>\n",
       "      <td>8.0</td>\n",
       "      <td>143.298294</td>\n",
       "      <td>-1.706207</td>\n",
       "      <td>-9.270792</td>\n",
       "      <td>-1.209448</td>\n",
       "      <td>-0.028965</td>\n",
       "      <td>-0.032652</td>\n",
       "      <td>0.015390</td>\n",
       "      <td>2.0</td>\n",
       "      <td>0.228454</td>\n",
       "    </tr>\n",
       "    <tr>\n",
       "      <th>436147</th>\n",
       "      <td>0</td>\n",
       "      <td>8.0</td>\n",
       "      <td>143.298294</td>\n",
       "      <td>-1.416705</td>\n",
       "      <td>-9.548032</td>\n",
       "      <td>-1.860977</td>\n",
       "      <td>-0.022413</td>\n",
       "      <td>0.005049</td>\n",
       "      <td>-0.025753</td>\n",
       "      <td>3.0</td>\n",
       "      <td>0.228454</td>\n",
       "    </tr>\n",
       "    <tr>\n",
       "      <th>1423207</th>\n",
       "      <td>0</td>\n",
       "      <td>8.0</td>\n",
       "      <td>143.298294</td>\n",
       "      <td>-0.598145</td>\n",
       "      <td>-9.853534</td>\n",
       "      <td>-1.378574</td>\n",
       "      <td>-0.014297</td>\n",
       "      <td>-0.046206</td>\n",
       "      <td>0.021902</td>\n",
       "      <td>4.0</td>\n",
       "      <td>0.228454</td>\n",
       "    </tr>\n",
       "  </tbody>\n",
       "</table>\n",
       "</div>"
      ],
      "text/plain": [
       "         bookingID  Accuracy     Bearing  acceleration_x  acceleration_y  \\\n",
       "1153972          0      12.0  143.298294        0.818112       -9.941461   \n",
       "712971           0       8.0  143.298294        0.546405       -9.835590   \n",
       "167611           0       8.0  143.298294       -1.706207       -9.270792   \n",
       "436147           0       8.0  143.298294       -1.416705       -9.548032   \n",
       "1423207          0       8.0  143.298294       -0.598145       -9.853534   \n",
       "\n",
       "         acceleration_z    gyro_x    gyro_y    gyro_z  second     Speed  \n",
       "1153972       -2.014999 -0.016245 -0.094040  0.070732     0.0  3.442991  \n",
       "712971        -2.038925 -0.047092 -0.078874  0.043187     1.0  0.228454  \n",
       "167611        -1.209448 -0.028965 -0.032652  0.015390     2.0  0.228454  \n",
       "436147        -1.860977 -0.022413  0.005049 -0.025753     3.0  0.228454  \n",
       "1423207       -1.378574 -0.014297 -0.046206  0.021902     4.0  0.228454  "
      ]
     },
     "execution_count": 6,
     "metadata": {},
     "output_type": "execute_result"
    }
   ],
   "source": [
    "print(features.shape)\n",
    "features.head()"
   ]
  },
  {
   "cell_type": "code",
   "execution_count": 270,
   "metadata": {},
   "outputs": [],
   "source": [
    "test = features[features['bookingID'] == 7]"
   ]
  },
  {
   "cell_type": "code",
   "execution_count": 273,
   "metadata": {},
   "outputs": [],
   "source": [
    "def stopping_statistics(df):\n",
    "    # gets every vehicle stop in a trip and returns its start_time, end_time and diff\n",
    "    \n",
    "    # make sure all runs of ones are well-bounded\n",
    "    bounded = np.hstack(([1], df.Speed.values, [1]))\n",
    "\n",
    "    log = (bounded < 0.5) * 1\n",
    "    \n",
    "    # get 1 at run starts and -1 at run ends\n",
    "    diffs = np.diff(log)    \n",
    "  \n",
    "    # get indices if starts and ends\n",
    "    run_starts = np.where(diffs > 0)[0]\n",
    "    run_ends = np.where(diffs < 0)[0]\n",
    "    \n",
    "    end_stops = np.array([run_starts,run_ends,run_ends-run_starts]).T\n",
    "    end_stops = end_stops.astype(int)[:-1,1]\n",
    "    end_stops = end_stops[end_stops + interval < len(test.Speed.values) - 1]  \n",
    "    \n",
    "    n_stops = len(end_stops)\n",
    "    \n",
    "    if n_stops > 1:\n",
    "    hit = np.zeros(shape=(1 ,n_stops))\n",
    "\n",
    "    interval = 7\n",
    "    for i in range(n_stops):\n",
    "        # slope at acceleration    \n",
    "        start = end_stops[i]\n",
    "        hit[0, i] =  np.diff([test.Speed.values[start], test.Speed.values[start + interval]])\n",
    "\n",
    "    else:\n",
    "        hit = np.array([0])\n",
    "  \n",
    "    return [n_stops, hit.mean(), hit.max(), hit.std()]"
   ]
  },
  {
   "cell_type": "code",
   "execution_count": 343,
   "metadata": {},
   "outputs": [],
   "source": [
    "end_stops = stops(test.Speed.values)"
   ]
  },
  {
   "cell_type": "code",
   "execution_count": 344,
   "metadata": {},
   "outputs": [
    {
     "data": {
      "text/plain": [
       "6"
      ]
     },
     "execution_count": 344,
     "metadata": {},
     "output_type": "execute_result"
    }
   ],
   "source": [
    "len(end_stops)"
   ]
  },
  {
   "cell_type": "code",
   "execution_count": 345,
   "metadata": {},
   "outputs": [
    {
     "data": {
      "text/plain": [
       "array([[464, 505,  41],\n",
       "       [556, 573,  17],\n",
       "       [620, 704,  84],\n",
       "       [750, 787,  37],\n",
       "       [831, 852,  21],\n",
       "       [913, 919,   6]], dtype=int64)"
      ]
     },
     "execution_count": 345,
     "metadata": {},
     "output_type": "execute_result"
    }
   ],
   "source": [
    "end_stops"
   ]
  },
  {
   "cell_type": "code",
   "execution_count": 346,
   "metadata": {},
   "outputs": [],
   "source": [
    "end_stops = end_stops.astype(int)[:,1]"
   ]
  },
  {
   "cell_type": "code",
   "execution_count": 348,
   "metadata": {},
   "outputs": [],
   "source": [
    "n_stops = len(end_stops)"
   ]
  },
  {
   "cell_type": "code",
   "execution_count": 349,
   "metadata": {},
   "outputs": [],
   "source": [
    "interval = 7\n",
    "end_stops = end_stops[end_stops + interval < len(test.Speed.values)-1]  "
   ]
  },
  {
   "cell_type": "code",
   "execution_count": 336,
   "metadata": {},
   "outputs": [],
   "source": []
  },
  {
   "cell_type": "code",
   "execution_count": 340,
   "metadata": {},
   "outputs": [
    {
     "data": {
      "text/plain": [
       "1.9105334742291182"
      ]
     },
     "execution_count": 340,
     "metadata": {},
     "output_type": "execute_result"
    }
   ],
   "source": [
    "hit.std()"
   ]
  },
  {
   "cell_type": "code",
   "execution_count": 262,
   "metadata": {
    "pycharm": {
     "is_executing": true,
     "name": "#%%\n"
    }
   },
   "outputs": [],
   "source": [
    "# For each feature, generate aggregated column with 'mean', 'min', 'max', 'std', 25th percentile, median and 75th percentile\n",
    "def naive_distance(df):\n",
    "    return (((df['second'].shift(-1) - df['second'])).fillna(0) * df['Speed']).sum()\n",
    "\n",
    "def percentile25(x):\n",
    "    return x.quantile(0.25)\n",
    "\n",
    "def percentile50(x):\n",
    "    return x.median()\n",
    "\n",
    "def percentile75(x):\n",
    "    return x.quantile(0.75)\n",
    "\n",
    "aggregate_functions = ['mean', 'min', 'max', 'std', percentile25, percentile50, percentile75]\n",
    "agg_columns_excluded = ['bookingID', 'second']\n",
    "agg_dict = {c: aggregate_functions for c in features.columns if c not in agg_columns_excluded}\n",
    "agg_dict['second'] = ['max']\n",
    "\n",
    "naive_distance = features.groupby('bookingID', as_index=True).apply(naive_distance)\n",
    "naive_distance = naive_distance.reset_index()\n",
    "naive_distance.columns = ['bookingID', 'naive_distance']"
   ]
  },
  {
   "cell_type": "code",
   "execution_count": 263,
   "metadata": {
    "pycharm": {
     "is_executing": true,
     "name": "#%%\n"
    }
   },
   "outputs": [],
   "source": [
    "features_agg = features.groupby(['bookingID'], as_index=True).agg(agg_dict)\n",
    "features_agg.columns = features_agg.columns.map('_'.join)\n",
    "features_agg = features_agg.reset_index(drop=False)\n",
    "\n",
    "features_agg = pd.merge(features_agg, naive_distance, how='left', on='bookingID')\n",
    "labels_no_duplicate = labels.drop_duplicates(subset='bookingID')\n",
    "features_agg = pd.merge(features_agg, labels_no_duplicate, how='left', on='bookingID')"
   ]
  },
  {
   "cell_type": "code",
   "execution_count": 264,
   "metadata": {},
   "outputs": [],
   "source": [
    "feature_columns = [c for c in features_agg.columns.values if c not in ['bookingID', 'label']]\n",
    "label_column = 'label'"
   ]
  },
  {
   "cell_type": "code",
   "execution_count": 265,
   "metadata": {},
   "outputs": [],
   "source": [
    "NUM_SPLITS = 10\n",
    "splits = StratifiedKFold(n_splits=NUM_SPLITS, shuffle=True).split(features_agg[feature_columns], features_agg[label_column])\n",
    "out_of_fold_predictions = np.zeros(len(features_agg))"
   ]
  },
  {
   "cell_type": "code",
   "execution_count": 266,
   "metadata": {},
   "outputs": [
    {
     "name": "stdout",
     "output_type": "stream",
     "text": [
      "Fold:1\ttrain AUC: 1.0\tvalid AUC: 0.7870940086980595\n",
      "Fold:2\ttrain AUC: 1.0\tvalid AUC: 0.7730945230945231\n",
      "Fold:3\ttrain AUC: 1.0\tvalid AUC: 0.7381600167977875\n",
      "Fold:4\ttrain AUC: 1.0\tvalid AUC: 0.7219977561818706\n",
      "Fold:5\ttrain AUC: 1.0\tvalid AUC: 0.7708534996467066\n",
      "Fold:6\ttrain AUC: 1.0\tvalid AUC: 0.7547470832354554\n",
      "Fold:7\ttrain AUC: 1.0\tvalid AUC: 0.7077946579287062\n",
      "Fold:8\ttrain AUC: 1.0\tvalid AUC: 0.7476558951398352\n",
      "Fold:9\ttrain AUC: 1.0\tvalid AUC: 0.7771402697807694\n",
      "Fold:10\ttrain AUC: 1.0\tvalid AUC: 0.7384969948768749\n"
     ]
    }
   ],
   "source": [
    "for i, (train_idx, valid_idx) in enumerate(splits):\n",
    "    train_X = features_agg[feature_columns].iloc[train_idx]\n",
    "    train_y = features_agg[label_column].iloc[train_idx]\n",
    "    val_X = features_agg[feature_columns].iloc[valid_idx]\n",
    "    val_y = features_agg[label_column].iloc[valid_idx]\n",
    "    \n",
    "    cf = RandomForestClassifier(n_estimators=200, n_jobs=-1)\n",
    "    cf.fit(train_X, train_y)\n",
    "    \n",
    "    train_preds = cf.predict(train_X)\n",
    "    val_preds = cf.predict(val_X)\n",
    "    \n",
    "    out_of_fold_predictions[valid_idx] = val_preds\n",
    "    \n",
    "    print('Fold:{}\\ttrain AUC: {}\\tvalid AUC: {}'.format(i + 1, roc_auc_score(train_preds, train_y), roc_auc_score(val_preds, val_y)))"
   ]
  },
  {
   "cell_type": "code",
   "execution_count": 267,
   "metadata": {},
   "outputs": [
    {
     "name": "stdout",
     "output_type": "stream",
     "text": [
      "out of fold AUC score:  0.7502147387212605\n"
     ]
    }
   ],
   "source": [
    "print('out of fold AUC score: ', roc_auc_score(out_of_fold_predictions, features_agg[label_column]))"
   ]
  },
  {
   "cell_type": "code",
   "execution_count": 242,
   "metadata": {},
   "outputs": [],
   "source": [
    "importances = []\n",
    "for col, importance in zip(feature_columns, cf.feature_importances_):\n",
    "    importances.append((col, importance))\n",
    "importances = sorted(importances, key=lambda tup: tup[1], reverse=True)"
   ]
  },
  {
   "cell_type": "code",
   "execution_count": 243,
   "metadata": {},
   "outputs": [
    {
     "name": "stdout",
     "output_type": "stream",
     "text": [
      "Feature importances: \n",
      "second_max: 0.06818609265866565\n",
      "naive_distance: 0.027176248395357764\n",
      "acceleration_z_std: 0.022018744780821727\n",
      "Speed_max: 0.021921283428546233\n",
      "Bearing_std: 0.020617445130537627\n",
      "Speed_mean: 0.019239984591223034\n",
      "acceleration_x_std: 0.0191337213917366\n",
      "acceleration_x_max: 0.01869556991454071\n",
      "Speed_percentile75: 0.01852524857363624\n",
      "Speed_percentile50: 0.018445229567185507\n",
      "Speed_std: 0.017861830905838608\n",
      "acceleration_y_std: 0.017793181784614583\n",
      "gyro_y_max: 0.017169441907773517\n",
      "acceleration_x_min: 0.01680180339000538\n",
      "gyro_y_min: 0.016471142160261895\n",
      "gyro_x_std: 0.016206608002764154\n",
      "gyro_x_min: 0.01605777126925681\n",
      "acceleration_z_max: 0.016001667096095084\n",
      "gyro_x_max: 0.015833877195017075\n",
      "acceleration_y_min: 0.015233032897654597\n",
      "gyro_z_std: 0.015150191363620976\n",
      "gyro_z_min: 0.015108112694041352\n",
      "gyro_z_max: 0.015065514721039432\n",
      "acceleration_y_max: 0.014832170085281123\n",
      "acceleration_z_min: 0.01473751158587823\n",
      "gyro_y_std: 0.014717244858730353\n",
      "gyro_y_mean: 0.014535421959110464\n",
      "Accuracy_std: 0.014507527260472068\n",
      "gyro_y_percentile50: 0.01441151166204798\n",
      "Bearing_percentile75: 0.014390691449007573\n",
      "gyro_y_percentile75: 0.014373867071068483\n",
      "Accuracy_mean: 0.014354238633364698\n",
      "gyro_x_percentile25: 0.014333248819882675\n",
      "gyro_x_percentile50: 0.014286355581131803\n",
      "gyro_z_percentile50: 0.014264615022091712\n",
      "gyro_z_percentile75: 0.01423650054872947\n",
      "gyro_x_mean: 0.014187109448299507\n",
      "gyro_y_percentile25: 0.014159242935734133\n",
      "gyro_z_mean: 0.01404204009477719\n",
      "Speed_percentile25: 0.01389379053725099\n",
      "gyro_z_percentile25: 0.01385826795215977\n",
      "gyro_x_percentile75: 0.013849086467336872\n",
      "Bearing_percentile50: 0.013676074430853115\n",
      "acceleration_x_percentile75: 0.013644319090605688\n",
      "Accuracy_max: 0.013534086368805636\n",
      "acceleration_y_percentile25: 0.013480568414287415\n",
      "Bearing_mean: 0.013465361637243649\n",
      "acceleration_x_percentile50: 0.013351445976956935\n",
      "Bearing_percentile25: 0.013348612188771692\n",
      "Bearing_max: 0.013323422702145793\n",
      "acceleration_y_percentile50: 0.013186528540429253\n",
      "acceleration_x_percentile25: 0.01311500431310118\n",
      "acceleration_x_mean: 0.013056052790100536\n",
      "acceleration_y_percentile75: 0.012800778280513712\n",
      "acceleration_y_mean: 0.012625662558063869\n",
      "acceleration_z_percentile25: 0.012235140328429182\n",
      "acceleration_z_percentile75: 0.012105588320619292\n",
      "acceleration_z_percentile50: 0.011807858441438262\n",
      "acceleration_z_mean: 0.011700057956192826\n",
      "Accuracy_percentile50: 0.009503409823146618\n",
      "Accuracy_percentile25: 0.009072973427108723\n",
      "Accuracy_percentile75: 0.00788846031485258\n",
      "Bearing_min: 0.007378484998556953\n",
      "Speed_min: 0.005228151767363831\n",
      "Accuracy_min: 0.003787771537823624\n"
     ]
    }
   ],
   "source": [
    "print('Feature importances: ')\n",
    "for col, imp in importances:\n",
    "    print('{}: {}'.format(col, imp))"
   ]
  }
 ],
 "metadata": {
  "kernelspec": {
   "display_name": "Python 3",
   "language": "python",
   "name": "python3"
  },
  "language_info": {
   "codemirror_mode": {
    "name": "ipython",
    "version": 3
   },
   "file_extension": ".py",
   "mimetype": "text/x-python",
   "name": "python",
   "nbconvert_exporter": "python",
   "pygments_lexer": "ipython3",
   "version": "3.6.5"
  },
  "pycharm": {
   "stem_cell": {
    "cell_type": "raw",
    "metadata": {
     "collapsed": false
    },
    "source": []
   }
  }
 },
 "nbformat": 4,
 "nbformat_minor": 1
}
